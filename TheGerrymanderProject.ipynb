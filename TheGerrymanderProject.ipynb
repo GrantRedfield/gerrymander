{
  "nbformat": 4,
  "nbformat_minor": 0,
  "metadata": {
    "colab": {
      "name": "TheGerrymanderProject.ipynb",
      "provenance": [],
      "collapsed_sections": []
    },
    "kernelspec": {
      "name": "python3",
      "display_name": "Python 3"
    },
    "language_info": {
      "name": "python"
    }
  },
  "cells": [
    {
      "cell_type": "markdown",
      "metadata": {
        "id": "aUUsijeg_KV9"
      },
      "source": [
        "# The Gerrymander Project\n",
        "Data Exploration and Dynamic Programming for detecting regions at risk for gerrymandering intended to exploit votes for political gain.\n",
        "\n",
        "---\n",
        "\n",
        "\n",
        "\n",
        "\n",
        "\n"
      ]
    },
    {
      "cell_type": "markdown",
      "metadata": {
        "id": "D18KkNxwEDEw"
      },
      "source": [
        "CS 5012, August 2021\n",
        "\n",
        "\n",
        "Alexander DeLuca, mcg4aw@virginia.edu\n",
        "\n",
        "Kelly Farrell, knf7vg@virginia.edu\n",
        "\n",
        "Samy Kebaish, sak3qf@virginia.edu\n",
        "\n",
        "Grant Redfield, tnx7bh@virginia.edu\n",
        "\n",
        "Matthew Sachs, mds9b@virginia.edu\n",
        "\n",
        "Anita Taucher, agt4vw@virginia.edu"
      ]
    },
    {
      "cell_type": "markdown",
      "metadata": {
        "id": "KTgSM3YsAd0b"
      },
      "source": [
        "## Introduction"
      ]
    },
    {
      "cell_type": "markdown",
      "metadata": {
        "id": "nRU3TOLiAf2O"
      },
      "source": [
        "## The Problem"
      ]
    },
    {
      "cell_type": "markdown",
      "metadata": {
        "id": "ps0ErNjMDIEq"
      },
      "source": [
        "## The Data\n",
        "\n",
        "Voter Registration data by precinct and district is maintained by states.  There is not a central federal database that tracks the state breakdowns and voter registrations.  This makes sense because voting is executed by each state, and they have leeway to maintain voting data as they see necessary; but it makes our goal a little more difficult to reach.\n",
        "\n",
        "Not all states maintain voter registration data by party.  In fact, not all states require a party declaration for voters during registration.\n",
        "\n",
        "For the scope of our project, we have chosen to target states where data is available with the following breakdown:\n",
        "\n",
        "* Precinct\n",
        "\n",
        "* District\n",
        "\n",
        "* Registered Republicans\n",
        "\n",
        "* Registered Democrats\n"
      ]
    },
    {
      "cell_type": "markdown",
      "metadata": {
        "id": "SSTFnF4iqfBQ"
      },
      "source": [
        "### Storage\n",
        "For data storage and retrieval we are using SQLite.  Here, we establish a connection to the database and define a cursor to be used throughout the project."
      ]
    },
    {
      "cell_type": "code",
      "metadata": {
        "id": "gnyphm3hrXdE"
      },
      "source": [
        "import sqlite3 # https://docs.python.org/3/library/sqlite3.html\n",
        "import pandas as pd\n",
        "import matplotlib.pyplot as plt\n",
        "import seaborn as sns\n",
        "import scipy.stats  as stats\n",
        "import math\n",
        "import numpy as np\n",
        "\n",
        "## Establish a connection to our database\n",
        "conn = sqlite3.connect('gerrymander.db')\n",
        "\n",
        "## Create a cursor to execute commands through the connection\n",
        "cursor = conn.cursor()\n"
      ],
      "execution_count": 18,
      "outputs": []
    },
    {
      "cell_type": "markdown",
      "metadata": {
        "id": "Q3cjCjRa4S38"
      },
      "source": [
        "### Redeploy the Database every time\n",
        "\n",
        "To make it easier to rebuild and deploy to new environments, we have provided a \"recreate\" flag.  When recreate is True, we drop existing tables and recreate them from scratch.  We also prefer to recreate for an easier delivery of the .ipynb file; anyone can deploy the entire database on their preferred notebook platform.\n",
        "\n",
        "Our approach for inserting data is efficient and fast, so rebuilding is clean, quick, and easy."
      ]
    },
    {
      "cell_type": "code",
      "metadata": {
        "id": "nEH2Zat2rowu"
      },
      "source": [
        "## When recreate is True, we drop all database tables and recreate them for an updated, clean deployment.\n",
        "\n",
        "recreate = True\n",
        "\n",
        "if recreate == True:\n",
        "\n",
        "  cursor.execute(\"DROP TABLE IF EXISTS precinct\")\n",
        "  cursor.execute(\"DROP TABLE IF EXISTS party\")\n",
        "  conn.commit()\n",
        "\n",
        "  # Quick verification to make sure everything was dropped\n",
        "  cursor.execute(\"SELECT name FROM sqlite_master WHERE type='table'\")\n",
        "  cursor.fetchall()\n",
        "\n"
      ],
      "execution_count": 19,
      "outputs": []
    },
    {
      "cell_type": "markdown",
      "metadata": {
        "id": "5GJyNeC_5KpK"
      },
      "source": [
        "### Talk to GitHub\n",
        "We store the scripts for building the database, including the data and schema, in a github repository.  We are using python's urllib3 library to communicate over https.  In this step, as required by urllib3, we define a pool manager to communicate over https with our github repo."
      ]
    },
    {
      "cell_type": "code",
      "metadata": {
        "id": "bjs2nOzOqghR"
      },
      "source": [
        "## Our SQL Scripts are in Github\n",
        "## prepare to read from github\n",
        "import urllib3\n",
        "urllib3.disable_warnings(urllib3.exceptions.InsecureRequestWarning)\n",
        "\n",
        "gitread = urllib3.PoolManager()\n"
      ],
      "execution_count": 20,
      "outputs": []
    },
    {
      "cell_type": "markdown",
      "metadata": {
        "id": "PUtLkgvJ241n"
      },
      "source": [
        "Gerry Mandering Setup"
      ]
    },
    {
      "cell_type": "code",
      "metadata": {
        "id": "AJpRKbIi22Wo"
      },
      "source": [
        "class NDSparseMatrix:\n",
        "  def __init__(self):\n",
        "    self.elements = {}\n",
        "\n",
        "  def addValue(self, tuple, value):\n",
        "    self.elements[tuple] = value\n",
        "\n",
        "  def readValue(self, tuple):\n",
        "    try:\n",
        "      value = self.elements[tuple]\n",
        "    except KeyError:\n",
        "      value = 0\n",
        "    return value\n",
        "\n",
        "\n",
        "SuperMatrix = NDSparseMatrix()\n",
        "SuperMatrix.addValue((0,0,0,0), 1)\n",
        "\n",
        "\n",
        "def GerryManderingIdentifier(df):\n",
        "    Percent_Done_List = [\"25\", \"50\", \"75\"]\n",
        "    i = 0\n",
        "    Number_of_Precincts = len(df.index) - 1\n",
        "    Total_Votes = df['Total_Votes'].sum().astype(int)\n",
        "    Half_Precincts = math.ceil(Number_of_Precincts/2)\n",
        "    Total_Matrix_Size = Number_of_Precincts * Number_of_Precincts * Total_Votes * Total_Votes\n",
        "    count = 0\n",
        "    Percent_Done = .25 * Total_Matrix_Size\n",
        "    for j in range(1, Number_of_Precincts + 1):\n",
        "        for k in range(1, Number_of_Precincts + 1):\n",
        "            for x in range(0, Total_Votes + 1):\n",
        "                for y in range(0, Total_Votes + 1):\n",
        "                    count = count + 1\n",
        "                    if count > Percent_Done and i < 3:\n",
        "                      print(Percent_Done_List[i],\"% Done\")\n",
        "                      Percent_Done = Percent_Done + (.25 * Total_Matrix_Size)\n",
        "                      i = i + 1\n",
        "                    if SuperMatrix.readValue((j - 1,k - 1, x - df['REP_VOTES'][j],y)) == 1 or SuperMatrix.readValue((j - 1,k,x,y - df['REP_VOTES'][j])) == 1:\n",
        "                        SuperMatrix.addValue((j, k, x, y), 1)  \n",
        "                    if j == (Number_of_Precincts) and k == (Half_Precincts) and x > Total_Votes/4 and y > Total_Votes/4 and SuperMatrix.readValue((j, k, x, y)) == 1:\n",
        "                        print(\"final J\", j)\n",
        "                        print(\"final K\", k)\n",
        "                        print(\"final X\", x)\n",
        "                        print(\"final Y\", y)\n",
        "                        return True\n",
        "                        break\n",
        "    return False\n",
        "\n",
        "\n",
        "\n",
        "\n",
        "\n",
        "\n"
      ],
      "execution_count": 49,
      "outputs": []
    },
    {
      "cell_type": "markdown",
      "metadata": {
        "id": "BFouLr3VRey6"
      },
      "source": [
        "Example Dataset to Test GerryMandering"
      ]
    },
    {
      "cell_type": "code",
      "metadata": {
        "colab": {
          "base_uri": "https://localhost:8080/"
        },
        "id": "j0tloVafRd_I",
        "outputId": "77696121-928f-4aa3-d811-3bc8285569e1"
      },
      "source": [
        "precinct_data = pd.DataFrame()\n",
        "precinct_data = precinct_data.append(pd.DataFrame({\"Presinct\":\"DUMMY ROW\",\"District\": 0,\"REP_VOTES\":0, \"DEM_VOTES\": 0, \"Total_Votes\": 0},index=[0]))\n",
        "precinct_data = precinct_data.append(pd.DataFrame({\"Presinct\":\"1-99092\",\"District\": 1,\"REP_VOTES\":65, \"DEM_VOTES\": 35, \"Total_Votes\": 100},index=[0]))\n",
        "precinct_data = precinct_data.append(pd.DataFrame({\"Presinct\":\"1-99093\",\"District\": 1,\"REP_VOTES\":60, \"DEM_VOTES\": 40, \"Total_Votes\": 100},index=[0]))\n",
        "precinct_data = precinct_data.append(pd.DataFrame({\"Presinct\":\"1-99094\",\"District\": 2,\"REP_VOTES\":45, \"DEM_VOTES\": 55, \"Total_Votes\": 100},index=[0]))\n",
        "precinct_data = precinct_data.append(pd.DataFrame({\"Presinct\":\"1-99095\",\"District\": 2,\"REP_VOTES\":47, \"DEM_VOTES\": 53, \"Total_Votes\": 100},index=[0]))\n",
        "precinct_data.reset_index(inplace = True)    \n",
        "precinct_data.drop('index',axis=1,inplace=True)\n",
        "\n",
        "\n",
        "\n",
        "LetsRun = GerryManderingIdentifier(precinct_data)\n",
        "\n",
        "if LetsRun:\n",
        "    print(\"GerryMandering is possible\")\n",
        "else:\n",
        "    print(\"GerryMandering is not possible\")\n",
        "\n",
        "\n"
      ],
      "execution_count": 51,
      "outputs": [
        {
          "output_type": "stream",
          "text": [
            "25 % Done\n",
            "50 % Done\n",
            "75 % Done\n",
            "final J 4\n",
            "final K 2\n",
            "final X 110\n",
            "final Y 107\n",
            "GerryMandering is possible\n"
          ],
          "name": "stdout"
        }
      ]
    },
    {
      "cell_type": "markdown",
      "metadata": {
        "id": "JX_L9nP251-J"
      },
      "source": [
        "### Build the tables\n",
        "\n",
        "In this step we build the schema structure.  The create statements are stored in scripts in github, so this section shows executing the contents of the tables.sql script that we read from github.\n",
        "\n",
        "We have two tables in our schema:  \n",
        "*  Precinct:  Holds all data for precincts, districts, and number of voter registrations by party.  There is a row for every party in each precinct, so precinct is not a unique key.  Additionally, within states, precinct is not unique, it must be used with district.\n",
        "\n",
        "* party:  An id and party name, just to keep the party data consistent within our datbase - party names and abbreviations change between states, but here we want them to be consistent.  Party can be joined with precinct on precinct.party = party.id\n"
      ]
    },
    {
      "cell_type": "code",
      "metadata": {
        "id": "u_05MUkvDZzE",
        "colab": {
          "base_uri": "https://localhost:8080/"
        },
        "outputId": "a399cfa0-62a8-4afb-dbad-45d7774a2afb"
      },
      "source": [
        "## Build the table structure\n",
        "## We have two tables:  party and precinct\n",
        "\n",
        "## The github url for the tables script\n",
        "create_tables = 'https://raw.githubusercontent.com/Sartire/gerrymander/main/State_Data/tables.sql'\n",
        "\n",
        "## GET contents of the tables.sql script from github\n",
        "dat = gitread.request(\"GET\", create_tables)\n",
        "\n",
        "## Execute the table creation commands \n",
        "cursor.executescript(dat.data.decode(\"utf-8\"))\n",
        "\n",
        "## Commit Schema Changes\n",
        "conn.commit()\n",
        "\n",
        "## Let's see the names of the tables we built\n",
        "ourtables = cursor.execute(\"SELECT name FROM sqlite_master WHERE type='table'\")\n",
        "\n",
        "if ourtables:\n",
        "  print('\\nTables in the Gerrymander Database\\n')\n",
        "  for atable in ourtables:\n",
        "    print(\"\\t\"+atable[0])\n"
      ],
      "execution_count": 21,
      "outputs": [
        {
          "output_type": "stream",
          "text": [
            "\n",
            "Tables in the Gerrymander Database\n",
            "\n",
            "\tprecinct\n",
            "\tparty\n"
          ],
          "name": "stdout"
        }
      ]
    },
    {
      "cell_type": "markdown",
      "metadata": {
        "id": "INZPOin09Mix"
      },
      "source": [
        "### Arizona\n",
        "\n",
        "Here, we load the data from Arizona into our database.  The data is from Kaggle, and was suggested as our \"stake in the sand\" data.  Since Arizona's data had an entry for every party for each precinct, all of our data will follow the same format, no matter its original layout.\n",
        "\n",
        "[Arizona Data on Kaggle](https://www.kaggle.com/arizonaSecofState/arizona-voter-registration-by-precinct)"
      ]
    },
    {
      "cell_type": "code",
      "metadata": {
        "id": "FXaIP5nM2tDD",
        "colab": {
          "base_uri": "https://localhost:8080/"
        },
        "outputId": "b68f52f9-ad92-43b9-f10c-3a8f47b1b248"
      },
      "source": [
        "## Arizona!\n",
        "cursor.execute(\"DELETE FROM precinct WHERE STATE = 'AZ'\")\n",
        "conn.commit()\n",
        "\n",
        "az_url = 'https://raw.githubusercontent.com/Sartire/gerrymander/main/State_Data/az/az.insert.sql'\n",
        "\n",
        "## GET contents of the script from a github url \n",
        "dat = gitread.request(\"GET\", az_url)\n",
        "\n",
        "## INSERT Data using statements from the github insert script\n",
        "cursor.executescript(dat.data.decode(\"utf-8\"))\n",
        "conn.commit()\n",
        "\n",
        "## Quick verification that data was loaded for this state\n",
        "cursor.execute(\"SELECT count(*) from precinct\")\n",
        "verify = cursor.fetchone()[0]\n",
        "\n",
        "cursor.execute(\"SELECT sum(voters), party from precinct where state = 'AZ' group by party order by 1 DESC\")\n",
        "print(verify, cursor.fetchall())"
      ],
      "execution_count": 22,
      "outputs": [
        {
          "output_type": "stream",
          "text": [
            "7270 [(1308384, 'REP'), (1251984, 'OTH'), (1169259, 'DEM'), (32096, 'LBT'), (6535, 'GRN')]\n"
          ],
          "name": "stdout"
        }
      ]
    },
    {
      "cell_type": "markdown",
      "metadata": {
        "id": "LfwaHd8hjGSs"
      },
      "source": [
        "Arizona GerryMandering Example"
      ]
    },
    {
      "cell_type": "code",
      "metadata": {
        "id": "YNbJZEuZjFGc"
      },
      "source": [
        "#ARIZONA\n",
        "\n",
        "sql = '''\n",
        "SELECT * from precinct where state = 'AZ'\n",
        "'''\n",
        "Arizona = pd.read_sql_query(sql, conn)\n",
        "\n",
        "#Arizona = Arizona[((Arizona[\"PRECINCT\"] == \"AP0002\") |   (Arizona[\"PRECINCT\"] == \"AP0003\") | (Arizona[\"PRECINCT\"] == \"AP0005\") | (Arizona[\"PRECINCT\"] == \"AP0009\")) & ((Arizona[\"PARTY\"] == \"REP\") |  (Arizona[\"PARTY\"] == \"DEM\")) ]\n",
        "\n",
        "Arizona = Arizona[ ((Arizona[\"PARTY\"] == \"REP\") |  (Arizona[\"PARTY\"] == \"DEM\")) ]\n",
        "\n",
        "#Lets transform our data so each presinct has data on one row\n",
        "Arizona = pd.merge(Arizona, Arizona, on = 'PRECINCT', how=\"left\")\n",
        "\n",
        "#Remove Duplicates due to Left Join Logic\n",
        "Arizona = Arizona[((Arizona[\"PARTY_x\"] == \"DEM\") & (Arizona[\"PARTY_x\"] != Arizona[\"PARTY_y\"])) ]\n",
        "\n",
        "#Drop Unnecessary Columns\n",
        "Arizona = Arizona.drop(columns = ['DISTRICT_x', 'PARTY_x', 'DISTRICT_y', 'PARTY_y', 'STATE_y', 'STATE_x'], axis=1)\n",
        "\n",
        "Arizona.columns = ['Precinct', 'DEM_VOTES', 'REP_VOTES']\n",
        "Arizona['Total_Votes'] = Arizona['DEM_VOTES'] + Arizona['REP_VOTES']\n",
        "\n",
        "\n",
        "#Some Presincts have only 1 or 2 voters. Lets look at Prescincts that have more than 100 total DEM/REP Voters\n",
        "Arizona = Arizona[(Arizona[\"Total_Votes\"] > 100)]\n",
        "Arizona.sort_values(by=['Total_Votes'], inplace=True)\n",
        "\n",
        "Arizona = Arizona.head(6)\n",
        "\n",
        "#Need an empty row in the 0th index\n",
        "empty_df = pd.DataFrame([[np.nan] * len(Arizona.columns)], columns=Arizona.columns)\n",
        "Arizona = empty_df.append(Arizona, ignore_index=True)\n",
        "Arizona = Arizona.reset_index(drop=True)\n",
        "\n",
        "\n",
        "if GerryManderingIdentifier(Arizona):\n",
        "  print(\"GerryMandering Possible In Arizona District\")\n",
        "else:\n",
        "  print(\"GerryMandering Not Possible In Arizona District\")"
      ],
      "execution_count": null,
      "outputs": []
    },
    {
      "cell_type": "markdown",
      "metadata": {
        "id": "Vi_JgRuyBwA8"
      },
      "source": [
        "### Kentucky\n",
        "\n",
        "The state of Kentucky updates and publishes voter registration on a regular basis.  Here, we are using data from July 2021.\n",
        "\n",
        "[Kentucky Data](https://elect.ky.gov/Resources/Documents/voterstatsprecinct-20210715-090237.pdf)\n"
      ]
    },
    {
      "cell_type": "code",
      "metadata": {
        "id": "lKtyVWzivSC7",
        "colab": {
          "base_uri": "https://localhost:8080/"
        },
        "outputId": "5f522f2e-282f-48ae-e0f8-a2c4c9821ecc"
      },
      "source": [
        "## Kentucky!\n",
        "cursor.execute(\"DELETE FROM precinct WHERE STATE = 'KY'\")\n",
        "conn.commit()\n",
        "\n",
        "ky_url = 'https://raw.githubusercontent.com/Sartire/gerrymander/main/State_Data/ky/ky.insert.sql'\n",
        "\n",
        "## GET contents of the script from a github url \n",
        "dat = gitread.request(\"GET\", ky_url)\n",
        "\n",
        "## INSERT Data using statements from the github insert script\n",
        "cursor.executescript(dat.data.decode(\"utf-8\"))\n",
        "conn.commit()\n",
        "\n",
        "## Quick verification that data was loaded for this state\n",
        "cursor.execute(\"SELECT count(*) from precinct\")\n",
        "verify = cursor.fetchone()[0]\n",
        "\n",
        "cursor.execute(\"SELECT sum(voters), party from precinct where state = 'KY' group by party order by 1 DESC\")\n",
        "print(verify, cursor.fetchall())"
      ],
      "execution_count": 25,
      "outputs": [
        {
          "output_type": "stream",
          "text": [
            "40498 [(1649790, 'DEM'), (1576259, 'REP'), (184839, 'OTH'), (131242, 'IND'), (14326, 'LBT'), (2014, 'GRN'), (1012, 'CONST'), (322, 'SOCWK'), (157, 'REFORM')]\n"
          ],
          "name": "stdout"
        }
      ]
    },
    {
      "cell_type": "code",
      "metadata": {
        "colab": {
          "base_uri": "https://localhost:8080/"
        },
        "id": "VLjXj5R4jPgz",
        "outputId": "b3db8f22-f2d1-4ead-d142-da7c2b963bc1"
      },
      "source": [
        "#Kentucky\n",
        "\n",
        "sql = '''\n",
        "SELECT * from precinct where state = 'KY'\n",
        "'''\n",
        "Kentucky = pd.read_sql_query(sql, conn)\n",
        "\n",
        "Kentucky = Kentucky[ ((Kentucky[\"PARTY\"] == \"REP\") |  (Kentucky[\"PARTY\"] == \"DEM\")) ]\n",
        "\n",
        "#Lets transform our data so each presinct has data on one row\n",
        "Kentucky = pd.merge(Kentucky, Kentucky, on = 'PRECINCT', how=\"left\")\n",
        "\n",
        "\n",
        "#Remove Duplicates due to Left Join Logic\n",
        "Kentucky = Kentucky[((Kentucky[\"PARTY_x\"] == \"DEM\") & (Kentucky[\"PARTY_x\"] != Kentucky[\"PARTY_y\"])) ]\n",
        "\n",
        "#Drop Unnecessary Columns\n",
        "Kentucky = Kentucky.drop(columns = ['DISTRICT_x', 'PARTY_x', 'DISTRICT_y', 'PARTY_y', 'STATE_y', 'STATE_x'], axis=1)\n",
        "\n",
        "Kentucky.columns = ['Precinct', 'DEM_VOTES', 'REP_VOTES']\n",
        "Kentucky['Total_Votes'] = Kentucky['DEM_VOTES'] + Kentucky['REP_VOTES']\n",
        "\n",
        "\n",
        "#Some Presincts have only 1 or 2 voters. Lets look at Prescincts that have more than 100 total DEM/REP Voters\n",
        "Kentucky = Kentucky[(Kentucky[\"Total_Votes\"] > 100)]\n",
        "Kentucky.sort_values(by=['Total_Votes'], inplace=True)\n",
        "\n",
        "Kentucky = Kentucky.head(6)\n",
        "\n",
        "#Need an empty row in the 0th index\n",
        "empty_df = pd.DataFrame([[np.nan] * len(Kentucky.columns)], columns=Kentucky.columns)\n",
        "Kentucky = empty_df.append(Kentucky, ignore_index=True)\n",
        "Kentucky = Kentucky.reset_index(drop=True)\n",
        "\n",
        "\n",
        "if GerryManderingIdentifier(Kentucky):\n",
        "  print(\"GerryMandering Possible In Kentucky District\")\n",
        "else:\n",
        "  print(\"GerryMandering Not Possible In Kentucky District\")"
      ],
      "execution_count": 67,
      "outputs": [
        {
          "output_type": "stream",
          "text": [
            "       STATE_x PRECINCT  DISTRICT_x  ...  DISTRICT_y  PARTY_y VOTERS_y\n",
            "0           KY     A102  1-16-051-3  ...  1-16-051-3      DEM       70\n",
            "1           KY     A102  1-16-051-3  ...  1-16-051-3      REP      369\n",
            "2           KY     A102  1-16-051-3  ...  1-09-022-1      DEM      356\n",
            "3           KY     A102  1-16-051-3  ...  1-09-022-1      REP      872\n",
            "4           KY     A102  1-16-051-3  ...  6-07-053-5      DEM      711\n",
            "...        ...      ...         ...  ...         ...      ...      ...\n",
            "555923      KY     H103  6-07-056-5  ...  1-14-024-3      REP      144\n",
            "555924      KY     H103  6-07-056-5  ...  4-26-033-6      DEM      551\n",
            "555925      KY     H103  6-07-056-5  ...  4-26-033-6      REP      831\n",
            "555926      KY     H103  6-07-056-5  ...  6-07-056-5      DEM      508\n",
            "555927      KY     H103  6-07-056-5  ...  6-07-056-5      REP      613\n",
            "\n",
            "[555928 rows x 9 columns]\n",
            "25 % Done\n",
            "50 % Done\n",
            "75 % Done\n",
            "final J 6\n",
            "final K 3\n",
            "final X 154\n",
            "final Y 186\n",
            "GerryMandering Possible In Kentucky District\n"
          ],
          "name": "stdout"
        }
      ]
    },
    {
      "cell_type": "markdown",
      "metadata": {
        "id": "lH9uUmsWhP-E"
      },
      "source": [
        "### Rhode Island\n",
        "\n",
        "Rhode Island maintains a searchable database of voter information.  This data is from August 2021.\n",
        "\n",
        "[Rhode Island Voter Information](https://app.powerbigov.us/view?r=eyJrIjoiZmNjMDYyYzUtOTRjMS00OWUzLThlNzQtNTBhNjU0ZDdkMmQ5IiwidCI6IjJkMGYxZGI2LWRkNTktNDc3Mi04NjVmLTE5MTQxNzVkMDdjMiJ9)"
      ]
    },
    {
      "cell_type": "code",
      "metadata": {
        "colab": {
          "base_uri": "https://localhost:8080/"
        },
        "id": "MnwUEV_ypnS4",
        "outputId": "36558323-21dd-4317-bec0-b3a8007254ea"
      },
      "source": [
        "## Rhode Island\n",
        "## https://app.powerbigov.us/view?r=eyJrIjoiZmNjMDYyYzUtOTRjMS00OWUzLThlNzQtNTBhNjU0ZDdkMmQ5IiwidCI6IjJkMGYxZGI2LWRkNTktNDc3Mi04NjVmLTE5MTQxNzVkMDdjMiJ9\n",
        "\n",
        "cursor.execute(\"DELETE FROM precinct WHERE STATE = 'RI'\")\n",
        "conn.commit()\n",
        "\n",
        "ri_url = 'https://raw.githubusercontent.com/Sartire/gerrymander/main/State_Data/ri/riinsert.sql'\n",
        "\n",
        "## GET contents of the script from a github url \n",
        "dat = gitread.request(\"GET\", ri_url)\n",
        "\n",
        "## INSERT Data using statements from the github insert script\n",
        "cursor.executescript(dat.data.decode(\"utf-8\"))\n",
        "conn.commit()\n",
        "\n",
        "## Quick verification that data was loaded for this state\n",
        "cursor.execute(\"SELECT count(*) from precinct\")\n",
        "verify = cursor.fetchone()[0]\n",
        "\n",
        "cursor.execute(\"SELECT sum(voters), party from precinct where state = 'RI' group by party order by 1 DESC\")\n",
        "print(verify, cursor.fetchall())\n",
        "\n",
        "cursor.execute(\"SELECT * from precinct where state = 'RI' and precinct='101'\" )\n",
        "cursor.fetchall()"
      ],
      "execution_count": 70,
      "outputs": [
        {
          "output_type": "stream",
          "text": [
            "57500 [(307416, 'OTH'), (299607, 'REP'), (99116, 'DEM')]\n"
          ],
          "name": "stdout"
        },
        {
          "output_type": "execute_result",
          "data": {
            "text/plain": [
              "[('RI', '101', 'Barrington', 'REP', 973),\n",
              " ('RI', '101', 'Barrington', 'DEM', 343),\n",
              " ('RI', '101', 'Barrington', 'OTH', 954)]"
            ]
          },
          "metadata": {
            "tags": []
          },
          "execution_count": 70
        }
      ]
    },
    {
      "cell_type": "code",
      "metadata": {
        "colab": {
          "base_uri": "https://localhost:8080/"
        },
        "id": "-l16fpabj7pK",
        "outputId": "c3a79642-0c8e-4c4a-d47e-2833244b22e5"
      },
      "source": [
        "#RhodeIsland\n",
        "\n",
        "sql = '''\n",
        "SELECT * from precinct where state = 'RI'\n",
        "'''\n",
        "RhodeIsland = pd.read_sql_query(sql, conn)\n",
        "\n",
        "RhodeIsland = RhodeIsland[ ((RhodeIsland[\"PARTY\"] == \"REP\") |  (RhodeIsland[\"PARTY\"] == \"DEM\")) ]\n",
        "\n",
        "#Lets transform our data so each presinct has data on one row\n",
        "RhodeIsland = pd.merge(RhodeIsland, RhodeIsland, on = 'PRECINCT', how=\"left\")\n",
        "\n",
        "\n",
        "#Remove Duplicates due to Left Join Logic\n",
        "RhodeIsland = RhodeIsland[((RhodeIsland[\"PARTY_x\"] == \"DEM\") & (RhodeIsland[\"PARTY_x\"] != RhodeIsland[\"PARTY_y\"])) ]\n",
        "\n",
        "#Drop Unnecessary Columns\n",
        "RhodeIsland = RhodeIsland.drop(columns = ['DISTRICT_x', 'PARTY_x', 'DISTRICT_y', 'PARTY_y', 'STATE_y', 'STATE_x'], axis=1)\n",
        "\n",
        "RhodeIsland.columns = ['Precinct', 'DEM_VOTES', 'REP_VOTES']\n",
        "RhodeIsland['Total_Votes'] = RhodeIsland['DEM_VOTES'] + RhodeIsland['REP_VOTES']\n",
        "\n",
        "\n",
        "#Some Presincts have only 1 or 2 voters. Lets look at Prescincts that have more than 100 total DEM/REP Voters\n",
        "RhodeIsland = RhodeIsland[(RhodeIsland[\"Total_Votes\"] > 100)]\n",
        "RhodeIsland.sort_values(by=['Total_Votes'], inplace=True)\n",
        "\n",
        "RhodeIsland = RhodeIsland.head(6)\n",
        "\n",
        "#Need an empty row in the 0th index\n",
        "empty_df = pd.DataFrame([[np.nan] * len(RhodeIsland.columns)], columns=RhodeIsland.columns)\n",
        "RhodeIsland = empty_df.append(RhodeIsland, ignore_index=True)\n",
        "RhodeIsland = RhodeIsland.reset_index(drop=True)\n",
        "\n",
        "\n",
        "if GerryManderingIdentifier(RhodeIsland):\n",
        "  print(\"GerryMandering Possible In Rhode Island District\")\n",
        "else:\n",
        "  print(\"GerryMandering Not Possible In Rhode Island District\")"
      ],
      "execution_count": 72,
      "outputs": [
        {
          "output_type": "stream",
          "text": [
            "25 % Done\n",
            "50 % Done\n",
            "75 % Done\n",
            "final J 6\n",
            "final K 3\n",
            "final X 202\n",
            "final Y 383\n",
            "GerryMandering Possible In Rhode Island District\n"
          ],
          "name": "stdout"
        }
      ]
    },
    {
      "cell_type": "markdown",
      "metadata": {
        "id": "_muoz7nJiZt0"
      },
      "source": [
        "### Alaska\n",
        "\n",
        "Alaska publishes voter party affiliation by precinct and district on their elections website.  This data is from August 2021.\n",
        "\n",
        "[Alaska Voter Statistics](https://www.elections.alaska.gov/statistics/2021/AUG/VOTERS%20BY%20PARTY%20AND%20PRECINCT.htm)"
      ]
    },
    {
      "cell_type": "code",
      "metadata": {
        "id": "H6KFDkbjQisf",
        "colab": {
          "base_uri": "https://localhost:8080/"
        },
        "outputId": "bff0ea98-7c9e-4202-f72e-7d686bc61093"
      },
      "source": [
        "## Alaska\n",
        "## https://www.elections.alaska.gov/statistics/2021/AUG/VOTERS%20BY%20PARTY%20AND%20PRECINCT.htm\n",
        "\n",
        "cursor.execute(\"DELETE FROM precinct WHERE STATE = 'AK'\")\n",
        "conn.commit()\n",
        "\n",
        "ak_url = 'https://raw.githubusercontent.com/Sartire/gerrymander/main/State_Data/ak/ak.insert.sql'\n",
        "\n",
        "## GET contents of the script from a github url \n",
        "dat = gitread.request(\"GET\", ak_url)\n",
        "\n",
        "## INSERT Data using statements from the github insert script\n",
        "cursor.executescript(dat.data.decode(\"utf-8\"))\n",
        "conn.commit()\n",
        "\n",
        "## Quick verification that data was loaded for this state\n",
        "cursor.execute(\"SELECT count(*) from precinct\")\n",
        "verify = cursor.fetchone()[0]\n",
        "\n",
        "cursor.execute(\"SELECT sum(voters), party from precinct where state = 'AK' group by party order by 1 DESC\")\n",
        "print(verify, cursor.fetchall())\n",
        "\n",
        "cursor.execute(\"SELECT * from precinct where state = 'AK' and precinct='36-690'\" )\n",
        "cursor.fetchall()\n"
      ],
      "execution_count": 73,
      "outputs": [
        {
          "output_type": "stream",
          "text": [
            "57500 [(352988, 'OTH'), (144186, 'REP'), (78984, 'DEM'), (18923, 'AKI')]\n"
          ],
          "name": "stdout"
        },
        {
          "output_type": "execute_result",
          "data": {
            "text/plain": [
              "[('AK', '36-690', '36', 'AKI', 65),\n",
              " ('AK', '36-690', '36', 'DEM', 154),\n",
              " ('AK', '36-690', '36', 'REP', 544),\n",
              " ('AK', '36-690', '36', 'OTH', 1198)]"
            ]
          },
          "metadata": {
            "tags": []
          },
          "execution_count": 73
        }
      ]
    },
    {
      "cell_type": "code",
      "metadata": {
        "colab": {
          "base_uri": "https://localhost:8080/"
        },
        "id": "mZTcurdqkWZe",
        "outputId": "b07b76d6-cf7f-4c93-b4dd-7d8abb5bb35f"
      },
      "source": [
        "#Alaska\n",
        "\n",
        "sql = '''\n",
        "SELECT * from precinct where state = 'AK'\n",
        "'''\n",
        "Alaska = pd.read_sql_query(sql, conn)\n",
        "\n",
        "Alaska = Alaska[ ((Alaska[\"PARTY\"] == \"REP\") |  (Alaska[\"PARTY\"] == \"DEM\")) ]\n",
        "\n",
        "#Lets transform our data so each presinct has data on one row\n",
        "Alaska = pd.merge(Alaska, Alaska, on = 'PRECINCT', how=\"left\")\n",
        "\n",
        "\n",
        "#Remove Duplicates due to Left Join Logic\n",
        "Alaska = Alaska[((Alaska[\"PARTY_x\"] == \"DEM\") & (Alaska[\"PARTY_x\"] != Alaska[\"PARTY_y\"])) ]\n",
        "\n",
        "#Drop Unnecessary Columns\n",
        "Alaska = Alaska.drop(columns = ['DISTRICT_x', 'PARTY_x', 'DISTRICT_y', 'PARTY_y', 'STATE_y', 'STATE_x'], axis=1)\n",
        "\n",
        "Alaska.columns = ['Precinct', 'DEM_VOTES', 'REP_VOTES']\n",
        "Alaska['Total_Votes'] = Alaska['DEM_VOTES'] + Alaska['REP_VOTES']\n",
        "\n",
        "\n",
        "#Some Presincts have only 1 or 2 voters. Lets look at Prescincts that have more than 100 total DEM/REP Voters\n",
        "Alaska = Alaska[(Alaska[\"Total_Votes\"] > 100)]\n",
        "Alaska.sort_values(by=['Total_Votes'], inplace=True)\n",
        "\n",
        "Alaska = Alaska.head(6)\n",
        "\n",
        "#Need an empty row in the 0th index\n",
        "empty_df = pd.DataFrame([[np.nan] * len(Alaska.columns)], columns=Alaska.columns)\n",
        "Alaska = empty_df.append(Alaska, ignore_index=True)\n",
        "Alaska = Alaska.reset_index(drop=True)\n",
        "\n",
        "\n",
        "if GerryManderingIdentifier(Alaska):\n",
        "  print(\"GerryMandering Possible In Alaska District\")\n",
        "else:\n",
        "  print(\"GerryMandering Not Possible In Alaska District\")\n"
      ],
      "execution_count": 74,
      "outputs": [
        {
          "output_type": "stream",
          "text": [
            "25 % Done\n",
            "50 % Done\n",
            "75 % Done\n",
            "final J 6\n",
            "final K 3\n",
            "final X 156\n",
            "final Y 161\n",
            "GerryMandering Possible In Alaska District\n"
          ],
          "name": "stdout"
        }
      ]
    },
    {
      "cell_type": "code",
      "metadata": {
        "colab": {
          "base_uri": "https://localhost:8080/"
        },
        "id": "dWTHP9yWHPIW",
        "outputId": "13adb569-14d7-47b2-a67f-70b432b28d95"
      },
      "source": [
        "## North Carolina\n",
        "\n",
        "cursor.execute(\"DELETE FROM precinct WHERE STATE = 'NC'\")\n",
        "conn.commit()\n",
        "\n",
        "nc_url = 'https://raw.githubusercontent.com/Sartire/gerrymander/main/State_Data/nc/ncinsert.sql'\n",
        "\n",
        "## GET contents of the script from a github url \n",
        "dat = gitread.request(\"GET\", nc_url)\n",
        "\n",
        "## INSERT Data using statements from the github insert script\n",
        "cursor.executescript(dat.data.decode(\"utf-8\"))\n",
        "conn.commit()\n",
        "\n",
        "## Quick verification that data was loaded for this state\n",
        "cursor.execute(\"SELECT count(*) from precinct\")\n",
        "verify = cursor.fetchone()[0]\n",
        "\n",
        "cursor.execute(\"SELECT sum(voters), precinct from precinct where state = 'NC' group by precinct order by 1 DESC\")\n",
        "print(cursor.fetchall())\n",
        "\n",
        "cursor.execute(\"SELECT count(*), precinct, district from precinct where state = 'NC' group by precinct, district order by 1 DESC\")\n",
        "print(cursor.fetchall())"
      ],
      "execution_count": 75,
      "outputs": [
        {
          "output_type": "stream",
          "text": [
            "[(30003, '11.0'), (28750, '02'), (25509, '15.0'), (25010, '04'), (24789, '13.0'), (24032, '12.0'), (23639, '9.0'), (23262, '14.0'), (22525, '4.0'), (20931, '3.0'), (20215, '8.0'), (19938, '11'), (19535, '2.0'), (19143, '7.0'), (18042, '5.0'), (17422, '23'), (17393, '1.0'), (17138, '15'), (17087, '22.0'), (17067, '05'), (17040, '19.0'), (16835, '10.0'), (16639, '07'), (16590, '16.0'), (16582, '13'), (16551, '03'), (16512, '16'), (16326, '6.0'), (15980, '17.0'), (15793, '14'), (14697, '19'), (14566, '18.0'), (14549, 'PR07'), (14118, '08'), (14100, '21'), (13784, '27.0'), (13663, '17'), (13573, '24.0'), (13503, '20.0'), (13320, '12'), (13244, '01'), (13233, '23.0'), (13121, '31.0'), (12938, '20'), (12212, '28.0'), (12126, '26.0'), (11712, '22'), (11643, '44'), (11430, '29.0'), (11382, '04A'), (11358, '212.0'), (11344, '32.0'), (11189, '30.0'), (11167, '33.0'), (11035, '201.0'), (10905, '21.0'), (10624, 'PR01'), (10533, '122.0'), (10471, '03-00'), (10410, '30'), (10391, '18'), (10312, '34.0'), (10267, '09'), (10215, '148.0'), (10194, '33'), (10119, '133.0'), (9979, '25.0'), (9979, '28'), (9723, '38'), (9605, '02-02'), (9580, '11-01'), (9580, '12-05'), (9525, 'PR34'), (9497, 'EN03'), (9462, '229.0'), (9420, '04-13'), (9246, 'PR29B'), (9016, 'PR24'), (8999, '243.0'), (8999, '43.0'), (8954, '145.0'), (8921, 'PR08'), (8904, '05A'), (8891, '211.0'), (8869, 'DV1-B'), (8774, 'PR28'), (8630, 'GR'), (8611, '10'), (8565, '230.0'), (8522, '30-1'), (8495, '35.3'), (8483, '02-03'), (8296, 'DV1-A'), (8272, '54'), (8260, 'PR33'), (8218, '29'), (8178, 'AR'), (8124, 'PR32'), (8108, '41.0'), (8043, '06'), (8001, '202.0'), (7970, 'CC3'), (7923, 'SM'), (7897, '24'), (7832, 'MH'), (7697, 'DR'), (7668, '40.0'), (7636, '42.0'), (7631, '32'), (7617, '25'), (7577, '78'), (7537, '10-04'), (7530, 'MCH110'), (7506, 'CC'), (7504, '206.0'), (7488, 'H11'), (7374, 'UG'), (7352, '39.0'), (7297, '241.0'), (7274, 'CH'), (7211, '27'), (7194, '01-23'), (7182, 'PR'), (7173, '82.0'), (7022, '207.0'), (6988, '203.0'), (6975, '11-02'), (6959, '12-04'), (6951, '38.0'), (6935, '05-05'), (6920, '36'), (6903, 'TR'), (6902, '12-09'), (6862, '36.0'), (6839, '81.0'), (6784, '10S'), (6774, '45'), (6716, '46.0'), (6713, '42'), (6703, '72.0'), (6691, '52'), (6659, '06-09'), (6656, '05-07'), (6647, '19-12'), (6634, 'WH'), (6614, '04-12'), (6583, '01-11'), (6564, 'PR25'), (6548, '20-14'), (6545, '14-02'), (6523, 'FT'), (6514, '135.0'), (6501, 'PIT113'), (6486, '02-09'), (6473, '102.0'), (6447, '30-2'), (6438, '134.0'), (6438, '50'), (6438, 'PR29'), (6432, '31'), (6427, 'NB'), (6414, 'MS'), (6385, 'NM'), (6374, '223.1'), (6356, 'B2'), (6329, 'UNC'), (6311, '227.0'), (6307, '40'), (6291, '17-04'), (6283, 'H08'), (6255, 'PR16'), (6250, '222.0'), (6243, '91.0'), (6237, '19-19'), (6229, '41'), (6225, '34'), (6206, '39'), (6197, '02-08'), (6180, 'SE'), (6166, '43'), (6163, '04B2'), (6141, 'PR35'), (6122, 'BM08'), (6121, 'M04'), (6093, 'P08A'), (6090, '01-04'), (6074, '06-06'), (6033, 'H03'), (6021, '17-03'), (6010, '142.0'), (5987, 'EF'), (5949, 'CC4'), (5936, '12-01'), (5932, '74.0'), (5925, 'B1'), (5918, '101.0'), (5860, 'A2'), (5830, 'PRTA'), (5800, 'M02'), (5785, '13-10'), (5764, '37'), (5699, '44.0'), (5698, 'S C'), (5694, 'H13'), (5689, 'PR30'), (5686, '02-06'), (5684, 'H04'), (5676, 'WADES'), (5670, '03S'), (5662, 'A1'), (5661, '12-08'), (5656, 'W1'), (5652, '63.0'), (5650, 'CC1'), (5645, '240.0'), (5644, '137.0'), (5608, '210.0'), (5589, '02-01'), (5572, 'WS'), (5551, '132.0'), (5518, 'NWM117'), (5502, '10B'), (5447, '89.0'), (5437, '37.0'), (5416, '04-09'), (5416, 'PR22'), (5415, 'PR31B'), (5404, 'PR26'), (5403, '01-16'), (5392, 'SW'), (5377, 'CC2'), (5348, '143.0'), (5342, '15-02'), (5329, '53.0'), (5327, '019'), (5316, 'H10'), (5312, 'PR29A'), (5295, '12-06'), (5288, '140.0'), (5256, '18-01'), (5249, '71.0'), (5227, '54.0'), (5222, 'PR20'), (5213, 'H05'), (5207, 'CUL'), (5205, '46'), (5191, 'MY'), (5175, '08-03'), (5148, 'H06'), (5140, '127'), (5120, '035'), (5111, '51'), (5099, '51.0'), (5083, 'H02'), (5066, 'P19A'), (5043, 'FP08'), (5038, 'WP32'), (5036, '19-17'), (5028, '028A'), (5013, '35.0'), (5006, 'PR13'), (4999, '07-10'), (4997, '05-06'), (4993, 'WILT'), (4991, '18-05'), (4978, '83.0'), (4947, '103.0'), (4942, '65.0'), (4941, '03A'), (4941, '112.0'), (4937, '13-01'), (4933, '123.0'), (4930, '149.0'), (4923, 'KDH'), (4900, '55.0'), (4891, '037A'), (4881, 'SDRI'), (4873, '20-06A'), (4870, '02-05'), (4854, 'RL09'), (4849, '45.0'), (4839, '1512A'), (4820, '44.1'), (4817, 'PR21'), (4808, 'CX'), (4808, 'S S'), (4806, '131.0'), (4800, 'FP07'), (4800, 'PR09'), (4784, 'PR14'), (4763, '34-2'), (4762, 'PR23'), (4741, 'AW'), (4741, 'FP04'), (4736, '20-08'), (4733, '204.1'), (4732, '84'), (4729, '2'), (4726, '10-00'), (4723, '18-02'), (4720, 'RN'), (4716, '232.0'), (4710, '10A'), (4697, '15-03'), (4688, '127.0'), (4684, 'DV2-B'), (4681, '01-07'), (4675, '17-13'), (4671, '3'), (4669, '020A'), (4665, '016'), (4656, '16-10'), (4655, '16-02'), (4655, '18.2'), (4631, 'NE22B'), (4601, 'EAST'), (4574, 'SDC'), (4558, '19-09'), (4557, '20-11'), (4550, '04-01'), (4547, 'C2'), (4543, '19-21'), (4538, '028D'), (4537, 'BE'), (4534, '507.0'), (4526, 'RE'), (4514, '12-02'), (4509, 'RC2'), (4500, 'FLRI'), (4467, 'SW19'), (4466, '104.0'), (4463, '04-03'), (4456, '80A'), (4451, '92.0'), (4443, 'PR12A'), (4433, 'W15'), (4427, '73.0'), (4426, '208.0'), (4426, '216.0'), (4423, '151.0'), (4415, 'PR12B'), (4406, '236.0'), (4399, '20-12'), (4396, '01-02'), (4385, '111.0'), (4383, '01-28'), (4382, '231.0'), (4381, 'CAR'), (4377, '020B'), (4371, 'PR11B'), (4360, 'TB'), (4349, '1403B'), (4318, '209.0'), (4308, '017B'), (4308, 'AL51'), (4298, '13-09'), (4289, 'BR'), (4287, 'SB'), (4285, '0601'), (4285, 'M03'), (4283, 'C1'), (4280, 'BC21'), (4279, 'WN04'), (4277, '08-08'), (4273, '17-11'), (4269, '61.0'), (4260, 'G10A'), (4259, '029A'), (4256, '213.0'), (4255, '26'), (4253, 'JA01'), (4226, 'MATO'), (4224, 'H12'), (4221, 'PRO'), (4217, 'SF18'), (4214, 'LC'), (4213, 'BA'), (4209, 'CR07'), (4205, '221.0'), (4186, '68.0'), (4185, 'HM05'), (4180, '01-08'), (4171, '15-01'), (4160, 'CD'), (4146, '75'), (4126, '04-11'), (4123, 'P15'), (4122, 'CF1'), (4108, '233.0'), (4082, 'CRDM'), (4076, '141.0'), (4076, 'RC'), (4071, '01-10'), (4070, '015'), (4069, '05-03'), (4060, '205.0'), (4051, '18-08'), (4051, '20-17'), (4048, '05-01'), (4026, '19-07'), (4025, '01-40'), (4024, 'SLS'), (4014, '030'), (4006, '18-04'), (4000, 'MTEN'), (3998, '69.0'), (3998, 'GB'), (3986, 'N6'), (3982, 'MON3'), (3979, 'GB12'), (3969, '20-05'), (3968, 'WEST'), (3963, 'SL78-3'), (3935, '06-04'), (3935, 'W21'), (3928, 'KM N'), (3926, '041'), (3922, '18-06'), (3919, '01-22'), (3918, '01-21'), (3917, '07-04'), (3907, '20-15'), (3904, 'NH'), (3902, 'N4'), (3885, 'S 4A'), (3879, '53-2'), (3877, '08-11'), (3868, '1504B'), (3866, 'NORTH'), (3864, '237.0'), (3861, 'MC'), (3848, 'G6A'), (3847, '75.0'), (3843, '121.0'), (3841, 'UT14'), (3838, 'PRWM'), (3830, '32A'), (3828, 'LT18'), (3827, '16-09'), (3826, '08-02'), (3825, 'G2A'), (3821, '09S'), (3819, '17-05'), (3812, '105.0'), (3812, 'LW31'), (3810, '028B'), (3802, 'P01A'), (3796, 'WALL'), (3795, 'FP06'), (3795, 'STOK'), (3792, 'PR23A'), (3789, '10-02'), (3758, '1509'), (3752, '146.0'), (3751, 'P17A'), (3749, '228.0'), (3738, 'W30'), (3735, '708.0'), (3722, '602.0'), (3717, '68.1'), (3711, 'WC'), (3710, '128'), (3710, '48'), (3710, 'DV2-A'), (3697, 'G9B-2'), (3691, '064'), (3688, 'EUR-WP'), (3687, '04-08'), (3685, 'P07'), (3683, 'PHC'), (3680, '1507'), (3679, 'FL'), (3667, 'G9B-1'), (3665, '20-03'), (3660, '62.0'), (3654, '20-01'), (3648, '17-09'), (3643, '01-14'), (3643, 'FS16'), (3638, '60'), (3629, 'FR1'), (3627, 'G2B'), (3621, 'LR63'), (3618, '47.1'), (3610, 'AE'), (3604, '0101'), (3600, '040'), (3595, 'W31'), (3593, 'LJ'), (3586, '66.0'), (3584, 'P15A'), (3579, '17-07'), (3577, 'D1'), (3573, 'PR37'), (3569, '14A'), (3562, '09-02'), (3560, 'KM S'), (3556, '04-05'), (3553, 'FC'), (3550, 'CF01'), (3544, 'ES'), (3541, 'IH'), (3536, '20-06B'), (3532, '06-10'), (3527, '07-07'), (3526, '0301'), (3520, 'HU'), (3519, '20-04'), (3519, 'P22A'), (3518, '20-16'), (3516, 'VE14'), (3512, '01-44'), (3510, '07-06'), (3508, '49.1'), (3505, '19A'), (3484, '06A'), (3484, 'ESC114'), (3484, 'OR1'), (3484, 'TYHO'), (3480, 'D2'), (3480, 'PR31'), (3479, '01-31'), (3479, '1201'), (3476, 'W25'), (3469, 'PNTH'), (3469, 'SP15'), (3467, 'ST1'), (3461, 'JEF3'), (3451, 'BC'), (3442, '08-00'), (3441, '59.1'), (3433, '139.1'), (3432, 'E2'), (3429, '226.0'), (3427, 'TT'), (3426, '05-08'), (3423, 'AS'), (3423, 'G2D'), (3423, 'PR18'), (3423, 'SC13'), (3422, 'EC'), (3414, '40.2'), (3410, 'SOUTH'), (3409, '52.0'), (3406, '028C'), (3404, 'RCTL'), (3403, '71.1'), (3403, 'G1B'), (3401, 'SSP'), (3400, '1102B'), (3387, 'PROL'), (3384, '06-07'), (3382, '45.1'), (3377, '06B'), (3373, 'MA'), (3369, '18-07'), (3368, '007'), (3365, '107.1'), (3355, '038A'), (3350, '144.0'), (3332, '119'), (3325, 'WAB'), (3322, '031'), (3318, '215.0'), (3317, 'NIX'), (3304, 'SF4'), (3302, '48.1'), (3296, '9.1'), (3290, '113.0'), (3288, '1201.0'), (3288, 'SCRK'), (3287, 'PRWJ'), (3285, 'W29'), (3283, '005'), (3282, '52.1'), (3281, '12-13'), (3280, '19-20'), (3277, '54.2'), (3275, '01-49'), (3275, 'ED-1'), (3275, 'EMIS'), (3268, 'ST6'), (3265, 'FEN1'), (3261, '147.0'), (3260, '09-03'), (3258, 'T1T4T5'), (3255, 'PRTO'), (3249, '19-11'), (3241, 'SJ'), (3236, 'G10C'), (3236, 'WD'), (3233, '20-10'), (3230, '1511A'), (3228, '19-18'), (3226, 'PB'), (3225, 'IR'), (3224, 'CHOCO'), (3222, 'W'), (3214, '16-07'), (3201, '1511B'), (3200, '06-05'), (3198, '74'), (3188, '19-05'), (3188, 'OG'), (3187, '07-09'), (3187, 'TL06'), (3165, '129'), (3158, 'LI'), (3154, 'NB35'), (3150, 'TA37'), (3146, 'NE22A'), (3142, '17-12'), (3121, 'P20A'), (3120, 'KITT'), (3119, 'RC1'), (3118, '234.0'), (3116, '235.0'), (3111, '67.0'), (3109, 'MARS H'), (3108, 'G21'), (3107, '214.0'), (3101, '138.0'), (3097, '1'), (3083, 'CC27'), (3082, 'SOSH'), (3077, 'COL'), (3073, '02-07'), (3073, '150.0'), (3072, 'H25'), (3071, '10N'), (3071, 'AN'), (3066, '16-11'), (3062, 'RIPPY'), (3062, 'SO'), (3057, 'NLIB'), (3056, '13-11'), (3052, '115A'), (3051, 'P14'), (3050, '605.0'), (3050, '86A'), (3050, 'NCGR1'), (3048, '80.0'), (3048, 'N3N5'), (3040, '034'), (3040, 'SF1'), (3037, '19-03'), (3037, 'G11B'), (3033, 'G3A-1'), (3032, 'G8A'), (3031, '808.0'), (3025, 'NPT1'), (3012, 'W2'), (3009, 'DN29'), (3007, '220.0'), (3003, 'W16'), (2996, '239.0'), (2985, '032'), (2979, '1403A1'), (2978, '103'), (2974, '53-1'), (2974, 'AT'), (2956, 'H01'), (2955, '242.0'), (2955, 'BFT2'), (2953, 'PR23B'), (2951, '126.0'), (2950, 'WILD'), (2938, 'CO'), (2935, 'FR'), (2929, 'HC'), (2925, '38.3'), (2925, 'PDN'), (2920, '64'), (2917, '01-50'), (2914, '13-06'), (2910, '19-14'), (2908, '01-46'), (2897, '1102A'), (2888, '1403A2'), (2888, 'MT19'), (2885, '04-20'), (2883, '19-15'), (2881, 'WW1'), (2880, 'HC33'), (2876, 'ST3'), (2875, 'T1'), (2873, '01 BUR'), (2872, '906.0'), (2871, '008'), (2871, '26A'), (2869, '01-26'), (2869, '1513A'), (2867, '04-06'), (2867, 'OAKGRV'), (2861, '0051'), (2858, 'MHD3'), (2852, 'JC'), (2850, 'P23A'), (2848, '09A'), (2847, 'MON2A'), (2842, '017A'), (2836, '12-07'), (2833, '2530.0'), (2829, '47.0'), (2827, 'M1'), (2826, 'CCCP'), (2825, 'PHA1'), (2823, '35'), (2822, 'QUA'), (2816, 'LI65'), (2810, 'HU20'), (2805, '55.1'), (2800, 'LK-2'), (2796, 'PHB1'), (2795, '2.1'), (2794, 'PR10A'), (2790, 'CB'), (2789, '709.0'), (2785, 'SN'), (2783, '34-1'), (2782, 'ST36'), (2780, '65.1'), (2779, '13-08'), (2778, '69.1'), (2778, 'WEST M'), (2776, 'CF11'), (2773, '41.1'), (2770, 'W24'), (2768, 'ST5'), (2765, '30.3'), (2764, 'CF05'), (2757, '01-20'), (2757, '04-07'), (2755, '70.1'), (2753, 'G26'), (2747, '58'), (2747, 'DA'), (2744, 'CC21'), (2741, '114.0'), (2740, '16-01'), (2739, 'ST2'), (2737, 'CC26'), (2732, '01-42'), (2732, '53.1'), (2732, 'W27'), (2730, '128.0'), (2728, '04-10'), (2726, 'P24A'), (2723, '100.0'), (2720, '76.0'), (2717, 'KTHK'), (2711, 'G27'), (2711, 'PA'), (2710, 'PR27B'), (2706, '238.1'), (2703, '013'), (2703, 'PR11A'), (2702, '20-09'), (2702, 'SB02'), (2697, '018'), (2697, 'P11A'), (2686, '02-25'), (2684, 'AH49'), (2682, '08-10'), (2681, '04-18'), (2681, 'M06'), (2679, 'JEF1'), (2673, '506.0'), (2672, 'G50'), (2671, 'BOGU'), (2663, 'CG3B'), (2663, 'PR31A'), (2663, 'TR123'), (2660, '01-06'), (2660, 'ST4'), (2659, 'W28'), (2657, 'SH-B'), (2654, 'WARS'), (2652, '12N'), (2651, '701.0'), (2648, '16-04'), (2645, '224.0'), (2645, 'WACO'), (2639, 'G48'), (2635, '76'), (2634, '19-16'), (2629, 'CL57-1'), (2618, '16.2'), (2617, 'FBSH'), (2615, 'SF3'), (2613, 'P26B'), (2611, '10-03'), (2610, 'P06A'), (2609, '217.0'), (2609, '29.2'), (2607, '1001'), (2604, '118.0'), (2603, '0013'), (2603, '901.0'), (2603, 'G09'), (2601, '908.0'), (2601, 'GROVER'), (2600, 'G5B-1'), (2595, '0024'), (2592, 'KENA'), (2591, '011'), (2591, '63'), (2590, 'SH-A'), (2587, '03N'), (2584, '012'), (2582, '01-36'), (2581, '0001'), (2580, '57.1'), (2580, 'PR36'), (2579, '109.0'), (2579, '124'), (2579, 'CP'), (2578, '06S'), (2577, 'N'), (2576, '08-07'), (2573, 'HF'), (2572, '07-12'), (2572, '1920.0'), (2570, 'P05A'), (2566, 'CL57-2'), (2566, 'ROSE'), (2560, '87.0'), (2558, 'JAM1'), (2551, '17-01'), (2539, 'CF06'), (2538, '601.0'), (2531, 'G45'), (2529, '1203.0'), (2525, '0011'), (2523, '01-39'), (2521, 'EO61-1'), (2520, 'NS'), (2519, 'DW28'), (2518, 'CF02'), (2517, 'P21A'), (2515, '01-18'), (2498, '06-89'), (2495, '218.0'), (2493, '809.0'), (2490, 'CW'), (2490, 'PELH'), (2485, '72'), (2477, 'G8D'), (2472, 'HS'), (2465, 'BNVL'), (2460, 'MAR 1'), (2457, 'ED'), (2454, '1503'), (2453, 'MON1'), (2450, 'G46'), (2447, 'CL10'), (2447, 'MHD4'), (2439, 'H28'), (2439, 'NDRI'), (2438, '21.1'), (2437, 'JEF2'), (2434, 'BTNR'), (2432, '16-05'), (2432, 'G10'), (2430, 'NPT2'), (2428, '022'), (2424, 'LTR'), (2423, 'BETHEL'), (2419, '04-15'), (2418, '1513B'), (2415, '08N'), (2415, '1505A'), (2413, 'BEUL'), (2413, 'NMAD'), (2412, '136.0'), (2404, '5.1'), (2403, '0200A'), (2402, '03W'), (2400, '04-02'), (2400, '82'), (2397, 'P501'), (2394, 'CC14'), (2388, 'G2C-1'), (2387, 'OR2'), (2385, '1505B'), (2383, 'NKNB'), (2382, '801.0'), (2380, '39.3'), (2379, '88.0'), (2372, 'G10B'), (2370, 'CH-B'), (2368, 'EAB'), (2368, 'MHD2'), (2367, '05-00'), (2367, 'T2T3'), (2366, 'G53'), (2365, 'EV'), (2364, '125'), (2363, 'MR02'), (2361, 'NC'), (2361, 'RM'), (2358, '30.2'), (2356, '1510B'), (2355, 'PG2'), (2353, 'P18A'), (2352, 'CLEA'), (2350, 'MB62'), (2347, 'G9A'), (2346, 'JAM4'), (2343, '01-43'), (2342, 'NGHD'), (2341, '01-29'), (2341, 'OW'), (2329, 'LAKE'), (2325, 'MIDD'), (2321, 'G43'), (2320, '13-07'), (2319, '219.0'), (2317, '85.0'), (2316, '02-04'), (2316, '1507B'), (2316, '16A'), (2314, '77.0'), (2308, '85'), (2308, 'SH77'), (2307, 'CG1'), (2306, 'EA1'), (2303, 'CS'), (2297, 'CC15'), (2292, '09-00'), (2292, 'NCLAY1'), (2292, 'S1S2'), (2289, 'LB34'), (2288, 'DV08'), (2285, 'H29B'), (2284, '15-04'), (2282, 'PRBL'), (2277, 'CL08'), (2277, 'LB'), (2270, 'SMAD'), (2266, '107'), (2265, 'WHCH'), (2264, '18-03'), (2263, '01-35'), (2261, '038B'), (2259, 'K4'), (2257, 'PRWL'), (2256, 'BD'), (2255, '88'), (2255, 'G2C-2'), (2254, 'G20'), (2250, 'DM'), (2247, 'IS23'), (2246, '8.3'), (2245, '225.0'), (2245, 'G64'), (2245, 'P'), (2244, 'P202'), (2244, 'SHANGI'), (2243, '8.2'), (2243, 'CR'), (2241, '55-49'), (2241, 'G2E-2'), (2240, 'HV-2'), (2240, 'SH'), (2238, '126'), (2237, '49.0'), (2235, 'G32'), (2233, '124.0'), (2233, 'RR 9'), (2232, '021'), (2232, '19-13'), (2232, 'HV-3'), (2231, '62.1'), (2226, '501.0'), (2226, 'HR17'), (2221, '401.0'), (2220, 'G70'), (2219, 'RR 10'), (2217, '28.1'), (2217, '61.1'), (2210, '67.1'), (2208, '01-32'), (2207, '64.0'), (2206, '24.1'), (2202, 'E1'), (2201, 'GC09'), (2201, 'NCGR2'), (2198, 'RR 11'), (2197, 'PLVW'), (2193, '805.0'), (2193, 'G47'), (2191, '09-01'), (2190, '01-15'), (2189, '404.0'), (2189, 'GIB'), (2188, 'HV-1'), (2186, '033'), (2185, 'G68'), (2181, 'G8B'), (2179, '200.0'), (2177, '22.2'), (2173, '039'), (2173, 'BEECH'), (2172, 'CAM'), (2172, 'NEBO'), (2167, '06-08'), (2164, '08 CRA'), (2163, 'G72'), (2161, 'MHD1'), (2154, 'G37'), (2153, 'LATT'), (2152, '98.0'), (2151, '029C'), (2151, '25.1'), (2148, 'G38'), (2147, 'S 5'), (2143, 'PR10B'), (2142, '70.0'), (2142, 'ENO'), (2140, '01-48'), (2139, '1512B'), (2132, '78.1'), (2132, 'G5A-1'), (2131, '120.0'), (2130, '07-13'), (2130, 'CH-A'), (2128, 'GL'), (2126, '01-47'), (2126, '58.0'), (2125, '607.0'), (2125, 'G3A-2'), (2125, 'NSP'), (2124, 'PRWN'), (2123, 'RG'), (2122, 'HN14'), (2118, '01-38'), (2118, 'G66'), (2118, 'H24'), (2111, '024'), (2110, '57.0'), (2108, 'PC22'), (2107, '03C'), (2107, '13.1'), (2103, 'CC17'), (2103, 'MTTZ'), (2099, 'G65'), (2099, 'W26'), (2095, '17-06'), (2092, '01-41'), (2091, '08-05'), (2089, '12.1'), (2088, '1510A'), (2087, 'H29A'), (2080, 'WND'), (2079, '705.0'), (2075, '0070'), (2075, '1504A'), (2075, '903.0'), (2075, 'W03'), (2074, 'CG2'), (2070, '405.0'), (2069, '063'), (2068, 'GASTON'), (2067, '01-27'), (2067, '08-06'), (2067, 'G69'), (2061, '006'), (2061, '0800A'), (2061, 'PBF'), (2058, '13-05'), (2058, 'FR2'), (2056, 'W17'), (2055, '86.0'), (2054, 'CL-S'), (2052, 'EH'), (2052, 'PHB2'), (2050, 'MING'), (2047, 'E'), (2045, 'P19'), (2045, 'T2'), (2043, 'G71'), (2041, '62'), (2039, '04-16'), (2033, 'P04'), (2030, '108.0'), (2030, 'AS25'), (2020, '3.1'), (2020, 'TCRK'), (2019, '01-34'), (2019, 'PRCR'), (2013, '09N'), (2009, 'PRGA'), (2004, '15.1'), (2002, 'G5B-2'), (2001, '14.2'), (1998, '84.0'), (1997, '13-02'), (1995, 'OB21'), (1994, '904.0'), (1994, 'P3'), (1990, '96.0'), (1989, 'G55'), (1987, '6'), (1987, '905.0'), (1983, 'SUM2'), (1979, 'SUM1'), (1974, '99.0'), (1972, 'CL07'), (1971, 'G54'), (1971, 'P02A'), (1964, 'POLKVL'), (1964, 'WKWD'), (1963, 'LILE'), (1960, 'KM'), (1959, 'WB'), (1956, 'G08'), (1947, '117.0'), (1947, 'FR5A'), (1941, '01-03'), (1938, 'M07'), (1937, 'BC2'), (1936, '0200B'), (1936, 'N1'), (1935, '58.1'), (1934, 'P16A'), (1933, '1508A'), (1931, 'MURS'), (1930, 'G8C'), (1929, 'G5A-2'), (1928, '01-01'), (1928, '48.0'), (1928, 'EBND'), (1926, '1506'), (1922, 'WS-1'), (1918, '023'), (1918, '08-09'), (1918, 'G44'), (1916, '70'), (1916, 'CLR4'), (1916, 'NEW HO'), (1915, 'CORI'), (1913, 'PHA2'), (1909, 'WEL 3'), (1905, '0701'), (1902, 'C'), (1902, 'ENF1'), (1900, 'PV'), (1898, '56.2'), (1893, '06N'), (1891, 'CC33'), (1889, 'PCHT'), (1886, 'BC1'), (1885, '12-03'), (1883, '06E'), (1882, '042'), (1882, 'WASH4'), (1881, 'CC01'), (1880, 'N2'), (1879, '42.1'), (1879, 'DYSART'), (1875, '118'), (1872, '01-19'), (1863, 'GILEA'), (1860, 'HOL'), (1857, '79.0'), (1855, 'STON'), (1853, 'H27-B'), (1851, 'AC'), (1847, 'YANC'), (1846, '5AP'), (1846, 'H27-A'), (1842, 'SLIB'), (1841, '0022'), (1840, '32.1'), (1838, 'RF'), (1834, '06-00'), (1832, '0038'), (1832, 'CC29'), (1829, 'G5C'), (1828, '1.1'), (1826, '036'), (1824, 'NW'), (1821, 'G07'), (1820, 'TH'), (1819, 'RRC'), (1810, '12-12'), (1810, 'G74'), (1809, '04-17'), (1808, '01-37'), (1807, 'SCLAY'), (1807, 'VR15'), (1804, 'SA'), (1803, 'CC34'), (1803, 'PRSP'), (1803, 'V'), (1801, 'G41B'), (1801, 'RVRD'), (1799, 'PR38'), (1798, '010'), (1797, '0053'), (1797, '01-12'), (1797, 'G2E-1'), (1795, '94.0'), (1785, 'ALVI'), (1785, 'G1A'), (1784, '07-05'), (1782, 'BEN'), (1780, '0048'), (1779, 'H26'), (1778, 'FEN2'), (1776, '04-21'), (1776, '2OT'), (1775, '603.0'), (1774, 'JEF4'), (1773, '93.0'), (1771, '68'), (1771, 'BS26'), (1771, 'SUM4'), (1770, '807.0'), (1766, 'JAM3'), (1766, 'VSS'), (1763, 'PP'), (1761, '112'), (1760, 'WEM'), (1759, '002'), (1758, '04-19'), (1757, 'OTBEG'), (1754, 'SH12'), (1753, '0014'), (1752, '113A'), (1751, '902.0'), (1750, 'CL-N'), (1749, '026'), (1749, '60.0'), (1746, '95.0'), (1745, 'G67'), (1744, '025'), (1744, '0800B'), (1742, 'B3'), (1741, '1001.0'), (1737, 'MURN'), (1734, '1618.0'), (1734, '51.2'), (1731, 'K6'), (1730, 'W13'), (1728, '33.3'), (1726, 'WEB'), (1724, 'PLEASA'), (1723, '01-45'), (1722, 'LP'), (1718, '0034'), (1718, 'G61'), (1717, '806.0'), (1716, '50.0'), (1716, '64.1'), (1714, '304.0'), (1713, '12W'), (1711, 'HIWA'), (1709, 'BCRK'), (1709, 'JAM2'), (1709, 'MILT'), (1707, 'EO61-2'), (1706, '08-04'), (1706, 'CC16'), (1706, 'P23'), (1704, 'CLNE'), (1703, 'ST'), (1702, 'CC13'), (1697, '014'), (1696, 'W08'), (1695, 'K9'), (1694, '704.0'), (1694, 'LRSL'), (1693, 'G03'), (1693, 'W12'), (1692, '0047-A'), (1692, '403.0'), (1691, 'NE'), (1688, '36.1'), (1687, '5'), (1686, '26.1'), (1685, 'EAOX'), (1685, 'GAPL'), (1685, 'NEW'), (1683, 'G36'), (1676, '907.0'), (1676, 'LOCU'), (1670, 'G34'), (1669, '04-04'), (1665, 'CAS'), (1662, '04-14'), (1662, 'NR02'), (1657, '07-01'), (1657, 'FP03'), (1652, '0031'), (1650, '111'), (1650, '803.0'), (1646, 'H15'), (1645, 'CC05'), (1644, 'G22'), (1643, '38.2'), (1642, '07-02'), (1642, 'DCRK'), (1642, 'G52'), (1639, '7.1'), (1639, 'SWST'), (1637, 'P05'), (1636, '0066'), (1635, 'HO'), (1634, 'G6C'), (1633, '106.0'), (1632, 'BE-3'), (1629, '121'), (1629, 'CRDL'), (1627, '09 SOU'), (1627, 'M2'), (1626, 'P10A'), (1626, 'PR27A'), (1624, '01-33'), (1624, 'CCREEK'), (1624, 'P24'), (1622, 'SURBA'), (1621, 'EH1'), (1616, '027'), (1615, '0036'), (1615, 'CG3A'), (1613, 'MULLS'), (1611, '130.0'), (1608, 'J'), (1607, '47'), (1607, '505.0'), (1606, 'PARKVI'), (1605, 'PG1'), (1605, 'SASS'), (1603, 'RP20'), (1603, 'SF2'), (1601, '35.1'), (1598, 'CAN'), (1596, '56.0'), (1593, 'G04'), (1591, 'MON2B'), (1589, 'CU02'), (1588, '029B'), (1588, 'G57'), (1585, '05-10'), (1584, 'G17'), (1584, 'SALM'), (1583, 'NB01'), (1581, 'CLWE'), (1581, 'MT24'), (1580, 'PRWI'), (1578, 'CC31'), (1575, 'G30'), (1574, '119.0'), (1572, 'CS1'), (1569, 'G63'), (1568, '1508B'), (1565, 'NH1'), (1565, 'P03A'), (1565, 'PRWD'), (1561, 'WIHA'), (1557, '66.1'), (1556, 'G51'), (1554, '1210'), (1554, '604.0'), (1553, '90.0'), (1552, '115.0'), (1552, 'PRWP'), (1551, 'CUCL'), (1551, 'SH1'), (1549, '1202.0'), (1549, 'G25'), (1548, '07-03'), (1543, '01-13'), (1543, '55-11'), (1541, 'P04A'), (1539, 'G4C'), (1534, 'G33'), (1533, 'GLV'), (1532, '0012'), (1530, '16-03'), (1528, 'BETHWR'), (1526, 'FORT 2'), (1526, 'PR17'), (1525, '009'), (1525, 'H18'), (1525, 'MTG'), (1521, 'CC25'), (1519, 'BE56'), (1515, 'PH'), (1514, 'LM'), (1512, 'P502'), (1511, 'G60'), (1510, 'DHR'), (1507, 'WO06'), (1503, 'KFRK'), (1502, 'PRWR'), (1501, '11.1'), (1499, '12-11'), (1497, 'SL24'), (1496, 'CF19'), (1495, 'G4B'), (1494, 'WS-2'), (1493, '120'), (1492, 'G40A1'), (1491, '0039'), (1485, 'G75'), (1485, 'I'), (1483, '19.1'), (1483, '606.0'), (1482, '702.0'), (1478, 'BRAS'), (1477, 'IS20'), (1476, 'PR19'), (1476, 'SH#1'), (1475, 'GLENWD'), (1475, 'K7'), (1474, 'PRWC'), (1472, 'TC7'), (1469, '18A'), (1467, 'BEADM'), (1465, '39.2'), (1464, '17.1'), (1463, 'B4'), (1463, 'SFAL'), (1462, 'LR'), (1461, '43.2'), (1454, 'CC12'), (1454, 'G58'), (1452, 'G11'), (1451, '0040'), (1450, 'LS12'), (1448, 'MAUR'), (1447, '17-02'), (1446, 'M'), (1446, 'RGER'), (1444, 'G19'), (1442, 'WW'), (1439, '004'), (1438, '1204.0'), (1435, '001'), (1432, 'W18'), (1431, '116.0'), (1428, 'SCC'), (1427, '0021'), (1426, 'BC13'), (1425, '104'), (1424, '802.0'), (1423, 'PRWK'), (1422, 'G56'), (1419, '0015'), (1419, 'G42A'), (1412, 'FR3'), (1409, 'G29'), (1409, 'ROX4'), (1405, '037B'), (1405, 'STEL'), (1403, 'LAWNDL'), (1402, 'G1G2'), (1395, 'BE-4'), (1394, 'HE'), (1392, 'FR4'), (1392, 'OLHI'), (1391, '16-06'), (1391, 'CG'), (1390, 'EWD'), (1383, 'G16'), (1381, '003'), (1380, 'P16B'), (1376, 'H09'), (1376, 'HARR'), (1376, 'SA04'), (1374, '66'), (1371, 'ROWA'), (1371, 'WASH1'), (1370, 'CC18'), (1369, 'BELHV'), (1365, '306.0'), (1364, 'BG'), (1359, '60.4'), (1357, '0401'), (1356, '97.0'), (1355, '503.0'), (1354, 'P40'), (1351, 'BERE'), (1349, 'CG05'), (1348, 'LC09'), (1345, 'M.COVE'), (1343, 'AUTR'), (1341, '102'), (1340, 'G39'), (1339, '110.0'), (1337, 'WOLF'), (1333, 'G40B'), (1330, 'G31'), (1330, 'LN11'), (1327, 'GR06'), (1325, '4.1'), (1324, '11A'), (1324, '50.1'), (1322, 'STA'), (1321, 'WE'), (1320, 'WDPD'), (1319, 'HIAW'), (1319, 'SOOX'), (1316, 'FALSTN'), (1315, '204.0'), (1314, 'ABCH'), (1314, 'P14A'), (1311, '46.1'), (1311, 'BFT1'), (1309, 'WEL1-2'), (1308, 'NCLAY2'), (1307, 'SHIN'), (1306, '37.1'), (1305, 'H14'), (1304, 'CLSW'), (1304, 'LIT 1'), (1303, 'MRB-YO'), (1303, 'PR02'), (1302, 'ANSW'), (1300, 'G05'), (1296, 'OLDF'), (1296, 'PRWE'), (1296, 'TO'), (1295, '10.1'), (1295, 'P201'), (1294, 'LI14'), (1294, 'WBRK'), (1290, '6.1'), (1288, 'G06'), (1288, 'G23'), (1288, 'LIT 2'), (1287, 'P60'), (1286, '0003'), (1285, 'CL05'), (1285, 'PSJW3'), (1282, 'BIS'), (1279, 'G73'), (1279, 'H'), (1276, '01-30'), (1274, 'G62'), (1267, 'H21'), (1265, '08S'), (1264, 'BK'), (1262, 'HIGGIN'), (1258, '909.0'), (1258, 'HAY2'), (1257, '17-10'), (1255, 'CLEM'), (1255, 'G4A'), (1251, '0035'), (1250, '707.0'), (1249, '108'), (1248, 'JAM5'), (1245, '9'), (1244, 'P10'), (1243, 'WOEL'), (1241, '10-01'), (1241, 'CFB8'), (1239, 'ANNW'), (1237, 'ELD'), (1233, 'H23'), (1233, 'HOTH'), (1232, '305.0'), (1228, '4N'), (1227, 'G13'), (1225, '12E'), (1225, 'P06'), (1223, 'WASH2'), (1222, '129.0'), (1222, 'G15'), (1220, '502.0'), (1220, '61'), (1218, '06 JAC'), (1216, '02 CAN'), (1216, '33.2'), (1216, 'NV'), (1211, 'H07'), (1209, 'NGRV'), (1209, 'UWH'), (1208, 'G18'), (1207, '0501'), (1206, 'G59'), (1205, '31.1'), (1203, '125.0'), (1202, 'H16'), (1201, '1RB'), (1199, 'PKNL'), (1197, 'P09A'), (1196, '301.0'), (1190, '60.2'), (1185, '14.3'), (1185, '804.0'), (1183, 'LAKE G'), (1180, 'EKWD'), (1180, 'FR5B'), (1176, '59.0'), (1173, '07-11'), (1172, 'BCK'), (1172, 'PELE'), (1168, 'BURN'), (1164, 'ENF 2'), (1160, '0020'), (1160, '1101'), (1158, 'MAR 2'), (1157, '706.0'), (1156, '12-10'), (1156, 'K5'), (1156, 'RINGW'), (1155, 'MAGN'), (1154, 'G24'), (1153, 'G40A2'), (1152, '3BY'), (1151, 'CC24'), (1151, 'NBCK'), (1150, '402.0'), (1144, 'ALMOND'), (1144, 'HALL'), (1144, 'PRST'), (1143, 'H22'), (1142, 'HAL'), (1141, 'COMIPE'), (1138, '01-09'), (1133, 'CC08'), (1131, 'MARB'), (1130, 'G41A'), (1129, '01-05'), (1128, 'G02'), (1127, 'NCRK'), (1126, 'CM'), (1125, 'ALBE'), (1125, 'H19A'), (1124, 'A3'), (1124, 'CASAR'), (1124, 'G01'), (1124, 'RICH S'), (1122, 'NWASH'), (1121, 'CHAR'), (1120, '703.0'), (1118, 'FAIS'), (1113, 'CC03'), (1113, 'KEEN'), (1112, 'P30'), (1110, 'RBN'), (1108, 'G35'), (1108, 'SHCR'), (1104, 'G7A'), (1104, 'SUM3'), (1102, 'H20B'), (1101, '56'), (1101, 'MM'), (1095, 'K3'), (1091, 'GM'), (1090, '34.1'), (1090, 'PEAC'), (1088, 'WALNUT'), (1086, 'PF'), (1085, 'FORT 1'), (1085, 'G14'), (1084, 'CYCK'), (1084, 'H20A'), (1082, 'G3C'), (1079, 'BELL'), (1078, '0047-B'), (1077, 'R2'), (1075, 'OL'), (1069, 'GARL'), (1069, 'P25B'), (1066, '0052'), (1066, 'P1'), (1063, 'SAL'), (1061, 'WASHP'), (1059, 'TE13'), (1057, 'PR04'), (1052, '01-17'), (1051, '504.0'), (1050, 'RR 7'), (1050, 'RR1-2'), (1049, 'BE-1'), (1047, 'G7B'), (1046, '01-51'), (1045, 'OKHL'), (1041, 'BE-7'), (1041, 'CC32'), (1036, '11 PRI'), (1034, 'H17'), (1033, 'HAY1'), (1029, '07-00'), (1026, 'WN'), (1025, '1301'), (1025, 'EM'), (1021, 'SKNB'), (1019, '117'), (1019, 'GIDD'), (1017, 'FAUCT'), (1015, 'PEE'), (1010, 'G28'), (1007, 'G49'), (1005, 'BE-2'), (1005, 'INGO'), (996, 'ML23'), (992, 'SMCA'), (986, 'ANTI'), (984, 'P75'), (983, 'PH2'), (982, 'PRWB'), (980, '12S'), (979, 'PANTE'), (978, 'CC06'), (977, '302.0'), (975, 'LW18'), (975, 'NM13'), (970, 'CA'), (970, 'G6B'), (968, 'CC04'), (968, 'G3B'), (967, '0029-A'), (966, 'GCK'), (966, 'P17'), (965, 'G12'), (965, 'STEC'), (961, 'CC10'), (960, 'LU16'), (957, '1301.0'), (957, 'RR 3'), (957, 'TURK'), (955, 'P25'), (953, '1501'), (953, 'BUX'), (953, 'MG'), (953, 'P03'), (951, 'P80'), (950, '1205.0'), (946, 'SAV'), (943, 'PC'), (942, '105'), (941, 'P09'), (939, 'KI'), (938, 'WAN'), (937, 'NFAL'), (930, 'SC'), (927, 'PRSA'), (927, 'UU17'), (924, 'G42B'), (924, 'RR 4'), (923, 'P21'), (922, 'AUROR'), (922, 'GRAPEV'), (921, 'WDSD'), (917, 'EBBS C'), (916, '20.1'), (916, 'CC07'), (915, 'GULL'), (912, 'RX'), (907, 'HLWY'), (906, 'HPR'), (903, 'ANS'), (901, 'CS04'), (900, '0065'), (891, 'MAR 4'), (888, '0029-B'), (888, 'H19B'), (887, 'EAST H'), (885, 'PRWA'), (879, 'HAIS'), (878, 'MAR 5'), (877, '043'), (871, 'P02B'), (866, 'SWASH'), (863, 'WALS'), (858, '1101.0'), (858, 'RR'), (857, '4S'), (857, 'P12A'), (856, 'R1'), (851, '06W'), (851, 'CLCE'), (848, '1819.0'), (844, 'HA'), (832, 'P2'), (829, 'ID'), (825, 'SUGG'), (819, 'ARBA'), (819, 'K2'), (813, 'POLK'), (811, 'ROCK'), (809, 'K8'), (803, 'EDWAR'), (803, 'KINGST'), (800, '1401.0'), (800, 'RR 5'), (795, 'PRWH'), (795, 'SEABOA'), (792, '1GB'), (792, 'SBRG'), (784, 'BLCK'), (778, '14-01'), (777, '23.3'), (776, 'CSON'), (773, 'K1'), (768, '27.2'), (768, 'JARE'), (766, 'UN'), (765, '106'), (764, 'PINET'), (763, 'WEST H'), (760, 'WOPO'), (755, 'BEAR'), (755, 'FRCO'), (753, 'LAUREL'), (742, '4'), (742, 'CAST'), (737, 'DFB9'), (735, 'TC1'), (733, 'P07A'), (725, '0019'), (725, '123'), (721, 'ANDE'), (720, 'CHIN'), (718, 'P13A'), (717, '0901'), (717, 'HB'), (714, 'MAR 3'), (709, 'SBCK'), (706, '03N2'), (705, '01-25'), (704, 'P11'), (703, 'HM'), (700, 'N.COVE'), (699, 'AVON'), (698, 'BULL'), (696, 'HV'), (692, '0062'), (692, 'OCK'), (689, 'UH08'), (686, '122'), (685, 'ALARKA'), (684, 'SK'), (680, '109'), (679, 'HOT SP'), (675, '303.0'), (674, 'HOOK'), (674, 'RIV'), (673, 'PROVI'), (667, 'CALY'), (664, 'ROC'), (658, 'HERR'), (651, '0064'), (651, 'HANG'), (651, 'SWEE'), (651, 'WARN'), (650, 'GN'), (648, 'SPRING'), (644, 'FC-1'), (634, 'CJ'), (634, 'T.COVE'), (626, '07-07A'), (625, '101'), (622, '0018'), (622, 'CFRK'), (617, 'HTOP'), (600, 'BELVID'), (600, 'CHE'), (600, 'P35'), (598, 'P01'), (595, 'GLIS'), (590, 'TUSQ'), (587, 'CC19'), (587, 'NRIV'), (586, 'PRWQ'), (582, 'CHCA'), (581, 'DASW'), (579, 'SH2'), (576, '114'), (571, 'LEAS'), (570, 'ATSL'), (566, '65'), (562, 'MASM'), (561, 'DUCK'), (550, 'PH1'), (545, 'CREEKS'), (537, 'P13'), (534, 'P55'), (532, 'GALATI'), (520, 'CV'), (515, 'P65'), (511, 'TLT'), (510, 'CFK'), (505, '63.1'), (489, '23.2'), (483, 'MCRK'), (472, 'WDS'), (469, '03 EGY'), (468, '10 PEN'), (467, 'UNKA'), (463, 'LIT'), (462, 'HAT'), (454, 'ML'), (450, 'MERR'), (445, '0023'), (444, 'P18'), (443, 'NEWTOW'), (443, 'SANDY'), (430, 'WAD'), (424, 'ENG'), (423, '1AL A'), (421, 'SQ'), (418, 'P45'), (400, 'P02'), (397, '0212'), (397, 'GCRK'), (395, 'HAYC'), (395, 'PL10'), (392, 'P70'), (389, '05 GRE'), (384, '0025'), (373, 'LL'), (370, '681.0'), (370, 'TAPO'), (368, 'TOPT'), (364, '2SW'), (352, '07 BRU'), (351, 'P08'), (348, '0027'), (343, 'BUTWD'), (341, 'CE'), (328, 'IBSP'), (311, 'CONC'), (306, 'SEVERN'), (302, '0007'), (295, 'IW'), (288, '0008'), (287, 'LOCK'), (286, '0017'), (285, '04 RAM'), (279, '01-07A'), (278, 'MH07'), (269, 'WO'), (267, 'OPH'), (266, 'FF'), (266, 'GW'), (265, 'SLAD'), (263, '0028'), (258, 'CI'), (249, 'BM'), (242, '0026'), (230, 'LASKER'), (226, 'REVERE'), (196, 'NICANO'), (190, '0010'), (190, '0016'), (182, 'P12'), (168, '4VM A'), (166, 'CISL'), (159, '4HB'), (154, '4MSIC'), (154, 'CT03'), (138, 'FC-2'), (121, 'STPT'), (100, '1920'), (95, '09.1'), (89, '0102'), (85, '212'), (77, '1203'), (70, '08.2'), (70, 'EL'), (68, '0104'), (65, '02.1'), (65, '0801'), (65, '229'), (63, '148'), (63, '2530'), (61, '03.1'), (61, '05.1'), (57, '0103'), (56, '0201'), (56, '211'), (55, '1202'), (54, '243'), (52, '230'), (51, '151'), (47, '01.1'), (47, '222'), (46, '203'), (45, '07.1'), (44, '04.1'), (44, '201'), (43, '06.1'), (42, '210'), (41, '149'), (40, '135'), (39, '08.3'), (38, '1205'), (37, '1204'), (37, '145'), (37, '202'), (37, '221'), (37, '231'), (36, '089'), (36, '113'), (34, '206'), (33, '228'), (32, '082'), (31, '077'), (31, '141'), (30, '227'), (29, '134'), (29, '137'), (28, '133'), (28, '140'), (28, '209'), (28, '240'), (26, '138'), (26, '208'), (26, '237'), (25, '053'), (25, '069'), (25, '081'), (25, '143'), (25, '207'), (24, '046'), (24, '080'), (24, '100'), (23, '146'), (23, '233'), (22, '088'), (22, '219'), (22, '241'), (21, '028'), (21, '045'), (21, '054'), (21, '1401'), (21, '142'), (21, '144'), (21, '213'), (21, '216'), (21, '236'), (20, '051'), (20, '079'), (20, '083'), (20, '087'), (20, '091'), (20, '215'), (19, '084'), (19, '147'), (19, '235'), (19, '239'), (18, '062'), (18, '214'), (18, '220'), (18, '226'), (17, '073'), (17, '116'), (17, '234'), (17, '242'), (16, '047'), (16, '052'), (16, '131'), (16, '136'), (16, '150'), (16, '217'), (15, '055'), (15, '076'), (15, '200'), (14, '070'), (14, '099'), (13, '037'), (13, '044'), (13, '056'), (13, '071'), (13, '078.1'), (13, '085'), (13, '098'), (13, '224'), (12, '038'), (12, '050'), (12, '061'), (12, '072'), (12, '130'), (12, '232'), (11, '048'), (11, '057'), (11, '074'), (11, '092'), (11, '115'), (10, '058'), (10, '086'), (10, '205'), (10, '218'), (9, '049'), (9, '066'), (9, '681'), (8, '017'), (8, '095'), (7, '020'), (7, '029'), (7, '068'), (7, '075'), (7, '225'), (6, '059'), (6, '065'), (6, '090'), (6, '094'), (6, '096'), (6, '097'), (5, '060'), (5, '110'), (2, '067'), (2, '093'), (2, '132')]\n",
            "[(10, '14.2', '11.0'), (10, '14.3', '11.0'), (10, '18.2', '11.0'), (10, '19.1', '11.0'), (10, '25.1', '11.0'), (10, '33.3', '11.0'), (10, '44.1', '11.0'), (10, '48.1', '11.0'), (10, '54.2', '11.0'), (10, '58.1', '11.0'), (10, '62.1', '11.0'), (10, '68.1', '11.0'), (10, '71.1', '11.0'), (9, '10.1', '11.0'), (9, '107.1', '12.0'), (9, '11.1', '11.0'), (9, '139.1', '9.0'), (9, '15.1', '11.0'), (9, '17.1', '11.0'), (9, '20.1', '11.0'), (9, '204.1', '12.0'), (9, '21.1', '11.0'), (9, '223.1', '12.0'), (9, '26.1', '11.0'), (9, '27.2', '11.0'), (9, '28.1', '11.0'), (9, '30.2', '11.0'), (9, '30.3', '11.0'), (9, '35.1', '11.0'), (9, '38.3', '11.0'), (9, '40.2', '11.0'), (9, '41.1', '11.0'), (9, '43.2', '11.0'), (9, '47.1', '11.0'), (9, '49.1', '11.0'), (9, '52.1', '11.0'), (9, '55.1', '11.0'), (9, '56.2', '11.0'), (9, '61.1', '11.0'), (9, '65.1', '11.0'), (9, '67.1', '11.0'), (9, '70.1', '11.0'), (8, '12.1', '11.0'), (8, '13.1', '11.0'), (8, '16.2', '11.0'), (8, '22.2', '11.0'), (8, '238.1', '12.0'), (8, '24.1', '11.0'), (8, '29.2', '11.0'), (8, '32.1', '11.0'), (8, '33.2', '11.0'), (8, '34.1', '11.0'), (8, '36.1', '11.0'), (8, '39.2', '11.0'), (8, '39.3', '11.0'), (8, '42.1', '11.0'), (8, '45.1', '11.0'), (8, '51.2', '11.0'), (8, '53.1', '11.0'), (8, '57.1', '11.0'), (8, '59.1', '11.0'), (8, '60.2', '11.0'), (8, '60.4', '11.0'), (8, '66.1', '11.0'), (8, '69.1', '11.0'), (7, '23.2', '11.0'), (7, '23.3', '11.0'), (7, '31.1', '11.0'), (7, '38.2', '11.0'), (7, '46.1', '11.0'), (7, '50.1', '11.0'), (7, '64.1', '11.0'), (6, '0011', '5.0'), (6, '0013', '5.0'), (6, '0031', '5.0'), (6, '0034', '5.0'), (6, '0047-A', '5.0'), (6, '007', '9.0'), (6, '01', '11.0'), (6, '01', '4.0'), (6, '01-04', '2.0'), (6, '01-06', '2.0'), (6, '01-08', '8.0'), (6, '01-10', '8.0'), (6, '01-11', '8.0'), (6, '01-14', '2.0'), (6, '01-15', '2.0'), (6, '01-16', '9.0'), (6, '01-21', '2.0'), (6, '01-22', '2.0'), (6, '01-27', '2.0'), (6, '01-28', '2.0'), (6, '01-31', '2.0'), (6, '01-39', '2.0'), (6, '01-40', '2.0'), (6, '01-42', '2.0'), (6, '01-44', '2.0'), (6, '01-45', '2.0'), (6, '01-46', '2.0'), (6, '01-48', '2.0'), (6, '01-49', '2.0'), (6, '0101', '1.0'), (6, '013', '9.0'), (6, '015', '9.0'), (6, '016', '9.0'), (6, '019', '9.0'), (6, '02', '11.0'), (6, '02', '13.0'), (6, '02', '3.0'), (6, '02', '7.0'), (6, '02-01', '8.0'), (6, '02-02', '4.0'), (6, '02-03', '8.0'), (6, '02-05', '8.0'), (6, '02-07', '8.0'), (6, '02-08', '8.0'), (6, '02-09', '8.0'), (6, '02-25', '9.0'), (6, '0200B', '3.0'), (6, '020A', '9.0'), (6, '020B', '9.0'), (6, '021', '9.0'), (6, '026', '9.0'), (6, '029A', '9.0'), (6, '03', '11.0'), (6, '03', '9.0'), (6, '03-00', '2.0'), (6, '03-00', '8.0'), (6, '030', '9.0'), (6, '0301', '1.0'), (6, '031', '9.0'), (6, '034', '9.0'), (6, '035', '13.0'), (6, '036', '9.0'), (6, '03A', '5.0'), (6, '03N', '13.0'), (6, '03S', '13.0'), (6, '04', '13.0'), (6, '04', '9.0'), (6, '04-01', '2.0'), (6, '04-01', '8.0'), (6, '04-03', '2.0'), (6, '04-03', '8.0'), (6, '04-08', '2.0'), (6, '04-12', '2.0'), (6, '04-12', '8.0'), (6, '04-13', '8.0'), (6, '04-18', '2.0'), (6, '04-19', '2.0'), (6, '04-20', '2.0'), (6, '042', '9.0'), (6, '04A', '7.0'), (6, '05', '7.0'), (6, '05-01', '2.0'), (6, '05-03', '2.0'), (6, '05-05', '2.0'), (6, '05-06', '2.0'), (6, '05-07', '2.0'), (6, '0501', '1.0'), (6, '05A', '13.0'), (6, '05A', '5.0'), (6, '05A', '9.0'), (6, '06', '11.0'), (6, '06-00', '8.0'), (6, '06-04', '2.0'), (6, '06-09', '2.0'), (6, '06-10', '2.0'), (6, '06B', '9.0'), (6, '06E', '13.0'), (6, '06S', '13.0'), (6, '07', '11.0'), (6, '07', '3.0'), (6, '07', '7.0'), (6, '07', '9.0'), (6, '07-06', '2.0'), (6, '07-07', '2.0'), (6, '07-10', '2.0'), (6, '07-12', '2.0'), (6, '08-00', '8.0'), (6, '08-02', '2.0'), (6, '08-03', '2.0'), (6, '08-04', '4.0'), (6, '08-05', '2.0'), (6, '08-06', '2.0'), (6, '08-09', '2.0'), (6, '08-10', '2.0'), (6, '08-11', '2.0'), (6, '0800A', '1.0'), (6, '0800B', '1.0'), (6, '09', '13.0'), (6, '09', '9.0'), (6, '09-00', '8.0'), (6, '09N', '13.0'), (6, '09S', '13.0'), (6, '1.0', '10.0'), (6, '1.0', '11.0'), (6, '1.0', '9.0'), (6, '1.1', '11.0'), (6, '10', '13.0'), (6, '10-00', '8.0'), (6, '10-02', '4.0'), (6, '10-03', '2.0'), (6, '10-04', '2.0'), (6, '10.0', '10.0'), (6, '10.0', '5.0'), (6, '100.0', '9.0'), (6, '1001.0', '1.0'), (6, '101.0', '10.0'), (6, '103.0', '9.0'), (6, '104.0', '12.0'), (6, '108.0', '12.0'), (6, '10S', '13.0'), (6, '11', '13.0'), (6, '11', '3.0'), (6, '11', '5.0'), (6, '11', '9.0'), (6, '11-01', '2.0'), (6, '11-01', '8.0'), (6, '11.0', '10.0'), (6, '11.0', '12.0'), (6, '11.0', '4.0'), (6, '11.0', '5.0'), (6, '1102B', '1.0'), (6, '113.0', '9.0'), (6, '116.0', '12.0'), (6, '117.0', '12.0'), (6, '118.0', '9.0'), (6, '12', '7.0'), (6, '12', '9.0'), (6, '12-01', '2.0'), (6, '12-04', '8.0'), (6, '12-05', '8.0'), (6, '12-06', '2.0'), (6, '12-07', '2.0'), (6, '12-09', '2.0'), (6, '12-09', '8.0'), (6, '12-12', '8.0'), (6, '12.0', '10.0'), (6, '12.0', '5.0'), (6, '120.0', '12.0'), (6, '1201', '1.0'), (6, '122.0', '12.0'), (6, '123.0', '6.0'), (6, '124.0', '12.0'), (6, '126.0', '12.0'), (6, '127', '13.0'), (6, '127', '5.0'), (6, '13', '13.0'), (6, '13-01', '4.0'), (6, '13-02', '4.0'), (6, '13-06', '4.0'), (6, '13-08', '4.0'), (6, '13-10', '4.0'), (6, '13.0', '12.0'), (6, '13.0', '5.0'), (6, '130.0', '12.0'), (6, '131.0', '10.0'), (6, '132.0', '10.0'), (6, '132.0', '12.0'), (6, '134.0', '12.0'), (6, '135.0', '12.0'), (6, '136.0', '9.0'), (6, '137.0', '9.0'), (6, '138.0', '12.0'), (6, '14', '4.0'), (6, '14', '5.0'), (6, '14', '7.0'), (6, '14', '9.0'), (6, '14-02', '4.0'), (6, '14.0', '4.0'), (6, '14.0', '5.0'), (6, '140.0', '9.0'), (6, '1403A2', '1.0'), (6, '1403B', '1.0'), (6, '141.0', '12.0'), (6, '142.0', '12.0'), (6, '145.0', '12.0'), (6, '146.0', '12.0'), (6, '147.0', '12.0'), (6, '148.0', '9.0'), (6, '149.0', '12.0'), (6, '15', '9.0'), (6, '15-02', '2.0'), (6, '15-03', '2.0'), (6, '15-04', '2.0'), (6, '15.0', '1.0'), (6, '15.0', '12.0'), (6, '15.0', '4.0'), (6, '15.0', '5.0'), (6, '15.0', '6.0'), (6, '1503', '1.0'), (6, '1504A', '1.0'), (6, '1504B', '1.0'), (6, '1505A', '1.0'), (6, '1507', '1.0'), (6, '1508B', '1.0'), (6, '1509', '1.0'), (6, '1511B', '3.0'), (6, '1512A', '1.0'), (6, '1513A', '3.0'), (6, '1513B', '3.0'), (6, '16', '3.0'), (6, '16-01', '2.0'), (6, '16-02', '2.0'), (6, '16-03', '2.0'), (6, '16-07', '2.0'), (6, '16-09', '2.0'), (6, '16-11', '2.0'), (6, '16.0', '10.0'), (6, '16.0', '5.0'), (6, '17', '4.0'), (6, '17', '7.0'), (6, '17-01', '2.0'), (6, '17-03', '2.0'), (6, '17-04', '4.0'), (6, '17-07', '2.0'), (6, '17-09', '2.0'), (6, '17-12', '2.0'), (6, '17-13', '2.0'), (6, '17.0', '12.0'), (6, '17.0', '4.0'), (6, '17.0', '5.0'), (6, '17.0', '8.0'), (6, '18', '13.0'), (6, '18', '4.0'), (6, '18-01', '2.0'), (6, '18-04', '2.0'), (6, '18-05', '2.0'), (6, '18-06', '2.0'), (6, '18.0', '4.0'), (6, '18.0', '5.0'), (6, '19-05', '4.0'), (6, '19-07', '4.0'), (6, '19-09', '4.0'), (6, '19-12', '4.0'), (6, '19-13', '4.0'), (6, '19-15', '4.0'), (6, '19-17', '4.0'), (6, '19-21', '4.0'), (6, '19.0', '10.0'), (6, '19.0', '5.0'), (6, '1920.0', '1.0'), (6, '1AL A', '3.0'), (6, '2.0', '10.0'), (6, '2.0', '11.0'), (6, '2.0', '12.0'), (6, '2.0', '9.0'), (6, '2.1', '11.0'), (6, '20', '7.0'), (6, '20-01', '2.0'), (6, '20-03', '2.0'), (6, '20-04', '2.0'), (6, '20-05', '2.0'), (6, '20-06A', '2.0'), (6, '20-08', '2.0'), (6, '20-10', '2.0'), (6, '20-12', '2.0'), (6, '20-14', '2.0'), (6, '20-15', '2.0'), (6, '20-16', '2.0'), (6, '20.0', '5.0'), (6, '200.0', '12.0'), (6, '201.0', '12.0'), (6, '202.0', '12.0'), (6, '203.0', '12.0'), (6, '205.0', '12.0'), (6, '206.0', '12.0'), (6, '206.0', '6.0'), (6, '207.0', '10.0'), (6, '207.0', '12.0'), (6, '209.0', '12.0'), (6, '21', '4.0'), (6, '21.0', '10.0'), (6, '210.0', '12.0'), (6, '211.0', '12.0'), (6, '212.0', '12.0'), (6, '212.0', '8.0'), (6, '213.0', '12.0'), (6, '214.0', '12.0'), (6, '215.0', '9.0'), (6, '216.0', '12.0'), (6, '22', '4.0'), (6, '22', '7.0'), (6, '22.0', '1.0'), (6, '22.0', '12.0'), (6, '22.0', '5.0'), (6, '221.0', '12.0'), (6, '222.0', '12.0'), (6, '224.0', '12.0'), (6, '225.0', '12.0'), (6, '226.0', '9.0'), (6, '227.0', '9.0'), (6, '228.0', '12.0'), (6, '229.0', '12.0'), (6, '23', '4.0'), (6, '23.0', '5.0'), (6, '23.0', '8.0'), (6, '230.0', '12.0'), (6, '231.0', '9.0'), (6, '232.0', '9.0'), (6, '234.0', '12.0'), (6, '236.0', '12.0'), (6, '237.0', '12.0'), (6, '240.0', '12.0'), (6, '241.0', '12.0'), (6, '243.0', '12.0'), (6, '25', '13.0'), (6, '25', '4.0'), (6, '25.0', '12.0'), (6, '25.0', '5.0'), (6, '2530.0', '1.0'), (6, '26', '13.0'), (6, '26', '4.0'), (6, '26.0', '1.0'), (6, '26A', '9.0'), (6, '27.0', '10.0'), (6, '28', '9.0'), (6, '28.0', '1.0'), (6, '29', '4.0'), (6, '29', '5.0'), (6, '29.0', '12.0'), (6, '29.0', '5.0'), (6, '3.0', '1.0'), (6, '3.0', '10.0'), (6, '3.0', '4.0'), (6, '3.0', '5.0'), (6, '3.0', '8.0'), (6, '30', '13.0'), (6, '30-2', '4.0'), (6, '30.0', '12.0'), (6, '30.0', '5.0'), (6, '31', '13.0'), (6, '31', '4.0'), (6, '31.0', '10.0'), (6, '31.0', '12.0'), (6, '31.0', '5.0'), (6, '32.0', '10.0'), (6, '32.0', '5.0'), (6, '33', '4.0'), (6, '33.0', '10.0'), (6, '33.0', '12.0'), (6, '34', '13.0'), (6, '34', '9.0'), (6, '34-2', '4.0'), (6, '34.0', '10.0'), (6, '34.0', '12.0'), (6, '35.0', '5.0'), (6, '35.3', '4.0'), (6, '36', '13.0'), (6, '36', '4.0'), (6, '36.0', '5.0'), (6, '37', '4.0'), (6, '37.1', '11.0'), (6, '38', '13.0'), (6, '38', '4.0'), (6, '38.0', '12.0'), (6, '38.0', '5.0'), (6, '39', '4.0'), (6, '39.0', '12.0'), (6, '39.0', '5.0'), (6, '4.0', '10.0'), (6, '4.0', '5.0'), (6, '4.0', '9.0'), (6, '40', '13.0'), (6, '40.0', '12.0'), (6, '40.0', '5.0'), (6, '405.0', '6.0'), (6, '41', '13.0'), (6, '41.0', '10.0'), (6, '41.0', '5.0'), (6, '42', '13.0'), (6, '42', '4.0'), (6, '42.0', '5.0'), (6, '42.0', '6.0'), (6, '43.0', '12.0'), (6, '43.0', '5.0'), (6, '43.0', '6.0'), (6, '44', '13.0'), (6, '44', '4.0'), (6, '45', '4.0'), (6, '45.0', '12.0'), (6, '45.0', '5.0'), (6, '46', '4.0'), (6, '46.0', '12.0'), (6, '46.0', '5.0'), (6, '47.0', '12.0'), (6, '5.0', '1.0'), (6, '5.0', '11.0'), (6, '5.0', '4.0'), (6, '5.0', '5.0'), (6, '5.1', '11.0'), (6, '50', '4.0'), (6, '503.0', '6.0'), (6, '507.0', '6.0'), (6, '51', '4.0'), (6, '53.0', '10.0'), (6, '54', '4.0'), (6, '54.0', '10.0'), (6, '58.0', '9.0'), (6, '6.0', '1.0'), (6, '6.0', '10.0'), (6, '6.0', '11.0'), (6, '60', '13.0'), (6, '602.0', '6.0'), (6, '603.0', '6.0'), (6, '605.0', '6.0'), (6, '606.0', '6.0'), (6, '61.0', '6.0'), (6, '63', '9.0'), (6, '63.1', '11.0'), (6, '66', '13.0'), (6, '66.0', '10.0'), (6, '7.0', '1.0'), (6, '7.0', '12.0'), (6, '7.0', '5.0'), (6, '7.0', '8.0'), (6, '705.0', '6.0'), (6, '708.0', '6.0'), (6, '71.0', '10.0'), (6, '72', '13.0'), (6, '72.0', '10.0'), (6, '73.0', '10.0'), (6, '74.0', '10.0'), (6, '75', '4.0'), (6, '75.0', '10.0'), (6, '75.0', '9.0'), (6, '76', '13.0'), (6, '77.0', '12.0'), (6, '78', '13.0'), (6, '79.0', '12.0'), (6, '8.0', '10.0'), (6, '8.0', '13.0'), (6, '8.0', '5.0'), (6, '8.0', '8.0'), (6, '8.2', '11.0'), (6, '8.3', '11.0'), (6, '80.0', '12.0'), (6, '806.0', '6.0'), (6, '808.0', '6.0'), (6, '80A', '13.0'), (6, '81.0', '10.0'), (6, '81.0', '12.0'), (6, '82', '13.0'), (6, '82.0', '12.0'), (6, '83.0', '12.0'), (6, '84', '13.0'), (6, '85.0', '12.0'), (6, '88.0', '9.0'), (6, '89.0', '12.0'), (6, '9.0', '10.0'), (6, '9.0', '9.0'), (6, '9.1', '11.0'), (6, '906.0', '6.0'), (6, '908.0', '6.0'), (6, '95.0', '12.0'), (6, '98.0', '12.0'), (6, 'A1', '1.0'), (6, 'A1', '8.0'), (6, 'A2', '8.0'), (6, 'AC', '11.0'), (6, 'AH49', '8.0'), (6, 'AN', '13.0'), (6, 'AS', '13.0'), (6, 'AW', '13.0'), (6, 'B2', '11.0'), (6, 'BA', '10.0'), (6, 'BC', '13.0'), (6, 'BC21', '3.0'), (6, 'BE', '10.0'), (6, 'BEADM', '3.0'), (6, 'BETHEL', '3.0'), (6, 'BM08', '3.0'), (6, 'BURN', '9.0'), (6, 'C1', '8.0'), (6, 'CAM', '8.0'), (6, 'CC', '11.0'), (6, 'CC03', '8.0'), (6, 'CC1', '10.0'), (6, 'CC14', '8.0'), (6, 'CC17', '8.0'), (6, 'CC18', '8.0'), (6, 'CC21', '8.0'), (6, 'CC26', '8.0'), (6, 'CC27', '8.0'), (6, 'CC29', '8.0'), (6, 'CC3', '10.0'), (6, 'CC31', '8.0'), (6, 'CC33', '8.0'), (6, 'CC4', '10.0'), (6, 'CD', '10.0'), (6, 'CF02', '7.0'), (6, 'CF05', '7.0'), (6, 'CF06', '7.0'), (6, 'CF1', '4.0'), (6, 'CF11', '7.0'), (6, 'CG05', '11.0'), (6, 'CG1', '6.0'), (6, 'CH', '3.0'), (6, 'CH-A', '10.0'), (6, 'CHOCO', '3.0'), (6, 'CL-N', '11.0'), (6, 'CL07', '11.0'), (6, 'CL08', '11.0'), (6, 'CL57-1', '8.0'), (6, 'COL', '3.0'), (6, 'CR07', '3.0'), (6, 'CRDM', '4.0'), (6, 'CUL', '11.0'), (6, 'CW', '4.0'), (6, 'CX', '4.0'), (6, 'DCRK', '10.0'), (6, 'DR', '10.0'), (6, 'DV08', '10.0'), (6, 'DV2-B', '10.0'), (6, 'E1', '8.0'), (6, 'EAB', '9.0'), (6, 'EAST', '3.0'), (6, 'EC', '10.0'), (6, 'ED', '11.0'), (6, 'EN03', '3.0'), (6, 'ENF1', '1.0'), (6, 'ES', '11.0'), (6, 'ESC114', '13.0'), (6, 'EUR-WP', '8.0'), (6, 'FBSH', '10.0'), (6, 'FEN1', '6.0'), (6, 'FLRI', '13.0'), (6, 'FP03', '7.0'), (6, 'FP04', '7.0'), (6, 'FP06', '7.0'), (6, 'FP08', '7.0'), (6, 'FR3', '6.0'), (6, 'FR5A', '6.0'), (6, 'FRCO', '3.0'), (6, 'FS16', '3.0'), (6, 'FT', '10.0'), (6, 'G06', '6.0'), (6, 'G07', '6.0'), (6, 'G08', '6.0'), (6, 'G10A', '8.0'), (6, 'G11B', '8.0'), (6, 'G17', '6.0'), (6, 'G20', '6.0'), (6, 'G21', '6.0'), (6, 'G27', '6.0'), (6, 'G2B', '8.0'), (6, 'G2C-1', '8.0'), (6, 'G2E-1', '8.0'), (6, 'G2E-2', '8.0'), (6, 'G38', '6.0'), (6, 'G3A-1', '8.0'), (6, 'G3A-2', '8.0'), (6, 'G3B', '8.0'), (6, 'G42A', '6.0'), (6, 'G43', '6.0'), (6, 'G46', '6.0'), (6, 'G47', '6.0'), (6, 'G48', '6.0'), (6, 'G50', '6.0'), (6, 'G54', '6.0'), (6, 'G58', '6.0'), (6, 'G5A-1', '8.0'), (6, 'G5B-1', '8.0'), (6, 'G63', '6.0'), (6, 'G70', '6.0'), (6, 'G74', '6.0'), (6, 'G8A', '8.0'), (6, 'GASTON', '1.0'), (6, 'GB', '4.0'), (6, 'GB12', '3.0'), (6, 'GR06', '7.0'), (6, 'H02', '7.0'), (6, 'H03', '6.0'), (6, 'H03', '7.0'), (6, 'H04', '6.0'), (6, 'H04', '7.0'), (6, 'H05', '6.0'), (6, 'H05', '7.0'), (6, 'H06', '7.0'), (6, 'H08', '7.0'), (6, 'H09', '6.0'), (6, 'H10', '7.0'), (6, 'H11', '7.0'), (6, 'H12', '6.0'), (6, 'H18', '6.0'), (6, 'H19A', '6.0'), (6, 'H21', '6.0'), (6, 'H26', '6.0'), (6, 'H27-B', '6.0'), (6, 'HAIS', '3.0'), (6, 'HC', '11.0'), (6, 'HC33', '10.0'), (6, 'HF', '4.0'), (6, 'HIWA', '11.0'), (6, 'HM05', '3.0'), (6, 'HR17', '3.0'), (6, 'HU', '10.0'), (6, 'HU20', '3.0'), (6, 'IS23', '10.0'), (6, 'JA01', '3.0'), (6, 'JC', '11.0'), (6, 'JEF2', '6.0'), (6, 'KDH', '3.0'), (6, 'KEEN', '7.0'), (6, 'LB', '13.0'), (6, 'LILE', '9.0'), (6, 'LOCU', '13.0'), (6, 'LR63', '8.0'), (6, 'LS12', '10.0'), (6, 'LT18', '7.0'), (6, 'LTR', '8.0'), (6, 'LW31', '10.0'), (6, 'M02', '7.0'), (6, 'M04', '7.0'), (6, 'M06', '7.0'), (6, 'MAR 1', '11.0'), (6, 'MC', '10.0'), (6, 'MCH110', '4.0'), (6, 'MH', '3.0'), (6, 'MIDD', '1.0'), (6, 'MON1', '6.0'), (6, 'MON2A', '6.0'), (6, 'MON3', '6.0'), (6, 'MR02', '8.0'), (6, 'MS', '10.0'), (6, 'MURN', '11.0'), (6, 'MURS', '11.0'), (6, 'MY', '3.0'), (6, 'N4', '3.0'), (6, 'N6', '3.0'), (6, 'NCGR1', '6.0'), (6, 'NE22A', '3.0'), (6, 'NE22B', '3.0'), (6, 'NEW', '3.0'), (6, 'NEW HO', '3.0'), (6, 'NH', '1.0'), (6, 'NIX', '3.0'), (6, 'NM', '11.0'), (6, 'NMAD', '6.0'), (6, 'NORTH', '11.0'), (6, 'NR02', '3.0'), (6, 'NWM117', '4.0'), (6, 'OG', '4.0'), (6, 'OR2', '6.0'), (6, 'P', '11.0'), (6, 'P02A', '1.0'), (6, 'P06A', '1.0'), (6, 'P08A', '1.0'), (6, 'P11A', '1.0'), (6, 'P19', '7.0'), (6, 'P20A', '1.0'), (6, 'P22A', '1.0'), (6, 'PA', '4.0'), (6, 'PB', '3.0'), (6, 'PEAC', '9.0'), (6, 'PG1', '6.0'), (6, 'PG2', '6.0'), (6, 'PHA1', '9.0'), (6, 'PHC', '9.0'), (6, 'PIT113', '4.0'), (6, 'PLVW', '7.0'), (6, 'PP', '3.0'), (6, 'PR', '11.0'), (6, 'PR', '13.0'), (6, 'PR01', '5.0'), (6, 'PR01', '8.0'), (6, 'PR07', '8.0'), (6, 'PR09', '7.0'), (6, 'PR10A', '7.0'), (6, 'PR10B', '7.0'), (6, 'PR11A', '7.0'), (6, 'PR11B', '7.0'), (6, 'PR12B', '7.0'), (6, 'PR14', '5.0'), (6, 'PR14', '7.0'), (6, 'PR16', '8.0'), (6, 'PR18', '5.0'), (6, 'PR23B', '7.0'), (6, 'PR24', '5.0'), (6, 'PR24', '7.0'), (6, 'PR25', '7.0'), (6, 'PR26', '7.0'), (6, 'PR27A', '7.0'), (6, 'PR27B', '7.0'), (6, 'PR28', '8.0'), (6, 'PR29', '7.0'), (6, 'PR29B', '7.0'), (6, 'PR31', '5.0'), (6, 'PR31', '8.0'), (6, 'PR31B', '7.0'), (6, 'PR32', '7.0'), (6, 'PR33', '5.0'), (6, 'PR34', '5.0'), (6, 'PR34', '7.0'), (6, 'PR35', '5.0'), (6, 'PR35', '7.0'), (6, 'PR37', '7.0'), (6, 'PRWL', '1.0'), (6, 'PRWR', '1.0'), (6, 'RC', '10.0'), (6, 'RC1', '6.0'), (6, 'RC2', '6.0'), (6, 'RGER', '11.0'), (6, 'RIPPY', '5.0'), (6, 'RL09', '3.0'), (6, 'RM', '13.0'), (6, 'RN', '13.0'), (6, 'ROWA', '7.0'), (6, 'RP20', '7.0'), (6, 'S C', '5.0'), (6, 'S S', '5.0'), (6, 'SAL', '3.0'), (6, 'SAV', '11.0'), (6, 'SB', '11.0'), (6, 'SB02', '7.0'), (6, 'SBRG', '7.0'), (6, 'SC13', '7.0'), (6, 'SCRK', '1.0'), (6, 'SDRI', '6.0'), (6, 'SH#1', '1.0'), (6, 'SH77', '8.0'), (6, 'SHIN', '1.0'), (6, 'SL78-3', '8.0'), (6, 'SLS', '9.0'), (6, 'SO', '13.0'), (6, 'SP15', '7.0'), (6, 'SPRING', '11.0'), (6, 'ST1', '10.0'), (6, 'ST3', '10.0'), (6, 'ST36', '10.0'), (6, 'ST4', '10.0'), (6, 'ST6', '10.0'), (6, 'SW19', '3.0'), (6, 'SWEE', '11.0'), (6, 'TA37', '10.0'), (6, 'TC1', '11.0'), (6, 'TH', '4.0'), (6, 'TL06', '3.0'), (6, 'TR123', '11.0'), (6, 'TYHO', '4.0'), (6, 'UT14', '7.0'), (6, 'VE14', '3.0'), (6, 'VR15', '3.0'), (6, 'W03', '7.0'), (6, 'W1', '1.0'), (6, 'W15', '7.0'), (6, 'W16', '7.0'), (6, 'W18', '7.0'), (6, 'W21', '7.0'), (6, 'W27', '7.0'), (6, 'W28', '7.0'), (6, 'W29', '7.0'), (6, 'W30', '7.0'), (6, 'WADES', '9.0'), (6, 'WC', '11.0'), (6, 'WC', '4.0'), (6, 'WD', '4.0'), (6, 'WE', '11.0'), (6, 'WEB', '11.0'), (6, 'WH', '1.0'), (6, 'WH', '4.0'), (6, 'WILT', '4.0'), (6, 'WN04', '3.0'), (5, '0001', '5.0'), (5, '0003', '5.0'), (5, '001', '9.0'), (5, '0014', '5.0'), (5, '0015', '5.0'), (5, '002', '9.0'), (5, '0022', '5.0'), (5, '0023', '8.0'), (5, '0029-A', '5.0'), (5, '003', '9.0'), (5, '0035', '5.0'), (5, '0039', '5.0'), (5, '004', '9.0'), (5, '0040', '5.0'), (5, '0047-B', '5.0'), (5, '0048', '5.0'), (5, '005', '9.0'), (5, '0051', '5.0'), (5, '0053', '5.0'), (5, '006', '1.0'), (5, '006', '9.0'), (5, '0065', '5.0'), (5, '0066', '5.0'), (5, '007', '1.0'), (5, '0070', '5.0'), (5, '01', '13.0'), (5, '01', '7.0'), (5, '01', '9.0'), (5, '01 BUR', '11.0'), (5, '01-01', '2.0'), (5, '01-02', '8.0'), (5, '01-03', '2.0'), (5, '01-07', '2.0'), (5, '01-07', '8.0'), (5, '01-09', '2.0'), (5, '01-10', '2.0'), (5, '01-12', '2.0'), (5, '01-17', '2.0'), (5, '01-18', '2.0'), (5, '01-19', '2.0'), (5, '01-20', '2.0'), (5, '01-23', '2.0'), (5, '01-25', '2.0'), (5, '01-30', '2.0'), (5, '01-32', '2.0'), (5, '01-36', '2.0'), (5, '01-37', '2.0'), (5, '01-38', '2.0'), (5, '01-41', '2.0'), (5, '01-43', '2.0'), (5, '01-47', '2.0'), (5, '01-50', '2.0'), (5, '014', '9.0'), (5, '017A', '9.0'), (5, '017B', '9.0'), (5, '02', '4.0'), (5, '02', '9.0'), (5, '02 CAN', '11.0'), (5, '02-01', '4.0'), (5, '02-02', '8.0'), (5, '02-03', '4.0'), (5, '02-06', '8.0'), (5, '0200A', '3.0'), (5, '022', '9.0'), (5, '023', '9.0'), (5, '024', '9.0'), (5, '027', '9.0'), (5, '028B', '9.0'), (5, '028C', '9.0'), (5, '028D', '9.0'), (5, '029C', '9.0'), (5, '03', '13.0'), (5, '03', '4.0'), (5, '03', '7.0'), (5, '032', '9.0'), (5, '033', '9.0'), (5, '035', '9.0'), (5, '037A', '9.0'), (5, '038A', '9.0'), (5, '038B', '9.0'), (5, '039', '9.0'), (5, '03W', '13.0'), (5, '04', '11.0'), (5, '04', '4.0'), (5, '04', '5.0'), (5, '04-02', '2.0'), (5, '04-04', '2.0'), (5, '04-05', '2.0'), (5, '04-06', '2.0'), (5, '04-07', '2.0'), (5, '04-08', '8.0'), (5, '04-09', '2.0'), (5, '04-11', '8.0'), (5, '04-13', '2.0'), (5, '04-14', '2.0'), (5, '04-15', '2.0'), (5, '04-16', '2.0'), (5, '04-17', '2.0'), (5, '040', '9.0'), (5, '0401', '1.0'), (5, '041', '9.0'), (5, '043', '9.0'), (5, '04A', '11.0'), (5, '04B2', '7.0'), (5, '05', '11.0'), (5, '05', '3.0'), (5, '05', '4.0'), (5, '05', '9.0'), (5, '05-00', '8.0'), (5, '05-08', '2.0'), (5, '05-10', '9.0'), (5, '06', '13.0'), (5, '06', '4.0'), (5, '06', '7.0'), (5, '06-05', '2.0'), (5, '06-06', '2.0'), (5, '06-08', '2.0'), (5, '06-89', '9.0'), (5, '0601', '3.0'), (5, '063', '13.0'), (5, '064', '13.0'), (5, '06A', '11.0'), (5, '06A', '5.0'), (5, '06N', '13.0'), (5, '07', '13.0'), (5, '07', '4.0'), (5, '07-00', '8.0'), (5, '07-03', '2.0'), (5, '07-04', '2.0'), (5, '07-09', '2.0'), (5, '07-13', '2.0'), (5, '0701', '1.0'), (5, '08', '13.0'), (5, '08', '4.0'), (5, '08', '7.0'), (5, '08', '9.0'), (5, '08-07', '2.0'), (5, '08-08', '2.0'), (5, '08N', '13.0'), (5, '08S', '13.0'), (5, '09', '11.0'), (5, '09', '5.0'), (5, '09 SOU', '11.0'), (5, '09-01', '4.0'), (5, '09-02', '4.0'), (5, '09-03', '4.0'), (5, '0901', '1.0'), (5, '09A', '5.0'), (5, '1', '3.0'), (5, '1.0', '12.0'), (5, '1.0', '13.0'), (5, '1.0', '4.0'), (5, '1.0', '5.0'), (5, '10', '9.0'), (5, '10-01', '4.0'), (5, '10.0', '1.0'), (5, '10.0', '11.0'), (5, '10.0', '12.0'), (5, '10.0', '4.0'), (5, '1001', '3.0'), (5, '101.0', '1.0'), (5, '101.0', '9.0'), (5, '102.0', '1.0'), (5, '102.0', '12.0'), (5, '103', '13.0'), (5, '103', '5.0'), (5, '103.0', '1.0'), (5, '104.0', '1.0'), (5, '105', '5.0'), (5, '105.0', '12.0'), (5, '107', '5.0'), (5, '108', '5.0'), (5, '109.0', '12.0'), (5, '10A', '5.0'), (5, '10A', '7.0'), (5, '10B', '7.0'), (5, '10N', '13.0'), (5, '11-02', '2.0'), (5, '11-02', '8.0'), (5, '11.0', '1.0'), (5, '11.0', '11.0'), (5, '11.0', '13.0'), (5, '11.0', '6.0'), (5, '110.0', '9.0'), (5, '1102A', '3.0'), (5, '111', '5.0'), (5, '111.0', '10.0'), (5, '111.0', '9.0'), (5, '112', '5.0'), (5, '112.0', '10.0'), (5, '114.0', '9.0'), (5, '115.0', '12.0'), (5, '115A', '5.0'), (5, '117', '5.0'), (5, '119', '5.0'), (5, '11A', '9.0'), (5, '12', '11.0'), (5, '12', '13.0'), (5, '12', '5.0'), (5, '12-02', '2.0'), (5, '12-03', '8.0'), (5, '12-04', '2.0'), (5, '12-05', '2.0'), (5, '12-06', '8.0'), (5, '12-08', '2.0'), (5, '12-08', '8.0'), (5, '12-11', '8.0'), (5, '12-13', '8.0'), (5, '12.0', '1.0'), (5, '12.0', '11.0'), (5, '12.0', '12.0'), (5, '12.0', '6.0'), (5, '120', '5.0'), (5, '1201.0', '1.0'), (5, '1202.0', '1.0'), (5, '1203.0', '1.0'), (5, '1204.0', '1.0'), (5, '121', '5.0'), (5, '122.0', '6.0'), (5, '123', '5.0'), (5, '123.0', '12.0'), (5, '124', '13.0'), (5, '125', '13.0'), (5, '127.0', '12.0'), (5, '128', '5.0'), (5, '128.0', '12.0'), (5, '129', '13.0'), (5, '129', '5.0'), (5, '12E', '13.0'), (5, '12N', '13.0'), (5, '12S', '13.0'), (5, '13', '4.0'), (5, '13', '7.0'), (5, '13', '9.0'), (5, '13-05', '2.0'), (5, '13-07', '2.0'), (5, '13-09', '4.0'), (5, '13-11', '4.0'), (5, '13.0', '1.0'), (5, '13.0', '10.0'), (5, '13.0', '11.0'), (5, '13.0', '13.0'), (5, '13.0', '4.0'), (5, '13.0', '6.0'), (5, '133.0', '10.0'), (5, '133.0', '12.0'), (5, '14', '11.0'), (5, '14', '13.0'), (5, '14', '3.0'), (5, '14.0', '1.0'), (5, '14.0', '10.0'), (5, '14.0', '12.0'), (5, '14.0', '13.0'), (5, '14.0', '6.0'), (5, '1401.0', '1.0'), (5, '1403A1', '1.0'), (5, '143.0', '12.0'), (5, '144.0', '9.0'), (5, '14A', '13.0'), (5, '15', '13.0'), (5, '15', '4.0'), (5, '15-01', '2.0'), (5, '15.0', '11.0'), (5, '15.0', '8.0'), (5, '150.0', '12.0'), (5, '1501', '1.0'), (5, '1505B', '1.0'), (5, '1506', '1.0'), (5, '1508A', '1.0'), (5, '151.0', '12.0'), (5, '1510A', '3.0'), (5, '1510B', '3.0'), (5, '1511A', '3.0'), (5, '16', '13.0'), (5, '16', '9.0'), (5, '16-05', '2.0'), (5, '16-06', '2.0'), (5, '16-10', '2.0'), (5, '16.0', '1.0'), (5, '16.0', '12.0'), (5, '16A', '11.0'), (5, '17', '13.0'), (5, '17', '3.0'), (5, '17-02', '4.0'), (5, '17-05', '2.0'), (5, '17-06', '2.0'), (5, '17-10', '2.0'), (5, '17-11', '2.0'), (5, '17.0', '1.0'), (5, '17.0', '10.0'), (5, '18', '11.0'), (5, '18-03', '2.0'), (5, '18-07', '2.0'), (5, '18.0', '1.0'), (5, '18.0', '12.0'), (5, '18.0', '8.0'), (5, '18A', '9.0'), (5, '19', '3.0'), (5, '19', '4.0'), (5, '19', '5.0'), (5, '19', '7.0'), (5, '19', '9.0'), (5, '19-03', '4.0'), (5, '19-11', '4.0'), (5, '19-14', '4.0'), (5, '19-16', '4.0'), (5, '19-18', '4.0'), (5, '19-19', '4.0'), (5, '19-20', '4.0'), (5, '19.0', '12.0'), (5, '19.0', '4.0'), (5, '19.0', '8.0'), (5, '19A', '13.0'), (5, '1GB', '3.0'), (5, '2', '3.0'), (5, '2.0', '1.0'), (5, '2.0', '4.0'), (5, '2.0', '5.0'), (5, '20', '13.0'), (5, '20', '3.0'), (5, '20-06B', '2.0'), (5, '20-09', '2.0'), (5, '20-11', '2.0'), (5, '20.0', '10.0'), (5, '201.0', '6.0'), (5, '203.0', '6.0'), (5, '204.0', '6.0'), (5, '21', '3.0'), (5, '21', '7.0'), (5, '21.0', '1.0'), (5, '21.0', '12.0'), (5, '21.0', '5.0'), (5, '21.0', '8.0'), (5, '217.0', '12.0'), (5, '217.0', '9.0'), (5, '218.0', '12.0'), (5, '219.0', '12.0'), (5, '22', '10.0'), (5, '22', '9.0'), (5, '22.0', '10.0'), (5, '22.0', '8.0'), (5, '220.0', '12.0'), (5, '229', '12.0'), (5, '23', '13.0'), (5, '23', '3.0'), (5, '23', '9.0'), (5, '23.0', '1.0'), (5, '23.0', '12.0'), (5, '233.0', '9.0'), (5, '235.0', '12.0'), (5, '24', '13.0'), (5, '24', '4.0'), (5, '24', '9.0'), (5, '24.0', '12.0'), (5, '24.0', '5.0'), (5, '24.0', '8.0'), (5, '242.0', '12.0'), (5, '25.0', '10.0'), (5, '25.0', '8.0'), (5, '26.0', '12.0'), (5, '26.0', '5.0'), (5, '27', '11.0'), (5, '27', '4.0'), (5, '27.0', '12.0'), (5, '27.0', '5.0'), (5, '27.0', '8.0'), (5, '28', '11.0'), (5, '28', '13.0'), (5, '28', '4.0'), (5, '28.0', '10.0'), (5, '28.0', '5.0'), (5, '29', '13.0'), (5, '29', '9.0'), (5, '29.0', '1.0'), (5, '3', '1.0'), (5, '3', '13.0'), (5, '3.0', '11.0'), (5, '3.0', '12.0'), (5, '3.0', '13.0'), (5, '3.1', '11.0'), (5, '30', '11.0'), (5, '30', '5.0'), (5, '30', '9.0'), (5, '30-1', '4.0'), (5, '30.0', '10.0'), (5, '303.0', '6.0'), (5, '304.0', '6.0'), (5, '305.0', '6.0'), (5, '306.0', '6.0'), (5, '32', '10.0'), (5, '32', '13.0'), (5, '32A', '9.0'), (5, '33', '13.0'), (5, '33.0', '5.0'), (5, '34', '11.0'), (5, '34-1', '4.0'), (5, '34.0', '5.0'), (5, '35', '13.0'), (5, '35.0', '10.0'), (5, '35.0', '12.0'), (5, '36', '9.0'), (5, '36.0', '12.0'), (5, '37', '9.0'), (5, '37.0', '10.0'), (5, '3BY', '3.0'), (5, '4.0', '1.0'), (5, '4.0', '11.0'), (5, '4.0', '12.0'), (5, '4.0', '13.0'), (5, '4.1', '11.0'), (5, '40', '9.0'), (5, '40.0', '10.0'), (5, '401.0', '6.0'), (5, '402.0', '6.0'), (5, '403.0', '6.0'), (5, '404.0', '6.0'), (5, '41', '4.0'), (5, '41', '9.0'), (5, '42.0', '12.0'), (5, '43', '4.0'), (5, '44.0', '12.0'), (5, '44.0', '5.0'), (5, '48', '4.0'), (5, '48.0', '12.0'), (5, '5', '1.0'), (5, '5.0', '10.0'), (5, '501.0', '1.0'), (5, '502.0', '6.0'), (5, '504.0', '6.0'), (5, '505.0', '6.0'), (5, '506.0', '6.0'), (5, '51.0', '10.0'), (5, '51.0', '12.0'), (5, '52', '13.0'), (5, '52', '4.0'), (5, '52.0', '12.0'), (5, '53-2', '4.0'), (5, '53.0', '12.0'), (5, '54.0', '12.0'), (5, '55-11', '4.0'), (5, '55.0', '10.0'), (5, '56', '13.0'), (5, '56.0', '12.0'), (5, '57.0', '9.0'), (5, '59.0', '12.0'), (5, '5AP', '3.0'), (5, '6', '3.0'), (5, '6.0', '12.0'), (5, '6.0', '4.0'), (5, '6.0', '5.0'), (5, '6.0', '9.0'), (5, '60.0', '12.0'), (5, '601.0', '6.0'), (5, '604.0', '6.0'), (5, '607.0', '6.0'), (5, '61', '9.0'), (5, '61.0', '12.0'), (5, '62', '13.0'), (5, '62.0', '12.0'), (5, '63.0', '6.0'), (5, '64', '9.0'), (5, '64.0', '12.0'), (5, '65.0', '12.0'), (5, '65.0', '6.0'), (5, '67.0', '6.0'), (5, '67.0', '9.0'), (5, '68', '13.0'), (5, '68.0', '9.0'), (5, '69.0', '9.0'), (5, '7.0', '10.0'), (5, '7.0', '13.0'), (5, '7.0', '4.0'), (5, '7.1', '11.0'), (5, '70', '13.0'), (5, '702.0', '6.0'), (5, '704.0', '6.0'), (5, '706.0', '6.0'), (5, '707.0', '6.0'), (5, '709.0', '6.0'), (5, '73.0', '9.0'), (5, '74', '13.0'), (5, '74.0', '9.0'), (5, '76.0', '9.0'), (5, '78', '4.0'), (5, '78.1', '12.0'), (5, '8.0', '11.0'), (5, '8.0', '4.0'), (5, '8.0', '9.0'), (5, '801.0', '6.0'), (5, '804.0', '6.0'), (5, '805.0', '6.0'), (5, '82.0', '6.0'), (5, '83.0', '10.0'), (5, '84.0', '12.0'), (5, '86A', '13.0'), (5, '87.0', '9.0'), (5, '88', '13.0'), (5, '9', '13.0'), (5, '9.0', '1.0'), (5, '9.0', '13.0'), (5, '9.0', '4.0'), (5, '9.0', '5.0'), (5, '901.0', '1.0'), (5, '901.0', '6.0'), (5, '902.0', '6.0'), (5, '903.0', '6.0'), (5, '904.0', '6.0'), (5, '907.0', '6.0'), (5, '909.0', '6.0'), (5, '91.0', '10.0'), (5, '91.0', '9.0'), (5, '93.0', '9.0'), (5, '94.0', '12.0'), (5, '99.0', '12.0'), (5, 'A2', '1.0'), (5, 'AE', '13.0'), (5, 'AL51', '8.0'), (5, 'ANNW', '11.0'), (5, 'ANSW', '11.0'), (5, 'AR', '11.0'), (5, 'AR', '13.0'), (5, 'AT', '11.0'), (5, 'AVON', '3.0'), (5, 'B1', '5.0'), (5, 'B2', '5.0'), (5, 'B2', '8.0'), (5, 'BC13', '10.0'), (5, 'BC2', '11.0'), (5, 'BCK', '11.0'), (5, 'BCRK', '3.0'), (5, 'BE-1', '11.0'), (5, 'BE-2', '11.0'), (5, 'BE-3', '11.0'), (5, 'BE-4', '11.0'), (5, 'BE56', '11.0'), (5, 'BEECH', '11.0'), (5, 'BELHV', '3.0'), (5, 'BELL', '11.0'), (5, 'BELVID', '3.0'), (5, 'BETHWR', '5.0'), (5, 'BEUL', '3.0'), (5, 'BFT1', '3.0'), (5, 'BG', '1.0'), (5, 'BIS', '8.0'), (5, 'BNVL', '10.0'), (5, 'BOGU', '3.0'), (5, 'BR', '5.0'), (5, 'BRAS', '11.0'), (5, 'BS26', '10.0'), (5, 'BTNR', '4.0'), (5, 'BULL', '1.0'), (5, 'C', '3.0'), (5, 'C1', '1.0'), (5, 'CAN', '8.0'), (5, 'CAR', '8.0'), (5, 'CASAR', '5.0'), (5, 'CB', '4.0'), (5, 'CC', '1.0'), (5, 'CC01', '8.0'), (5, 'CC04', '8.0'), (5, 'CC05', '8.0'), (5, 'CC06', '8.0'), (5, 'CC15', '8.0'), (5, 'CC2', '10.0'), (5, 'CC24', '8.0'), (5, 'CC34', '8.0'), (5, 'CE', '11.0'), (5, 'CFB8', '3.0'), (5, 'CG', '4.0'), (5, 'CG2', '6.0'), (5, 'CG3A', '6.0'), (5, 'CH', '4.0'), (5, 'CH-B', '10.0'), (5, 'CHE', '8.0'), (5, 'CL-S', '11.0'), (5, 'CL10', '3.0'), (5, 'CL57-2', '8.0'), (5, 'CLNE', '7.0'), (5, 'CLR4', '3.0'), (5, 'CLSW', '7.0'), (5, 'CO', '4.0'), (5, 'CRDL', '4.0'), (5, 'CU02', '8.0'), (5, 'D1', '13.0'), (5, 'D2', '13.0'), (5, 'DA', '4.0'), (5, 'DM', '4.0'), (5, 'DN29', '10.0'), (5, 'DR', '13.0'), (5, 'DV1-A', '10.0'), (5, 'DV1-B', '10.0'), (5, 'DV2-A', '10.0'), (5, 'DW28', '10.0'), (5, 'DYSART', '11.0'), (5, 'E', '5.0'), (5, 'E2', '8.0'), (5, 'EA1', '4.0'), (5, 'EAOX', '4.0'), (5, 'EBBS C', '11.0'), (5, 'EBND', '10.0'), (5, 'ED-1', '10.0'), (5, 'EF', '11.0'), (5, 'EF', '4.0'), (5, 'EH', '4.0'), (5, 'EH1', '1.0'), (5, 'EKWD', '9.0'), (5, 'ELD', '8.0'), (5, 'EM', '10.0'), (5, 'EMIS', '3.0'), (5, 'EO61-1', '8.0'), (5, 'ESC114', '4.0'), (5, 'EWD', '9.0'), (5, 'FAIS', '3.0'), (5, 'FALSTN', '5.0'), (5, 'FC', '3.0'), (5, 'FEN2', '6.0'), (5, 'FL', '11.0'), (5, 'FORT 2', '11.0'), (5, 'FP07', '7.0'), (5, 'FR', '11.0'), (5, 'FR1', '6.0'), (5, 'FR2', '6.0'), (5, 'FR5B', '6.0'), (5, 'G01', '6.0'), (5, 'G02', '6.0'), (5, 'G03', '6.0'), (5, 'G04', '6.0'), (5, 'G10', '6.0'), (5, 'G10B', '8.0'), (5, 'G13', '6.0'), (5, 'G14', '6.0'), (5, 'G15', '6.0'), (5, 'G1A', '8.0'), (5, 'G1B', '8.0'), (5, 'G22', '6.0'), (5, 'G24', '6.0'), (5, 'G25', '6.0'), (5, 'G26', '6.0'), (5, 'G28', '6.0'), (5, 'G2A', '8.0'), (5, 'G2C-2', '8.0'), (5, 'G2D', '8.0'), (5, 'G33', '6.0'), (5, 'G34', '6.0'), (5, 'G36', '6.0'), (5, 'G37', '6.0'), (5, 'G39', '6.0'), (5, 'G3C', '8.0'), (5, 'G40A2', '6.0'), (5, 'G40B', '6.0'), (5, 'G41B', '6.0'), (5, 'G45', '6.0'), (5, 'G49', '6.0'), (5, 'G4B', '8.0'), (5, 'G4C', '8.0'), (5, 'G51', '6.0'), (5, 'G52', '6.0'), (5, 'G53', '6.0'), (5, 'G57', '6.0'), (5, 'G59', '6.0'), (5, 'G5A-2', '8.0'), (5, 'G5C', '8.0'), (5, 'G60', '6.0'), (5, 'G61', '6.0'), (5, 'G62', '6.0'), (5, 'G64', '6.0'), (5, 'G65', '6.0'), (5, 'G66', '6.0'), (5, 'G67', '6.0'), (5, 'G69', '6.0'), (5, 'G6A', '8.0'), (5, 'G71', '6.0'), (5, 'G72', '6.0'), (5, 'G75', '6.0'), (5, 'G7A', '8.0'), (5, 'G8B', '8.0'), (5, 'G8C', '8.0'), (5, 'G8D', '8.0'), (5, 'G9B-1', '8.0'), (5, 'G9B-2', '8.0'), (5, 'GAPL', '1.0'), (5, 'GC09', '11.0'), (5, 'GIB', '6.0'), (5, 'GIDD', '7.0'), (5, 'GLIS', '3.0'), (5, 'GR', '11.0'), (5, 'GR', '13.0'), (5, 'GR', '6.0'), (5, 'GRAPEV', '11.0'), (5, 'H01', '6.0'), (5, 'H01', '7.0'), (5, 'H02', '6.0'), (5, 'H06', '6.0'), (5, 'H08', '6.0'), (5, 'H10', '6.0'), (5, 'H11', '6.0'), (5, 'H13', '6.0'), (5, 'H13', '7.0'), (5, 'H20A', '6.0'), (5, 'H20B', '6.0'), (5, 'H22', '6.0'), (5, 'H23', '6.0'), (5, 'H24', '6.0'), (5, 'H25', '6.0'), (5, 'H27-A', '6.0'), (5, 'H28', '6.0'), (5, 'H29A', '6.0'), (5, 'H29B', '6.0'), (5, 'HA', '11.0'), (5, 'HAL', '1.0'), (5, 'HARR', '7.0'), (5, 'HAY1', '11.0'), (5, 'HE', '4.0'), (5, 'HIGGIN', '11.0'), (5, 'HN14', '3.0'), (5, 'HO', '10.0'), (5, 'HOL', '1.0'), (5, 'HOT SP', '11.0'), (5, 'HOTH', '11.0'), (5, 'HPR', '1.0'), (5, 'HS', '11.0'), (5, 'HV', '1.0'), (5, 'HV-1', '11.0'), (5, 'HV-2', '11.0'), (5, 'HV-3', '11.0'), (5, 'I', '3.0'), (5, 'ID', '11.0'), (5, 'IR', '10.0'), (5, 'IR', '3.0'), (5, 'JAM1', '6.0'), (5, 'JAM2', '6.0'), (5, 'JAM5', '6.0'), (5, 'JARE', '1.0'), (5, 'JEF1', '6.0'), (5, 'K4', '3.0'), (5, 'K8', '3.0'), (5, 'K9', '3.0'), (5, 'KENA', '3.0'), (5, 'KFRK', '7.0'), (5, 'KI', '3.0'), (5, 'KM', '4.0'), (5, 'KM N', '5.0'), (5, 'KM S', '5.0'), (5, 'KTHK', '3.0'), (5, 'LAKE', '7.0'), (5, 'LATT', '5.0'), (5, 'LC', '13.0'), (5, 'LC', '4.0'), (5, 'LI', '10.0'), (5, 'LIT', '8.0'), (5, 'LIT 1', '1.0'), (5, 'LIT 2', '1.0'), (5, 'LJ', '11.0'), (5, 'LK-2', '10.0'), (5, 'LN11', '10.0'), (5, 'LR', '11.0'), (5, 'LU16', '7.0'), (5, 'LW18', '10.0'), (5, 'M', '5.0'), (5, 'M03', '7.0'), (5, 'M07', '7.0'), (5, 'M1', '1.0'), (5, 'MA', '10.0'), (5, 'MAGN', '3.0'), (5, 'MAR 4', '11.0'), (5, 'MARS H', '11.0'), (5, 'MATO', '3.0'), (5, 'MAUR', '1.0'), (5, 'MB62', '8.0'), (5, 'MCRK', '3.0'), (5, 'MG', '11.0'), (5, 'MH', '1.0'), (5, 'MHD2', '3.0'), (5, 'MHD4', '3.0'), (5, 'MILT', '13.0'), (5, 'MING', '7.0'), (5, 'ML', '1.0'), (5, 'ML23', '3.0'), (5, 'MT19', '7.0'), (5, 'MTG', '8.0'), (5, 'MULLS', '5.0'), (5, 'N', '3.0'), (5, 'N1', '3.0'), (5, 'N2', '3.0'), (5, 'N3N5', '3.0'), (5, 'NB', '10.0'), (5, 'NB', '11.0'), (5, 'NB01', '7.0'), (5, 'NB35', '10.0'), (5, 'NBCK', '10.0'), (5, 'NCLAY1', '6.0'), (5, 'NCRK', '3.0'), (5, 'NDRI', '6.0'), (5, 'NE', '11.0'), (5, 'NEBO', '11.0'), (5, 'NGHD', '3.0'), (5, 'NH', '10.0'), (5, 'NH1', '1.0'), (5, 'NICANO', '3.0'), (5, 'NKNB', '10.0'), (5, 'NLIB', '10.0'), (5, 'NM', '13.0'), (5, 'NORTH', '3.0'), (5, 'NPT2', '3.0'), (5, 'NS', '4.0'), (5, 'NSP', '9.0'), (5, 'NWASH', '6.0'), (5, 'OAKGRV', '5.0'), (5, 'OB21', '10.0'), (5, 'OKHL', '4.0'), (5, 'OL', '10.0'), (5, 'OLHI', '13.0'), (5, 'OR1', '6.0'), (5, 'P01A', '1.0'), (5, 'P01A', '7.0'), (5, 'P03', '3.0'), (5, 'P03A', '1.0'), (5, 'P04', '3.0'), (5, 'P04A', '1.0'), (5, 'P05A', '1.0'), (5, 'P07A', '1.0'), (5, 'P09A', '1.0'), (5, 'P10A', '1.0'), (5, 'P11', '7.0'), (5, 'P12A', '1.0'), (5, 'P14', '7.0'), (5, 'P15', '7.0'), (5, 'P15A', '1.0'), (5, 'P16A', '1.0'), (5, 'P17A', '1.0'), (5, 'P18A', '1.0'), (5, 'P19A', '1.0'), (5, 'P202', '7.0'), (5, 'P20A', '7.0'), (5, 'P21A', '1.0'), (5, 'P22A', '7.0'), (5, 'P23A', '1.0'), (5, 'P24', '7.0'), (5, 'P24A', '1.0'), (5, 'P26B', '7.0'), (5, 'P501', '7.0'), (5, 'P80', '7.0'), (5, 'PARKVI', '3.0'), (5, 'PBF', '9.0'), (5, 'PC22', '10.0'), (5, 'PCHT', '11.0'), (5, 'PDN', '9.0'), (5, 'PEE', '8.0'), (5, 'PELE', '3.0'), (5, 'PELH', '13.0'), (5, 'PKNL', '3.0'), (5, 'PNTH', '13.0'), (5, 'POLK', '9.0'), (5, 'PR02', '5.0'), (5, 'PR07', '5.0'), (5, 'PR07', '7.0'), (5, 'PR08', '5.0'), (5, 'PR08', '7.0'), (5, 'PR12A', '7.0'), (5, 'PR13', '7.0'), (5, 'PR16', '5.0'), (5, 'PR17', '5.0'), (5, 'PR19', '7.0'), (5, 'PR20', '7.0'), (5, 'PR21', '5.0'), (5, 'PR21', '7.0'), (5, 'PR22', '5.0'), (5, 'PR22', '7.0'), (5, 'PR23', '8.0'), (5, 'PR23A', '7.0'), (5, 'PR25', '5.0'), (5, 'PR28', '7.0'), (5, 'PR29', '5.0'), (5, 'PR29A', '7.0'), (5, 'PR30', '5.0'), (5, 'PR30', '7.0'), (5, 'PR31A', '7.0'), (5, 'PR32', '5.0'), (5, 'PR33', '7.0'), (5, 'PR36', '7.0'), (5, 'PR38', '7.0'), (5, 'PRCR', '1.0'), (5, 'PRGA', '1.0'), (5, 'PRO', '3.0'), (5, 'PROL', '1.0'), (5, 'PRSA', '1.0'), (5, 'PRSP', '1.0'), (5, 'PRTA', '1.0'), (5, 'PRTO', '1.0'), (5, 'PRWA', '1.0'), (5, 'PRWB', '1.0'), (5, 'PRWJ', '1.0'), (5, 'PRWK', '1.0'), (5, 'PRWM', '1.0'), (5, 'PRWN', '1.0'), (5, 'PSJW3', '3.0'), (5, 'QUA', '11.0'), (5, 'R1', '1.0'), (5, 'RCTL', '13.0'), (5, 'RE', '11.0'), (5, 'RE', '4.0'), (5, 'RICH S', '1.0'), (5, 'RINGW', '1.0'), (5, 'ROSE', '3.0'), (5, 'ROX4', '13.0'), (5, 'RR', '11.0'), (5, 'RR 10', '1.0'), (5, 'RR 5', '1.0'), (5, 'RVRD', '3.0'), (5, 'S 4A', '5.0'), (5, 'S1S2', '5.0'), (5, 'SA04', '11.0'), (5, 'SALM', '4.0'), (5, 'SCC', '11.0'), (5, 'SCLAY', '6.0'), (5, 'SDC', '11.0'), (5, 'SE', '10.0'), (5, 'SE', '11.0'), (5, 'SF1', '6.0'), (5, 'SF18', '3.0'), (5, 'SF3', '6.0'), (5, 'SFAL', '10.0'), (5, 'SH', '3.0'), (5, 'SH-A', '10.0'), (5, 'SH-B', '10.0'), (5, 'SH1', '1.0'), (5, 'SHANGI', '5.0'), (5, 'SHCR', '11.0'), (5, 'SL24', '10.0'), (5, 'SLIB', '10.0'), (5, 'SM', '11.0'), (5, 'SM', '3.0'), (5, 'SM', '4.0'), (5, 'SMAD', '6.0'), (5, 'SN', '1.0'), (5, 'SOUTH', '11.0'), (5, 'SOUTH', '3.0'), (5, 'SQ', '3.0'), (5, 'SSP', '9.0'), (5, 'ST', '13.0'), (5, 'ST2', '10.0'), (5, 'ST5', '10.0'), (5, 'STOK', '6.0'), (5, 'SUM1', '6.0'), (5, 'SUM2', '6.0'), (5, 'SUM4', '6.0'), (5, 'SW', '13.0'), (5, 'SWST', '13.0'), (5, 'T1', '3.0'), (5, 'T1', '8.0'), (5, 'T1T4T5', '5.0'), (5, 'T2', '8.0'), (5, 'TB', '13.0'), (5, 'TCRK', '3.0'), (5, 'TE13', '3.0'), (5, 'TO', '4.0'), (5, 'TR', '13.0'), (5, 'TT', '13.0'), (5, 'TURK', '7.0'), (5, 'UG', '10.0'), (5, 'UG', '13.0'), (5, 'UN', '1.0'), (5, 'UNC', '4.0'), (5, 'UWH', '8.0'), (5, 'VSS', '8.0'), (5, 'W', '1.0'), (5, 'W', '5.0'), (5, 'W12', '7.0'), (5, 'W13', '7.0'), (5, 'W17', '7.0'), (5, 'W2', '1.0'), (5, 'W24', '7.0'), (5, 'W25', '7.0'), (5, 'W31', '7.0'), (5, 'WAB', '9.0'), (5, 'WALL', '3.0'), (5, 'WALNUT', '11.0'), (5, 'WARS', '3.0'), (5, 'WASH1', '3.0'), (5, 'WASH4', '3.0'), (5, 'WASHP', '3.0'), (5, 'WB', '7.0'), (5, 'WBRK', '7.0'), (5, 'WDSD', '13.0'), (5, 'WEL1-2', '1.0'), (5, 'WEM', '8.0'), (5, 'WEST', '11.0'), (5, 'WEST', '3.0'), (5, 'WEST H', '3.0'), (5, 'WEST M', '11.0'), (5, 'WH', '3.0'), (5, 'WHCH', '11.0'), (5, 'WKWD', '9.0'), (5, 'WO06', '11.0'), (5, 'WOLF', '3.0'), (5, 'WOPO', '1.0'), (5, 'WP32', '10.0'), (5, 'WW1', '4.0'), (5, 'YANC', '13.0'), (4, '0003', '8.0'), (4, '0007', '8.0'), (4, '0008', '8.0'), (4, '001', '1.0'), (4, '0010', '8.0'), (4, '0011', '8.0'), (4, '0012', '5.0'), (4, '0014', '8.0'), (4, '0016', '8.0'), (4, '0017', '8.0'), (4, '0018', '5.0'), (4, '0019', '5.0'), (4, '002', '1.0'), (4, '0020', '5.0'), (4, '0020', '8.0'), (4, '0021', '5.0'), (4, '0024', '5.0'), (4, '0024', '8.0'), (4, '0025', '8.0'), (4, '0027', '8.0'), (4, '0028', '8.0'), (4, '0029-B', '5.0'), (4, '003', '1.0'), (4, '0036', '5.0'), (4, '0038', '5.0'), (4, '005', '1.0'), (4, '0052', '5.0'), (4, '0062', '5.0'), (4, '0064', '5.0'), (4, '008', '9.0'), (4, '009', '9.0'), (4, '01', '10.0'), (4, '01', '5.0'), (4, '01-02', '2.0'), (4, '01-04', '8.0'), (4, '01-05', '2.0'), (4, '01-07A', '2.0'), (4, '01-11', '2.0'), (4, '01-13', '2.0'), (4, '01-16', '2.0'), (4, '01-26', '2.0'), (4, '01-29', '2.0'), (4, '01-33', '2.0'), (4, '01-34', '2.0'), (4, '01-35', '2.0'), (4, '01-51', '2.0'), (4, '010', '9.0'), (4, '011', '9.0'), (4, '012', '1.0'), (4, '012', '9.0'), (4, '013', '1.0'), (4, '014', '1.0'), (4, '018', '9.0'), (4, '02', '1.0'), (4, '02', '10.0'), (4, '02-04', '4.0'), (4, '02-05', '4.0'), (4, '02-06', '4.0'), (4, '02.1', '11.0'), (4, '0212', '8.0'), (4, '023', '12.0'), (4, '025', '9.0'), (4, '028A', '9.0'), (4, '029B', '9.0'), (4, '03', '3.0'), (4, '03', '5.0'), (4, '03 EGY', '11.0'), (4, '034', '12.0'), (4, '037B', '9.0'), (4, '03C', '13.0'), (4, '04', '1.0'), (4, '04', '10.0'), (4, '04-09', '8.0'), (4, '04-10', '2.0'), (4, '04-11', '2.0'), (4, '04-21', '2.0'), (4, '05', '10.0'), (4, '05', '13.0'), (4, '054', '12.0'), (4, '058', '9.0'), (4, '06', '5.0'), (4, '06', '9.0'), (4, '06 JAC', '11.0'), (4, '06-07', '2.0'), (4, '06W', '13.0'), (4, '07', '5.0'), (4, '07 BRU', '11.0'), (4, '07-01', '2.0'), (4, '07-02', '2.0'), (4, '07-05', '2.0'), (4, '07-07A', '2.0'), (4, '07-11', '2.0'), (4, '070', '9.0'), (4, '08', '1.0'), (4, '08', '11.0'), (4, '08 CRA', '11.0'), (4, '085', '12.0'), (4, '087', '9.0'), (4, '09', '10.0'), (4, '09', '4.0'), (4, '09', '7.0'), (4, '1', '1.0'), (4, '1.0', '1.0'), (4, '10', '11.0'), (4, '10', '4.0'), (4, '10 PEN', '11.0'), (4, '10.0', '13.0'), (4, '10.0', '8.0'), (4, '10.0', '9.0'), (4, '101', '9.0'), (4, '102', '5.0'), (4, '104', '5.0'), (4, '106.0', '12.0'), (4, '109', '5.0'), (4, '11', '11.0'), (4, '11', '7.0'), (4, '11 PRI', '11.0'), (4, '11.0', '8.0'), (4, '11.0', '9.0'), (4, '1101', '1.0'), (4, '1101.0', '1.0'), (4, '1102A', '1.0'), (4, '112.0', '9.0'), (4, '113A', '5.0'), (4, '114', '5.0'), (4, '118', '5.0'), (4, '119.0', '9.0'), (4, '12', '10.0'), (4, '12', '4.0'), (4, '12-10', '8.0'), (4, '12.0', '13.0'), (4, '12.0', '4.0'), (4, '12.0', '9.0'), (4, '1202', '1.0'), (4, '121.0', '9.0'), (4, '1210', '13.0'), (4, '122', '12.0'), (4, '124', '5.0'), (4, '125', '5.0'), (4, '125.0', '12.0'), (4, '126', '13.0'), (4, '128', '12.0'), (4, '128', '13.0'), (4, '129.0', '9.0'), (4, '12W', '13.0'), (4, '13', '11.0'), (4, '13', '5.0'), (4, '13.0', '8.0'), (4, '13.0', '9.0'), (4, '1301', '3.0'), (4, '1301.0', '1.0'), (4, '131.0', '9.0'), (4, '134', '12.0'), (4, '137', '9.0'), (4, '14', '1.0'), (4, '14-01', '4.0'), (4, '14.0', '11.0'), (4, '146', '12.0'), (4, '148', '9.0'), (4, '15', '10.0'), (4, '15', '11.0'), (4, '15', '5.0'), (4, '15', '7.0'), (4, '15.0', '10.0'), (4, '1507B', '1.0'), (4, '1512B', '3.0'), (4, '16', '1.0'), (4, '16', '10.0'), (4, '16', '11.0'), (4, '16', '4.0'), (4, '16', '5.0'), (4, '16', '7.0'), (4, '16-04', '2.0'), (4, '16.0', '11.0'), (4, '16.0', '4.0'), (4, '16.0', '8.0'), (4, '16.0', '9.0'), (4, '1618.0', '10.0'), (4, '17', '11.0'), (4, '18', '10.0'), (4, '18', '5.0'), (4, '18', '7.0'), (4, '18-02', '2.0'), (4, '18-08', '2.0'), (4, '18.0', '10.0'), (4, '1RB', '3.0'), (4, '2', '1.0'), (4, '2.0', '13.0'), (4, '20', '10.0'), (4, '20', '4.0'), (4, '20', '5.0'), (4, '20', '9.0'), (4, '20-17', '2.0'), (4, '20.0', '12.0'), (4, '20.0', '8.0'), (4, '200', '12.0'), (4, '201.0', '1.0'), (4, '202', '12.0'), (4, '205.0', '6.0'), (4, '208.0', '12.0'), (4, '21', '1.0'), (4, '21', '13.0'), (4, '21', '9.0'), (4, '210', '12.0'), (4, '211', '12.0'), (4, '22', '1.0'), (4, '22', '13.0'), (4, '228', '12.0'), (4, '23', '7.0'), (4, '23.0', '10.0'), (4, '239.0', '12.0'), (4, '24.0', '1.0'), (4, '24.0', '10.0'), (4, '25', '9.0'), (4, '26', '10.0'), (4, '26', '5.0'), (4, '26.0', '10.0'), (4, '26.0', '8.0'), (4, '27', '13.0'), (4, '27.0', '1.0'), (4, '28.0', '12.0'), (4, '28.0', '8.0'), (4, '29', '10.0'), (4, '29.0', '10.0'), (4, '2OT', '3.0'), (4, '2SW', '3.0'), (4, '3', '3.0'), (4, '3.0', '9.0'), (4, '30', '10.0'), (4, '30', '4.0'), (4, '301.0', '6.0'), (4, '302.0', '6.0'), (4, '31', '10.0'), (4, '32', '4.0'), (4, '32.0', '12.0'), (4, '33', '9.0'), (4, '35', '9.0'), (4, '37.0', '12.0'), (4, '37.0', '5.0'), (4, '38', '9.0'), (4, '39', '13.0'), (4, '39', '9.0'), (4, '4', '3.0'), (4, '40', '4.0'), (4, '41.0', '12.0'), (4, '45', '13.0'), (4, '46', '13.0'), (4, '47', '4.0'), (4, '48', '13.0'), (4, '49.0', '12.0'), (4, '4HB', '3.0'), (4, '4N', '1.0'), (4, '4S', '1.0'), (4, '5', '3.0'), (4, '5.0', '12.0'), (4, '5.0', '13.0'), (4, '50', '13.0'), (4, '50.0', '12.0'), (4, '501.0', '6.0'), (4, '506.0', '10.0'), (4, '52.0', '10.0'), (4, '53-1', '4.0'), (4, '54', '13.0'), (4, '55-49', '4.0'), (4, '55.0', '12.0'), (4, '58', '13.0'), (4, '6', '13.0'), (4, '6.0', '13.0'), (4, '6.1', '11.0'), (4, '601.0', '1.0'), (4, '62', '9.0'), (4, '62.0', '10.0'), (4, '62.0', '6.0'), (4, '63.0', '12.0'), (4, '64', '13.0'), (4, '64.0', '6.0'), (4, '66.0', '12.0'), (4, '68.0', '6.0'), (4, '681.0', '11.0'), (4, '7.0', '11.0'), (4, '7.0', '9.0'), (4, '70.0', '9.0'), (4, '701.0', '1.0'), (4, '701.0', '6.0'), (4, '703.0', '6.0'), (4, '71.0', '9.0'), (4, '72.0', '9.0'), (4, '8.0', '1.0'), (4, '8.0', '12.0'), (4, '801.0', '1.0'), (4, '802.0', '6.0'), (4, '803.0', '6.0'), (4, '807.0', '6.0'), (4, '809.0', '6.0'), (4, '85', '13.0'), (4, '86.0', '9.0'), (4, '9.0', '11.0'), (4, '9.0', '12.0'), (4, '90.0', '9.0'), (4, '905.0', '6.0'), (4, '92.0', '10.0'), (4, '92.0', '9.0'), (4, '96.0', '12.0'), (4, '97.0', '12.0'), (4, 'A3', '1.0'), (4, 'ABCH', '3.0'), (4, 'ALARKA', '11.0'), (4, 'ALBE', '3.0'), (4, 'ALMOND', '11.0'), (4, 'ALVI', '13.0'), (4, 'ANDE', '13.0'), (4, 'ANS', '9.0'), (4, 'ANTI', '4.0'), (4, 'AS25', '10.0'), (4, 'ATSL', '3.0'), (4, 'AUROR', '3.0'), (4, 'AUTR', '7.0'), (4, 'B1', '11.0'), (4, 'B1', '8.0'), (4, 'B3', '11.0'), (4, 'B4', '11.0'), (4, 'BC', '11.0'), (4, 'BC1', '11.0'), (4, 'BD', '11.0'), (4, 'BE-7', '11.0'), (4, 'BEAR', '1.0'), (4, 'BEN', '8.0'), (4, 'BERE', '4.0'), (4, 'BFT2', '3.0'), (4, 'BK', '11.0'), (4, 'BLCK', '3.0'), (4, 'BR', '1.0'), (4, 'BUX', '3.0'), (4, 'C2', '1.0'), (4, 'C2', '13.0'), (4, 'C2', '8.0'), (4, 'CA', '4.0'), (4, 'CALY', '3.0'), (4, 'CAS', '11.0'), (4, 'CAST', '1.0'), (4, 'CB', '11.0'), (4, 'CB', '3.0'), (4, 'CC07', '8.0'), (4, 'CC08', '8.0'), (4, 'CC10', '8.0'), (4, 'CC12', '8.0'), (4, 'CC13', '8.0'), (4, 'CC16', '8.0'), (4, 'CC25', '8.0'), (4, 'CC3', '13.0'), (4, 'CC32', '8.0'), (4, 'CCCP', '3.0'), (4, 'CCREEK', '11.0'), (4, 'CF01', '7.0'), (4, 'CF19', '10.0'), (4, 'CFK', '11.0'), (4, 'CFRK', '3.0'), (4, 'CG3B', '6.0'), (4, 'CHAR', '3.0'), (4, 'CHCA', '3.0'), (4, 'CHIN', '3.0'), (4, 'CI', '3.0'), (4, 'CJ', '3.0'), (4, 'CL05', '7.0'), (4, 'CLCE', '7.0'), (4, 'CLEA', '7.0'), (4, 'CLEM', '7.0'), (4, 'CLWE', '7.0'), (4, 'CM', '1.0'), (4, 'CM', '11.0'), (4, 'COMIPE', '1.0'), (4, 'CORI', '4.0'), (4, 'CP', '4.0'), (4, 'CR', '1.0'), (4, 'CR', '11.0'), (4, 'CREEKS', '1.0'), (4, 'CS', '10.0'), (4, 'CS04', '7.0'), (4, 'CS1', '4.0'), (4, 'CSON', '11.0'), (4, 'CUCL', '13.0'), (4, 'CYCK', '3.0'), (4, 'DASW', '3.0'), (4, 'DFB9', '3.0'), (4, 'DHR', '8.0'), (4, 'DR', '11.0'), (4, 'DUCK', '3.0'), (4, 'EAST', '11.0'), (4, 'EAST H', '3.0'), (4, 'EDWAR', '3.0'), (4, 'EL', '3.0'), (4, 'ENF 2', '1.0'), (4, 'ENG', '3.0'), (4, 'ENO', '4.0'), (4, 'EO61-2', '8.0'), (4, 'ES', '4.0'), (4, 'EUR-WP', '9.0'), (4, 'EV', '11.0'), (4, 'FC-1', '11.0'), (4, 'FORT 1', '11.0'), (4, 'FR4', '6.0'), (4, 'G05', '6.0'), (4, 'G09', '6.0'), (4, 'G10C', '8.0'), (4, 'G11', '6.0'), (4, 'G12', '6.0'), (4, 'G16', '6.0'), (4, 'G18', '6.0'), (4, 'G19', '6.0'), (4, 'G1G2', '5.0'), (4, 'G23', '6.0'), (4, 'G29', '6.0'), (4, 'G30', '6.0'), (4, 'G31', '6.0'), (4, 'G32', '6.0'), (4, 'G35', '6.0'), (4, 'G40A1', '6.0'), (4, 'G41A', '6.0'), (4, 'G42B', '6.0'), (4, 'G44', '6.0'), (4, 'G4A', '8.0'), (4, 'G55', '6.0'), (4, 'G56', '6.0'), (4, 'G5B-2', '8.0'), (4, 'G68', '6.0'), (4, 'G6C', '8.0'), (4, 'G73', '6.0'), (4, 'G7B', '8.0'), (4, 'G9A', '8.0'), (4, 'GARL', '7.0'), (4, 'GCK', '11.0'), (4, 'GCRK', '11.0'), (4, 'GILEA', '3.0'), (4, 'GL', '4.0'), (4, 'GLENWD', '11.0'), (4, 'GLV', '11.0'), (4, 'GM', '11.0'), (4, 'GN', '1.0'), (4, 'GROVER', '5.0'), (4, 'GULL', '9.0'), (4, 'GW', '3.0'), (4, 'H', '4.0'), (4, 'H07', '6.0'), (4, 'H12', '7.0'), (4, 'H14', '6.0'), (4, 'H15', '6.0'), (4, 'H16', '6.0'), (4, 'H17', '6.0'), (4, 'H19B', '6.0'), (4, 'HALL', '3.0'), (4, 'HANG', '11.0'), (4, 'HAT', '3.0'), (4, 'HAY2', '11.0'), (4, 'HAYC', '11.0'), (4, 'HB', '3.0'), (4, 'HERR', '7.0'), (4, 'HIAW', '11.0'), (4, 'HLWY', '13.0'), (4, 'HM', '1.0'), (4, 'HS', '1.0'), (4, 'HTOP', '1.0'), (4, 'IH', '11.0'), (4, 'IS20', '10.0'), (4, 'J', '1.0'), (4, 'JAM3', '6.0'), (4, 'JAM4', '6.0'), (4, 'JEF3', '6.0'), (4, 'JEF4', '6.0'), (4, 'K2', '3.0'), (4, 'K3', '3.0'), (4, 'K5', '3.0'), (4, 'K6', '3.0'), (4, 'K7', '3.0'), (4, 'KINGST', '5.0'), (4, 'KITT', '1.0'), (4, 'KITT', '4.0'), (4, 'LAKE G', '1.0'), (4, 'LAUREL', '11.0'), (4, 'LAWNDL', '5.0'), (4, 'LB34', '10.0'), (4, 'LC09', '7.0'), (4, 'LEAS', '13.0'), (4, 'LI14', '10.0'), (4, 'LI65', '8.0'), (4, 'LL', '3.0'), (4, 'LM', '1.0'), (4, 'LOCK', '3.0'), (4, 'LP', '11.0'), (4, 'LRSL', '5.0'), (4, 'M.COVE', '11.0'), (4, 'M2', '1.0'), (4, 'MAR 2', '11.0'), (4, 'MAR 3', '11.0'), (4, 'MAR 5', '11.0'), (4, 'MARB', '11.0'), (4, 'MASM', '3.0'), (4, 'MERR', '3.0'), (4, 'MH07', '7.0'), (4, 'MHD1', '3.0'), (4, 'MHD3', '3.0'), (4, 'MON2B', '6.0'), (4, 'MRB-YO', '5.0'), (4, 'MT24', '3.0'), (4, 'MTEN', '4.0'), (4, 'MTTZ', '13.0'), (4, 'N.COVE', '11.0'), (4, 'NC', '4.0'), (4, 'NCGR2', '6.0'), (4, 'NCLAY2', '6.0'), (4, 'NFAL', '10.0'), (4, 'NGRV', '7.0'), (4, 'NM13', '3.0'), (4, 'NPT1', '3.0'), (4, 'NV', '1.0'), (4, 'NW', '11.0'), (4, 'OCK', '3.0'), (4, 'OLDF', '3.0'), (4, 'OPH', '8.0'), (4, 'OTBEG', '3.0'), (4, 'OW', '4.0'), (4, 'P02', '3.0'), (4, 'P02B', '7.0'), (4, 'P04', '7.0'), (4, 'P05', '3.0'), (4, 'P06', '3.0'), (4, 'P06', '7.0'), (4, 'P07', '3.0'), (4, 'P07', '7.0'), (4, 'P08', '7.0'), (4, 'P10', '7.0'), (4, 'P13', '7.0'), (4, 'P13A', '1.0'), (4, 'P14A', '1.0'), (4, 'P17', '7.0'), (4, 'P18', '7.0'), (4, 'P2', '1.0'), (4, 'P201', '7.0'), (4, 'P21', '7.0'), (4, 'P23', '7.0'), (4, 'P25', '7.0'), (4, 'P25B', '7.0'), (4, 'P3', '1.0'), (4, 'P35', '7.0'), (4, 'P40', '7.0'), (4, 'P45', '7.0'), (4, 'P502', '7.0'), (4, 'P55', '7.0'), (4, 'P65', '7.0'), (4, 'P70', '7.0'), (4, 'P75', '7.0'), (4, 'PANTE', '3.0'), (4, 'PC', '11.0'), (4, 'PF', '11.0'), (4, 'PH', '13.0'), (4, 'PH1', '3.0'), (4, 'PH2', '3.0'), (4, 'PHA2', '9.0'), (4, 'PHB1', '9.0'), (4, 'PHB2', '9.0'), (4, 'PINET', '3.0'), (4, 'PL10', '7.0'), (4, 'PLEASA', '11.0'), (4, 'POLKVL', '5.0'), (4, 'PR04', '7.0'), (4, 'PR13', '5.0'), (4, 'PR20', '8.0'), (4, 'PR32', '8.0'), (4, 'PRBL', '1.0'), (4, 'PRST', '1.0'), (4, 'PRWC', '1.0'), (4, 'PRWD', '1.0'), (4, 'PRWE', '1.0'), (4, 'PRWH', '1.0'), (4, 'PRWI', '1.0'), (4, 'PRWP', '1.0'), (4, 'PV', '11.0'), (4, 'RBN', '8.0'), (4, 'RF', '4.0'), (4, 'RG', '11.0'), (4, 'RIV', '11.0'), (4, 'ROC', '8.0'), (4, 'ROCK', '3.0'), (4, 'ROSE', '7.0'), (4, 'RR 11', '1.0'), (4, 'RR 3', '1.0'), (4, 'RR 4', '1.0'), (4, 'RR 7', '1.0'), (4, 'RR 9', '1.0'), (4, 'RR1-2', '1.0'), (4, 'RRC', '1.0'), (4, 'S 5', '5.0'), (4, 'SA', '11.0'), (4, 'SANDY', '11.0'), (4, 'SASS', '4.0'), (4, 'SB', '10.0'), (4, 'SBCK', '10.0'), (4, 'SC', '1.0'), (4, 'SE', '13.0'), (4, 'SF2', '6.0'), (4, 'SF4', '6.0'), (4, 'SH12', '7.0'), (4, 'SH2', '1.0'), (4, 'SJ', '4.0'), (4, 'SK', '1.0'), (4, 'SKNB', '10.0'), (4, 'SMCA', '3.0'), (4, 'SOOX', '4.0'), (4, 'SOSH', '3.0'), (4, 'STA', '8.0'), (4, 'STEC', '11.0'), (4, 'STEL', '3.0'), (4, 'STON', '13.0'), (4, 'STPT', '3.0'), (4, 'SUGG', '1.0'), (4, 'SUM3', '6.0'), (4, 'SURBA', '3.0'), (4, 'SW', '11.0'), (4, 'SWASH', '6.0'), (4, 'T.COVE', '11.0'), (4, 'T2', '3.0'), (4, 'T2T3', '5.0'), (4, 'TAPO', '11.0'), (4, 'TB', '10.0'), (4, 'TC7', '11.0'), (4, 'TOPT', '11.0'), (4, 'TUSQ', '11.0'), (4, 'UH08', '7.0'), (4, 'UNKA', '11.0'), (4, 'UU17', '7.0'), (4, 'V', '3.0'), (4, 'W', '3.0'), (4, 'W08', '7.0'), (4, 'W26', '7.0'), (4, 'WACO', '5.0'), (4, 'WAD', '8.0'), (4, 'WALS', '1.0'), (4, 'WAN', '3.0'), (4, 'WARN', '11.0'), (4, 'WASH2', '3.0'), (4, 'WDPD', '3.0'), (4, 'WEL 3', '1.0'), (4, 'WIHA', '3.0'), (4, 'WILD', '3.0'), (4, 'WN', '1.0'), (4, 'WND', '9.0'), (4, 'WO', '11.0'), (4, 'WOEL', '4.0'), (4, 'WS', '10.0'), (4, 'WS', '9.0'), (4, 'WS-1', '11.0'), (4, 'WS-2', '11.0'), (4, 'WW', '11.0'), (3, '0013', '8.0'), (3, '0015', '8.0'), (3, '0018', '8.0'), (3, '0019', '8.0'), (3, '002', '12.0'), (3, '0021', '8.0'), (3, '0022', '8.0'), (3, '0026', '8.0'), (3, '004', '1.0'), (3, '004', '12.0'), (3, '006', '12.0'), (3, '007', '12.0'), (3, '008', '1.0'), (3, '008', '12.0'), (3, '009', '1.0'), (3, '009', '12.0'), (3, '01', '1.0'), (3, '01.1', '11.0'), (3, '010', '1.0'), (3, '010', '12.0'), (3, '0102', '1.0'), (3, '0103', '1.0'), (3, '0104', '1.0'), (3, '011', '1.0'), (3, '011', '12.0'), (3, '015', '12.0'), (3, '019', '12.0'), (3, '02', '5.0'), (3, '0201', '1.0'), (3, '021', '12.0'), (3, '022', '12.0'), (3, '024', '12.0'), (3, '027', '12.0'), (3, '028', '12.0'), (3, '029', '12.0'), (3, '03', '1.0'), (3, '03', '10.0'), (3, '032', '12.0'), (3, '033', '12.0'), (3, '035', '12.0'), (3, '036', '12.0'), (3, '037', '12.0'), (3, '038', '12.0'), (3, '03N2', '13.0'), (3, '04 RAM', '11.0'), (3, '04.1', '11.0'), (3, '042', '12.0'), (3, '045', '12.0'), (3, '046', '12.0'), (3, '047', '12.0'), (3, '048', '12.0'), (3, '049', '12.0'), (3, '05', '1.0'), (3, '05', '5.0'), (3, '05 GRE', '11.0'), (3, '05.1', '11.0'), (3, '050', '12.0'), (3, '051', '12.0'), (3, '053', '12.0'), (3, '055', '12.0'), (3, '057', '9.0'), (3, '059', '12.0'), (3, '06', '1.0'), (3, '06', '10.0'), (3, '06.1', '11.0'), (3, '0601', '1.0'), (3, '061', '12.0'), (3, '063', '12.0'), (3, '065', '12.0'), (3, '068', '9.0'), (3, '069', '9.0'), (3, '07', '1.0'), (3, '07', '10.0'), (3, '07.1', '11.0'), (3, '071', '9.0'), (3, '072', '9.0'), (3, '073', '9.0'), (3, '074', '9.0'), (3, '075', '9.0'), (3, '076', '9.0'), (3, '078.1', '12.0'), (3, '079', '12.0'), (3, '08', '10.0'), (3, '08', '5.0'), (3, '08.2', '11.0'), (3, '08.3', '11.0'), (3, '080', '12.0'), (3, '0801', '1.0'), (3, '081', '12.0'), (3, '082', '12.0'), (3, '083', '12.0'), (3, '084', '12.0'), (3, '086', '9.0'), (3, '088', '9.0'), (3, '089', '12.0'), (3, '09', '1.0'), (3, '09.1', '11.0'), (3, '091', '9.0'), (3, '092', '9.0'), (3, '094', '12.0'), (3, '096', '12.0'), (3, '099', '12.0'), (3, '10', '1.0'), (3, '10', '10.0'), (3, '10', '5.0'), (3, '10-03', '4.0'), (3, '100', '9.0'), (3, '1001', '1.0'), (3, '101', '5.0'), (3, '102', '12.0'), (3, '103', '9.0'), (3, '105', '12.0'), (3, '106', '12.0'), (3, '106', '5.0'), (3, '109', '12.0'), (3, '11', '1.0'), (3, '11', '10.0'), (3, '110', '9.0'), (3, '111', '9.0'), (3, '112', '9.0'), (3, '113', '9.0'), (3, '114', '9.0'), (3, '115', '12.0'), (3, '118', '9.0'), (3, '12', '1.0'), (3, '1203', '1.0'), (3, '1204', '1.0'), (3, '1205', '1.0'), (3, '1205.0', '1.0'), (3, '121', '9.0'), (3, '122', '5.0'), (3, '123', '12.0'), (3, '126', '12.0'), (3, '126', '5.0'), (3, '127', '12.0'), (3, '129', '9.0'), (3, '13', '1.0'), (3, '13', '10.0'), (3, '1301', '1.0'), (3, '131', '9.0'), (3, '133', '12.0'), (3, '136', '9.0'), (3, '138', '12.0'), (3, '14', '10.0'), (3, '14.0', '8.0'), (3, '14.0', '9.0'), (3, '140', '9.0'), (3, '1401', '1.0'), (3, '141', '12.0'), (3, '142', '12.0'), (3, '143', '12.0'), (3, '144', '9.0'), (3, '145', '12.0'), (3, '147', '12.0'), (3, '149', '12.0'), (3, '15', '1.0'), (3, '15', '3.0'), (3, '15.0', '9.0'), (3, '150', '12.0'), (3, '151', '12.0'), (3, '17', '1.0'), (3, '17', '10.0'), (3, '17', '5.0'), (3, '17', '9.0'), (3, '17.0', '11.0'), (3, '18', '1.0'), (3, '18.0', '11.0'), (3, '1819.0', '10.0'), (3, '19', '10.0'), (3, '19', '11.0'), (3, '19.0', '11.0'), (3, '1920', '1.0'), (3, '201', '12.0'), (3, '203', '12.0'), (3, '205', '12.0'), (3, '206', '12.0'), (3, '207', '12.0'), (3, '208', '12.0'), (3, '209', '12.0'), (3, '21', '10.0'), (3, '21', '5.0'), (3, '212', '12.0'), (3, '213', '12.0'), (3, '214', '12.0'), (3, '215', '9.0'), (3, '216', '12.0'), (3, '217', '9.0'), (3, '218', '12.0'), (3, '218.0', '9.0'), (3, '219', '12.0'), (3, '22', '5.0'), (3, '220', '12.0'), (3, '221', '12.0'), (3, '222', '12.0'), (3, '224', '12.0'), (3, '225', '12.0'), (3, '227', '9.0'), (3, '23', '1.0'), (3, '23', '10.0'), (3, '23', '5.0'), (3, '230', '12.0'), (3, '231', '9.0'), (3, '232', '9.0'), (3, '233', '9.0'), (3, '234', '12.0'), (3, '235', '12.0'), (3, '236', '12.0'), (3, '237', '12.0'), (3, '239', '12.0'), (3, '24', '1.0'), (3, '24', '10.0'), (3, '24', '5.0'), (3, '240', '12.0'), (3, '241', '12.0'), (3, '242', '12.0'), (3, '243', '12.0'), (3, '25', '10.0'), (3, '25', '5.0'), (3, '2530', '1.0'), (3, '26', '1.0'), (3, '27', '1.0'), (3, '27', '10.0'), (3, '27', '5.0'), (3, '28', '1.0'), (3, '28', '10.0'), (3, '28', '5.0'), (3, '29', '1.0'), (3, '301.0', '1.0'), (3, '31', '5.0'), (3, '32', '5.0'), (3, '33', '10.0'), (3, '34', '10.0'), (3, '34', '5.0'), (3, '35', '10.0'), (3, '35', '5.0'), (3, '36', '5.0'), (3, '37', '10.0'), (3, '37', '5.0'), (3, '38', '5.0'), (3, '39', '5.0'), (3, '40', '10.0'), (3, '40', '5.0'), (3, '401.0', '1.0'), (3, '41', '5.0'), (3, '42', '5.0'), (3, '43', '5.0'), (3, '44', '5.0'), (3, '45', '5.0'), (3, '46', '5.0'), (3, '4MSIC', '3.0'), (3, '4VM A', '3.0'), (3, '5.0', '9.0'), (3, '65', '9.0'), (3, '681', '11.0'), (3, '96.0', '9.0'), (3, 'ARBA', '1.0'), (3, 'BM', '3.0'), (3, 'BUTWD', '1.0'), (3, 'CAN', '11.0'), (3, 'CC19', '8.0'), (3, 'CISL', '3.0'), (3, 'CO', '1.0'), (3, 'CONC', '1.0'), (3, 'CT03', '7.0'), (3, 'CV', '11.0'), (3, 'FAUCT', '1.0'), (3, 'FC-2', '11.0'), (3, 'FF', '3.0'), (3, 'G6B', '8.0'), (3, 'GALATI', '1.0'), (3, 'GR', '1.0'), (3, 'HOOK', '1.0'), (3, 'IBSP', '3.0'), (3, 'INGO', '7.0'), (3, 'IW', '1.0'), (3, 'K1', '3.0'), (3, 'LASKER', '1.0'), (3, 'MM', '9.0'), (3, 'NEWTOW', '1.0'), (3, 'NRIV', '3.0'), (3, 'P01', '3.0'), (3, 'P03', '7.0'), (3, 'P05', '7.0'), (3, 'P09', '7.0'), (3, 'P1', '1.0'), (3, 'P12', '7.0'), (3, 'P16B', '7.0'), (3, 'P30', '7.0'), (3, 'P60', '7.0'), (3, 'PP', '1.0'), (3, 'PROVI', '13.0'), (3, 'PRWQ', '1.0'), (3, 'R2', '1.0'), (3, 'REVERE', '11.0'), (3, 'RX', '1.0'), (3, 'SEABOA', '1.0'), (3, 'SEVERN', '1.0'), (3, 'SJ', '1.0'), (3, 'SLAD', '3.0'), (3, 'SW', '3.0'), (3, 'TLT', '9.0'), (3, 'WD', '1.0'), (3, 'WDS', '4.0'), (2, '001', '12.0'), (2, '003', '12.0'), (2, '005', '12.0'), (2, '012', '12.0'), (2, '013', '12.0'), (2, '014', '12.0'), (2, '016', '12.0'), (2, '017', '12.0'), (2, '018', '12.0'), (2, '020', '12.0'), (2, '025', '12.0'), (2, '026', '12.0'), (2, '03.1', '11.0'), (2, '030', '12.0'), (2, '031', '12.0'), (2, '039', '12.0'), (2, '040', '12.0'), (2, '041', '12.0'), (2, '043', '12.0'), (2, '044', '12.0'), (2, '052', '12.0'), (2, '056', '12.0'), (2, '062', '12.0'), (2, '064', '12.0'), (2, '066', '12.0'), (2, '067', '9.0'), (2, '077', '12.0'), (2, '090', '9.0'), (2, '095', '12.0'), (2, '097', '12.0'), (2, '098', '12.0'), (2, '104', '12.0'), (2, '108', '12.0'), (2, '116', '12.0'), (2, '117', '12.0'), (2, '119', '9.0'), (2, '120', '12.0'), (2, '124', '12.0'), (2, '125', '12.0'), (2, '130', '12.0'), (2, '135', '12.0'), (2, '217', '12.0'), (2, '226', '9.0'), (2, '33', '5.0'), (2, '41', '10.0'), (2, 'EWD', '8.0'), (1, '060', '12.0'), (1, '093', '9.0'), (1, '132', '12.0')]\n"
          ],
          "name": "stdout"
        }
      ]
    },
    {
      "cell_type": "code",
      "metadata": {
        "colab": {
          "base_uri": "https://localhost:8080/"
        },
        "id": "k2BfwBaGks-W",
        "outputId": "2c8d7655-2c66-4713-99f5-ac984eb4e14b"
      },
      "source": [
        "#NorthCarolina\n",
        "\n",
        "sql = '''\n",
        "SELECT * from precinct where state = 'NC'\n",
        "'''\n",
        "NorthCarolina = pd.read_sql_query(sql, conn)\n",
        "\n",
        "NorthCarolina = NorthCarolina[ ((NorthCarolina[\"PARTY\"] == \"REP\") |  (NorthCarolina[\"PARTY\"] == \"DEM\")) ]\n",
        "\n",
        "#Lets transform our data so each presinct has data on one row\n",
        "NorthCarolina = pd.merge(NorthCarolina, NorthCarolina, on = 'PRECINCT', how=\"left\")\n",
        "\n",
        "\n",
        "#Remove Duplicates due to Left Join Logic\n",
        "NorthCarolina = NorthCarolina[((NorthCarolina[\"PARTY_x\"] == \"DEM\") & (NorthCarolina[\"PARTY_x\"] != NorthCarolina[\"PARTY_y\"])) ]\n",
        "\n",
        "#Drop Unnecessary Columns\n",
        "NorthCarolina = NorthCarolina.drop(columns = ['DISTRICT_x', 'PARTY_x', 'DISTRICT_y', 'PARTY_y', 'STATE_y', 'STATE_x'], axis=1)\n",
        "\n",
        "NorthCarolina.columns = ['Precinct', 'DEM_VOTES', 'REP_VOTES']\n",
        "NorthCarolina['Total_Votes'] = NorthCarolina['DEM_VOTES'] + NorthCarolina['REP_VOTES']\n",
        "\n",
        "\n",
        "#Some Presincts have only 1 or 2 voters. Lets look at Prescincts that have more than 100 total DEM/REP Voters\n",
        "NorthCarolina = NorthCarolina[(NorthCarolina[\"Total_Votes\"] > 100)]\n",
        "NorthCarolina.sort_values(by=['Total_Votes'], inplace=True)\n",
        "\n",
        "NorthCarolina = NorthCarolina.head(6)\n",
        "\n",
        "#Need an empty row in the 0th index\n",
        "empty_df = pd.DataFrame([[np.nan] * len(NorthCarolina.columns)], columns=NorthCarolina.columns)\n",
        "NorthCarolina = empty_df.append(NorthCarolina, ignore_index=True)\n",
        "NorthCarolina = NorthCarolina.reset_index(drop=True)\n",
        "\n",
        "if GerryManderingIdentifier(NorthCarolina):\n",
        "  print(\"GerryMandering Possible In North Carolina District\")\n",
        "else:\n",
        "  print(\"GerryMandering Not Possible In North Carolina District\")\n",
        "\n"
      ],
      "execution_count": 76,
      "outputs": [
        {
          "output_type": "stream",
          "text": [
            "25 % Done\n",
            "50 % Done\n",
            "75 % Done\n",
            "final J 6\n",
            "final K 3\n",
            "final X 152\n",
            "final Y 178\n",
            "GerryMandering Possible In North Carolina District\n"
          ],
          "name": "stdout"
        }
      ]
    },
    {
      "cell_type": "code",
      "metadata": {
        "id": "wxgsOiiRuIrO"
      },
      "source": [
        "## In real life we want to close the cursor\n",
        "## But during development it is easier to manually close when the current session is complete.\n",
        "## cursor.close()"
      ],
      "execution_count": null,
      "outputs": []
    }
  ]
}