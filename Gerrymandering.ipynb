{
 "cells": [
  {
   "cell_type": "code",
   "execution_count": 2,
   "id": "multiple-winning",
   "metadata": {},
   "outputs": [
    {
     "name": "stdout",
     "output_type": "stream",
     "text": [
      "Skipping, found downloaded files in \".\\north-carolina-voter-file\" (use force=True to force download)\n"
     ]
    }
   ],
   "source": [
    "import opendatasets as od\n",
    "od.download(\"https://www.kaggle.com/jerimee/north-carolina-voter-file\")"
   ]
  },
  {
   "cell_type": "code",
   "execution_count": 185,
   "id": "fatal-butterfly",
   "metadata": {},
   "outputs": [
    {
     "name": "stderr",
     "output_type": "stream",
     "text": [
      "C:\\Users\\KNF\\Miniconda3\\lib\\site-packages\\IPython\\core\\interactiveshell.py:3146: DtypeWarning: Columns (24,33,34,35,36,37,38,40,41,44,45,46,47,48,49,50,51,52,53,54,55,56,57,58,59,60,61,69,70) have mixed types.Specify dtype option on import or set low_memory=False.\n",
      "  has_raised = await self.run_ast_nodes(code_ast.body, cell_name,\n"
     ]
    }
   ],
   "source": [
    "import pandas as pd\n",
    "\n",
    "nc = \"north-carolina-voter-file\\\\ncvoter_Statewide\\\\ncvoter_Statewide.txt\"\n",
    "nc = pd.read_csv(nc, delimiter = '\\t')"
   ]
  },
  {
   "cell_type": "code",
   "execution_count": 5,
   "id": "auburn-stocks",
   "metadata": {
    "collapsed": true
   },
   "outputs": [
    {
     "name": "stdout",
     "output_type": "stream",
     "text": [
      "county_id\n",
      "county_desc\n",
      "voter_reg_num\n",
      "status_cd\n",
      "voter_status_desc\n",
      "reason_cd\n",
      "voter_status_reason_desc\n",
      "absent_ind\n",
      "name_prefx_cd\n",
      "last_name\n",
      "first_name\n",
      "middle_name\n",
      "name_suffix_lbl\n",
      "res_street_address\n",
      "res_city_desc\n",
      "state_cd\n",
      "zip_code\n",
      "mail_addr1\n",
      "mail_addr2\n",
      "mail_addr3\n",
      "mail_addr4\n",
      "mail_city\n",
      "mail_state\n",
      "mail_zipcode\n",
      "full_phone_number\n",
      "race_code\n",
      "ethnic_code\n",
      "party_cd\n",
      "gender_code\n",
      "birth_age\n",
      "birth_state\n",
      "drivers_lic\n",
      "registr_dt\n",
      "precinct_abbrv\n",
      "precinct_desc\n",
      "municipality_abbrv\n",
      "municipality_desc\n",
      "ward_abbrv\n",
      "ward_desc\n",
      "cong_dist_abbrv\n",
      "super_court_abbrv\n",
      "judic_dist_abbrv\n",
      "nc_senate_abbrv\n",
      "nc_house_abbrv\n",
      "county_commiss_abbrv\n",
      "county_commiss_desc\n",
      "township_abbrv\n",
      "township_desc\n",
      "school_dist_abbrv\n",
      "school_dist_desc\n",
      "fire_dist_abbrv\n",
      "fire_dist_desc\n",
      "water_dist_abbrv\n",
      "water_dist_desc\n",
      "sewer_dist_abbrv\n",
      "sewer_dist_desc\n",
      "sanit_dist_abbrv\n",
      "sanit_dist_desc\n",
      "rescue_dist_abbrv\n",
      "rescue_dist_desc\n",
      "munic_dist_abbrv\n",
      "munic_dist_desc\n",
      "dist_1_abbrv\n",
      "dist_1_desc\n",
      "dist_2_abbrv\n",
      "dist_2_desc\n",
      "confidential_ind\n",
      "birth_year\n",
      "ncid\n",
      "vtd_abbrv\n",
      "vtd_desc\n"
     ]
    }
   ],
   "source": [
    "for col in nc.columns:\n",
    "    print(col)"
   ]
  },
  {
   "cell_type": "code",
   "execution_count": 72,
   "id": "smoking-vitamin",
   "metadata": {},
   "outputs": [
    {
     "data": {
      "text/html": [
       "<div>\n",
       "<style scoped>\n",
       "    .dataframe tbody tr th:only-of-type {\n",
       "        vertical-align: middle;\n",
       "    }\n",
       "\n",
       "    .dataframe tbody tr th {\n",
       "        vertical-align: top;\n",
       "    }\n",
       "\n",
       "    .dataframe thead th {\n",
       "        text-align: right;\n",
       "    }\n",
       "</style>\n",
       "<table border=\"1\" class=\"dataframe\">\n",
       "  <thead>\n",
       "    <tr style=\"text-align: right;\">\n",
       "      <th></th>\n",
       "      <th>cong_dist_abbrv</th>\n",
       "      <th>party_cd</th>\n",
       "      <th>status_cd</th>\n",
       "      <th>precinct_abbrv</th>\n",
       "    </tr>\n",
       "  </thead>\n",
       "  <tbody>\n",
       "    <tr>\n",
       "      <th>0</th>\n",
       "      <td>13.0</td>\n",
       "      <td>UNA</td>\n",
       "      <td>A</td>\n",
       "      <td>08N</td>\n",
       "    </tr>\n",
       "    <tr>\n",
       "      <th>1</th>\n",
       "      <td>13.0</td>\n",
       "      <td>UNA</td>\n",
       "      <td>A</td>\n",
       "      <td>10N</td>\n",
       "    </tr>\n",
       "    <tr>\n",
       "      <th>2</th>\n",
       "      <td>13.0</td>\n",
       "      <td>UNA</td>\n",
       "      <td>A</td>\n",
       "      <td>03S</td>\n",
       "    </tr>\n",
       "    <tr>\n",
       "      <th>3</th>\n",
       "      <td>13.0</td>\n",
       "      <td>UNA</td>\n",
       "      <td>A</td>\n",
       "      <td>124</td>\n",
       "    </tr>\n",
       "    <tr>\n",
       "      <th>4</th>\n",
       "      <td>13.0</td>\n",
       "      <td>DEM</td>\n",
       "      <td>A</td>\n",
       "      <td>08N</td>\n",
       "    </tr>\n",
       "  </tbody>\n",
       "</table>\n",
       "</div>"
      ],
      "text/plain": [
       "   cong_dist_abbrv party_cd status_cd precinct_abbrv\n",
       "0             13.0      UNA         A            08N\n",
       "1             13.0      UNA         A            10N\n",
       "2             13.0      UNA         A            03S\n",
       "3             13.0      UNA         A            124\n",
       "4             13.0      DEM         A            08N"
      ]
     },
     "execution_count": 72,
     "metadata": {},
     "output_type": "execute_result"
    }
   ],
   "source": [
    "cols = ['cong_dist_abbrv',\n",
    "'party_cd',\n",
    "'status_cd',\n",
    "'precinct_abbrv']\n",
    "\n",
    "nc_voters = nc[cols]\n",
    "nc_voters.head()"
   ]
  },
  {
   "cell_type": "code",
   "execution_count": 73,
   "id": "extended-impossible",
   "metadata": {},
   "outputs": [
    {
     "name": "stderr",
     "output_type": "stream",
     "text": [
      "<ipython-input-73-f6446cbe4359>:6: SettingWithCopyWarning: \n",
      "A value is trying to be set on a copy of a slice from a DataFrame.\n",
      "Try using .loc[row_indexer,col_indexer] = value instead\n",
      "\n",
      "See the caveats in the documentation: https://pandas.pydata.org/pandas-docs/stable/user_guide/indexing.html#returning-a-view-versus-a-copy\n",
      "  nc_voters['party_cd'] = nc_voters['party_cd'].replace(['UNA','DEM','REP','LIB','GRE','CST'],['OTH','DEM','REP','LBT','GRN','CONST'])\n"
     ]
    }
   ],
   "source": [
    "nc_voters['party_cd'].unique()\n",
    "\n",
    "#NC Parties = Undeclared, Constitution, Democratic, Green, Libertarian and Republican\n",
    "#To match our other data, I'm changing to OTH, CONST, DEM, GRN, LBT, and REP\n",
    "\n",
    "nc_voters['party_cd'] = nc_voters['party_cd'].replace(['UNA','DEM','REP','LIB','GRE','CST'],\n",
    "                                                      ['OTH','DEM','REP','LBT','GRN','CONST'])"
   ]
  },
  {
   "cell_type": "code",
   "execution_count": 74,
   "id": "silent-geometry",
   "metadata": {},
   "outputs": [],
   "source": [
    "#keeping only active voters\n",
    "nc_voters = nc_voters[nc_voters['status_cd']=='A']\n",
    "nc_voters = nc_voters.drop(columns='status_cd', axis=1)"
   ]
  },
  {
   "cell_type": "code",
   "execution_count": 145,
   "id": "personal-content",
   "metadata": {},
   "outputs": [],
   "source": [
    "#Aggregate by county/precinct/party\n",
    "nc_totals = nc_voters.groupby(['cong_dist_abbrv', 'precinct_abbrv','party_cd']).size().reset_index(name='counts')"
   ]
  },
  {
   "cell_type": "code",
   "execution_count": 146,
   "id": "black-christmas",
   "metadata": {},
   "outputs": [
    {
     "data": {
      "text/html": [
       "<div>\n",
       "<style scoped>\n",
       "    .dataframe tbody tr th:only-of-type {\n",
       "        vertical-align: middle;\n",
       "    }\n",
       "\n",
       "    .dataframe tbody tr th {\n",
       "        vertical-align: top;\n",
       "    }\n",
       "\n",
       "    .dataframe thead th {\n",
       "        text-align: right;\n",
       "    }\n",
       "</style>\n",
       "<table border=\"1\" class=\"dataframe\">\n",
       "  <thead>\n",
       "    <tr style=\"text-align: right;\">\n",
       "      <th></th>\n",
       "      <th>cong_dist_abbrv</th>\n",
       "      <th>precinct_abbrv</th>\n",
       "      <th>party_cd</th>\n",
       "      <th>counts</th>\n",
       "      <th>STATE</th>\n",
       "    </tr>\n",
       "  </thead>\n",
       "  <tbody>\n",
       "    <tr>\n",
       "      <th>0</th>\n",
       "      <td>1.0</td>\n",
       "      <td>1.0</td>\n",
       "      <td>DEM</td>\n",
       "      <td>838</td>\n",
       "      <td>NC</td>\n",
       "    </tr>\n",
       "    <tr>\n",
       "      <th>1</th>\n",
       "      <td>1.0</td>\n",
       "      <td>1.0</td>\n",
       "      <td>LBT</td>\n",
       "      <td>8</td>\n",
       "      <td>NC</td>\n",
       "    </tr>\n",
       "    <tr>\n",
       "      <th>2</th>\n",
       "      <td>1.0</td>\n",
       "      <td>1.0</td>\n",
       "      <td>OTH</td>\n",
       "      <td>563</td>\n",
       "      <td>NC</td>\n",
       "    </tr>\n",
       "    <tr>\n",
       "      <th>3</th>\n",
       "      <td>1.0</td>\n",
       "      <td>1.0</td>\n",
       "      <td>REP</td>\n",
       "      <td>880</td>\n",
       "      <td>NC</td>\n",
       "    </tr>\n",
       "    <tr>\n",
       "      <th>4</th>\n",
       "      <td>1.0</td>\n",
       "      <td>2.0</td>\n",
       "      <td>CONST</td>\n",
       "      <td>2</td>\n",
       "      <td>NC</td>\n",
       "    </tr>\n",
       "  </tbody>\n",
       "</table>\n",
       "</div>"
      ],
      "text/plain": [
       "   cong_dist_abbrv precinct_abbrv party_cd  counts STATE\n",
       "0              1.0            1.0      DEM     838    NC\n",
       "1              1.0            1.0      LBT       8    NC\n",
       "2              1.0            1.0      OTH     563    NC\n",
       "3              1.0            1.0      REP     880    NC\n",
       "4              1.0            2.0    CONST       2    NC"
      ]
     },
     "execution_count": 146,
     "metadata": {},
     "output_type": "execute_result"
    }
   ],
   "source": [
    "nc_totals['STATE']='NC'\n",
    "nc_totals.head()"
   ]
  },
  {
   "cell_type": "code",
   "execution_count": 147,
   "id": "addressed-farmer",
   "metadata": {},
   "outputs": [],
   "source": [
    "nc_totals = nc_totals.rename(columns={'cong_dist_abbrv':'DISTRICT', \n",
    "                                      'precinct_abbrv':'PRECINCT','party_cd':'PARTY','counts':'VOTERS'})\n",
    "nc_totals = nc_totals[['STATE','PRECINCT','DISTRICT','PARTY','VOTERS']]"
   ]
  },
  {
   "cell_type": "code",
   "execution_count": 171,
   "id": "helpful-secondary",
   "metadata": {},
   "outputs": [],
   "source": [
    "# Inspo from: https://www.youtube.com/watch?v=iOurqfCJwy8\n",
    "# but I changed it so I didn't have to explicitly call the columns in the print statement\n",
    "\n",
    "l = []\n",
    "for col in nc_totals.columns:\n",
    "    x=(col)\n",
    "    l.append(x)\n",
    "\n",
    "with open('ncinsert.sql','w'):\n",
    "    for index, row in nc_totals.iterrows():\n",
    "        print('INSERT INTO precinct'+'('+str(l).strip('[]')+') '+'VALUES('+\n",
    "              '\"'+str(row[str(l[0])])+'\", '+\n",
    "              '\"'+str(row[str(l[1])])+'\", '+\n",
    "              '\"'+str(row[str(l[2])])+'\", '+\n",
    "              '\"'+str(row[str(l[3])])+'\", '+\n",
    "              str(row[str(l[4])])+\n",
    "              ');',file=open('ncinsert.sql','a'))\n",
    "\n",
    "#Adding the begin transactoin and commit lines to the original file\n",
    "with open('ncinsert.sql', 'r') as original: data = original.read()\n",
    "with open('ncinsert.sql', 'w') as modified: modified.write(\"BEGIN TRANSACTION;\\n\" + data + \"COMMIT;\")"
   ]
  },
  {
   "cell_type": "code",
   "execution_count": 251,
   "id": "serious-march",
   "metadata": {},
   "outputs": [],
   "source": [
    "ri = \"https://raw.githubusercontent.com/anita-uva/gerrymander/main/state-data/RI/ri.txt\"\n",
    "ri = pd.read_csv(ri, sep=\"      \", engine='python')"
   ]
  },
  {
   "cell_type": "code",
   "execution_count": 252,
   "id": "average-ghost",
   "metadata": {},
   "outputs": [
    {
     "name": "stdout",
     "output_type": "stream",
     "text": [
      "City/Town\n",
      "  Precinct\n",
      "  Party\n",
      "  Reg. Voters\n",
      "  % of Reg. Voters\n"
     ]
    }
   ],
   "source": [
    "for col in ri.columns:\n",
    "    print(col)"
   ]
  },
  {
   "cell_type": "code",
   "execution_count": 253,
   "id": "relevant-skating",
   "metadata": {},
   "outputs": [],
   "source": [
    "ri.columns = ri.columns.str.replace(' ', '')"
   ]
  },
  {
   "cell_type": "code",
   "execution_count": 254,
   "id": "alleged-latitude",
   "metadata": {},
   "outputs": [
    {
     "name": "stdout",
     "output_type": "stream",
     "text": [
      "City/Town\n",
      "Precinct\n",
      "Party\n",
      "Reg.Voters\n",
      "%ofReg.Voters\n"
     ]
    }
   ],
   "source": [
    "for col in ri.columns:\n",
    "    print(col)"
   ]
  },
  {
   "cell_type": "code",
   "execution_count": 255,
   "id": "jewish-observer",
   "metadata": {},
   "outputs": [
    {
     "data": {
      "text/html": [
       "<div>\n",
       "<style scoped>\n",
       "    .dataframe tbody tr th:only-of-type {\n",
       "        vertical-align: middle;\n",
       "    }\n",
       "\n",
       "    .dataframe tbody tr th {\n",
       "        vertical-align: top;\n",
       "    }\n",
       "\n",
       "    .dataframe thead th {\n",
       "        text-align: right;\n",
       "    }\n",
       "</style>\n",
       "<table border=\"1\" class=\"dataframe\">\n",
       "  <thead>\n",
       "    <tr style=\"text-align: right;\">\n",
       "      <th></th>\n",
       "      <th>City/Town</th>\n",
       "      <th>Precinct</th>\n",
       "      <th>Party</th>\n",
       "      <th>Reg.Voters</th>\n",
       "    </tr>\n",
       "  </thead>\n",
       "  <tbody>\n",
       "    <tr>\n",
       "      <th>0</th>\n",
       "      <td>Barrington</td>\n",
       "      <td>101</td>\n",
       "      <td>Democrat</td>\n",
       "      <td>973</td>\n",
       "    </tr>\n",
       "    <tr>\n",
       "      <th>1</th>\n",
       "      <td>Barrington</td>\n",
       "      <td>101</td>\n",
       "      <td>Republican</td>\n",
       "      <td>343</td>\n",
       "    </tr>\n",
       "    <tr>\n",
       "      <th>2</th>\n",
       "      <td>Barrington</td>\n",
       "      <td>101</td>\n",
       "      <td>Unaffiliated</td>\n",
       "      <td>954</td>\n",
       "    </tr>\n",
       "    <tr>\n",
       "      <th>3</th>\n",
       "      <td>Barrington</td>\n",
       "      <td>102</td>\n",
       "      <td>Democrat</td>\n",
       "      <td>1380</td>\n",
       "    </tr>\n",
       "    <tr>\n",
       "      <th>4</th>\n",
       "      <td>Barrington</td>\n",
       "      <td>102</td>\n",
       "      <td>Republican</td>\n",
       "      <td>384</td>\n",
       "    </tr>\n",
       "  </tbody>\n",
       "</table>\n",
       "</div>"
      ],
      "text/plain": [
       "    City/Town  Precinct           Party Reg.Voters\n",
       "0  Barrington       101        Democrat        973\n",
       "1  Barrington       101      Republican        343\n",
       "2  Barrington       101    Unaffiliated        954\n",
       "3  Barrington       102        Democrat       1380\n",
       "4  Barrington       102      Republican        384"
      ]
     },
     "execution_count": 255,
     "metadata": {},
     "output_type": "execute_result"
    }
   ],
   "source": [
    "cols = ['City/Town','Precinct','Party','Reg.Voters']\n",
    "ri=ri[cols]\n",
    "\n",
    "ri.head()"
   ]
  },
  {
   "cell_type": "code",
   "execution_count": 262,
   "id": "actual-steal",
   "metadata": {},
   "outputs": [],
   "source": [
    "ri['STATE']='RI'\n",
    "ri_totals = ri.rename(columns={'City/Town':'DISTRICT', \n",
    "                                      'Precinct':'PRECINCT','Party':'PARTY','Reg.Voters':'VOTERS'})\n",
    "ri_totals = ri_totals[['STATE','PRECINCT','DISTRICT','PARTY','VOTERS']]\n",
    "#Note: RI has unique precinct numbers, so District is not needed.  \n",
    "#Leaving City/Town in its place for geographical purposes"
   ]
  },
  {
   "cell_type": "code",
   "execution_count": 263,
   "id": "novel-atlantic",
   "metadata": {},
   "outputs": [],
   "source": [
    "ri_totals['PARTY']=ri_totals['PARTY'].str.strip()\n",
    "ri_totals['PARTY'] = ri_totals['PARTY'].replace(['Republican','Democrat','Unaffiliated'],\n",
    "                                                      ['DEM','REP','OTH'])"
   ]
  },
  {
   "cell_type": "code",
   "execution_count": 270,
   "id": "recreational-medicine",
   "metadata": {},
   "outputs": [
    {
     "ename": "AttributeError",
     "evalue": "Can only use .str accessor with string values!",
     "output_type": "error",
     "traceback": [
      "\u001b[1;31m---------------------------------------------------------------------------\u001b[0m",
      "\u001b[1;31mAttributeError\u001b[0m                            Traceback (most recent call last)",
      "\u001b[1;32m<ipython-input-270-701861cd3931>\u001b[0m in \u001b[0;36m<module>\u001b[1;34m\u001b[0m\n\u001b[0;32m      1\u001b[0m \u001b[1;32mimport\u001b[0m \u001b[0mnumpy\u001b[0m \u001b[1;32mas\u001b[0m \u001b[0mnp\u001b[0m\u001b[1;33m\u001b[0m\u001b[1;33m\u001b[0m\u001b[0m\n\u001b[1;32m----> 2\u001b[1;33m \u001b[0mri_totals\u001b[0m\u001b[1;33m[\u001b[0m\u001b[1;34m'VOTERS'\u001b[0m\u001b[1;33m]\u001b[0m\u001b[1;33m=\u001b[0m\u001b[0mri_totals\u001b[0m\u001b[1;33m[\u001b[0m\u001b[1;34m'VOTERS'\u001b[0m\u001b[1;33m]\u001b[0m\u001b[1;33m.\u001b[0m\u001b[0mstr\u001b[0m\u001b[1;33m.\u001b[0m\u001b[0mstrip\u001b[0m\u001b[1;33m(\u001b[0m\u001b[1;33m)\u001b[0m\u001b[1;33m\u001b[0m\u001b[1;33m\u001b[0m\u001b[0m\n\u001b[0m\u001b[0;32m      3\u001b[0m \u001b[0mri_totals\u001b[0m\u001b[1;33m[\u001b[0m\u001b[1;34m'VOTERS'\u001b[0m\u001b[1;33m]\u001b[0m \u001b[1;33m=\u001b[0m \u001b[0mri_totals\u001b[0m\u001b[1;33m[\u001b[0m\u001b[1;34m'VOTERS'\u001b[0m\u001b[1;33m]\u001b[0m\u001b[1;33m.\u001b[0m\u001b[0mreplace\u001b[0m\u001b[1;33m(\u001b[0m\u001b[1;33m[\u001b[0m\u001b[1;34m'(Blank)'\u001b[0m\u001b[1;33m]\u001b[0m\u001b[1;33m,\u001b[0m\u001b[1;33m[\u001b[0m\u001b[0mnp\u001b[0m\u001b[1;33m.\u001b[0m\u001b[0mnan\u001b[0m\u001b[1;33m]\u001b[0m\u001b[1;33m)\u001b[0m\u001b[1;33m\u001b[0m\u001b[1;33m\u001b[0m\u001b[0m\n\u001b[0;32m      4\u001b[0m \u001b[0mri_totals\u001b[0m\u001b[1;33m[\u001b[0m\u001b[1;34m'VOTERS'\u001b[0m\u001b[1;33m]\u001b[0m\u001b[1;33m=\u001b[0m\u001b[0mpd\u001b[0m\u001b[1;33m.\u001b[0m\u001b[0mto_numeric\u001b[0m\u001b[1;33m(\u001b[0m\u001b[0mri_totals\u001b[0m\u001b[1;33m[\u001b[0m\u001b[1;34m'VOTERS'\u001b[0m\u001b[1;33m]\u001b[0m\u001b[1;33m)\u001b[0m\u001b[1;33m\u001b[0m\u001b[1;33m\u001b[0m\u001b[0m\n\u001b[0;32m      5\u001b[0m \u001b[0mri_totals\u001b[0m \u001b[1;33m=\u001b[0m \u001b[0mri_totals\u001b[0m\u001b[1;33m.\u001b[0m\u001b[0mdropna\u001b[0m\u001b[1;33m(\u001b[0m\u001b[1;33m)\u001b[0m\u001b[1;33m\u001b[0m\u001b[1;33m\u001b[0m\u001b[0m\n",
      "\u001b[1;32m~\\AppData\\Roaming\\Python\\Python38\\site-packages\\pandas\\core\\generic.py\u001b[0m in \u001b[0;36m__getattr__\u001b[1;34m(self, name)\u001b[0m\n\u001b[0;32m   5456\u001b[0m             \u001b[1;32mor\u001b[0m \u001b[0mname\u001b[0m \u001b[1;32min\u001b[0m \u001b[0mself\u001b[0m\u001b[1;33m.\u001b[0m\u001b[0m_accessors\u001b[0m\u001b[1;33m\u001b[0m\u001b[1;33m\u001b[0m\u001b[0m\n\u001b[0;32m   5457\u001b[0m         ):\n\u001b[1;32m-> 5458\u001b[1;33m             \u001b[1;32mreturn\u001b[0m \u001b[0mobject\u001b[0m\u001b[1;33m.\u001b[0m\u001b[0m__getattribute__\u001b[0m\u001b[1;33m(\u001b[0m\u001b[0mself\u001b[0m\u001b[1;33m,\u001b[0m \u001b[0mname\u001b[0m\u001b[1;33m)\u001b[0m\u001b[1;33m\u001b[0m\u001b[1;33m\u001b[0m\u001b[0m\n\u001b[0m\u001b[0;32m   5459\u001b[0m         \u001b[1;32melse\u001b[0m\u001b[1;33m:\u001b[0m\u001b[1;33m\u001b[0m\u001b[1;33m\u001b[0m\u001b[0m\n\u001b[0;32m   5460\u001b[0m             \u001b[1;32mif\u001b[0m \u001b[0mself\u001b[0m\u001b[1;33m.\u001b[0m\u001b[0m_info_axis\u001b[0m\u001b[1;33m.\u001b[0m\u001b[0m_can_hold_identifiers_and_holds_name\u001b[0m\u001b[1;33m(\u001b[0m\u001b[0mname\u001b[0m\u001b[1;33m)\u001b[0m\u001b[1;33m:\u001b[0m\u001b[1;33m\u001b[0m\u001b[1;33m\u001b[0m\u001b[0m\n",
      "\u001b[1;32m~\\AppData\\Roaming\\Python\\Python38\\site-packages\\pandas\\core\\accessor.py\u001b[0m in \u001b[0;36m__get__\u001b[1;34m(self, obj, cls)\u001b[0m\n\u001b[0;32m    178\u001b[0m             \u001b[1;31m# we're accessing the attribute of the class, i.e., Dataset.geo\u001b[0m\u001b[1;33m\u001b[0m\u001b[1;33m\u001b[0m\u001b[1;33m\u001b[0m\u001b[0m\n\u001b[0;32m    179\u001b[0m             \u001b[1;32mreturn\u001b[0m \u001b[0mself\u001b[0m\u001b[1;33m.\u001b[0m\u001b[0m_accessor\u001b[0m\u001b[1;33m\u001b[0m\u001b[1;33m\u001b[0m\u001b[0m\n\u001b[1;32m--> 180\u001b[1;33m         \u001b[0maccessor_obj\u001b[0m \u001b[1;33m=\u001b[0m \u001b[0mself\u001b[0m\u001b[1;33m.\u001b[0m\u001b[0m_accessor\u001b[0m\u001b[1;33m(\u001b[0m\u001b[0mobj\u001b[0m\u001b[1;33m)\u001b[0m\u001b[1;33m\u001b[0m\u001b[1;33m\u001b[0m\u001b[0m\n\u001b[0m\u001b[0;32m    181\u001b[0m         \u001b[1;31m# Replace the property with the accessor object. Inspired by:\u001b[0m\u001b[1;33m\u001b[0m\u001b[1;33m\u001b[0m\u001b[1;33m\u001b[0m\u001b[0m\n\u001b[0;32m    182\u001b[0m         \u001b[1;31m# https://www.pydanny.com/cached-property.html\u001b[0m\u001b[1;33m\u001b[0m\u001b[1;33m\u001b[0m\u001b[1;33m\u001b[0m\u001b[0m\n",
      "\u001b[1;32m~\\AppData\\Roaming\\Python\\Python38\\site-packages\\pandas\\core\\strings\\accessor.py\u001b[0m in \u001b[0;36m__init__\u001b[1;34m(self, data)\u001b[0m\n\u001b[0;32m    152\u001b[0m         \u001b[1;32mfrom\u001b[0m \u001b[0mpandas\u001b[0m\u001b[1;33m.\u001b[0m\u001b[0mcore\u001b[0m\u001b[1;33m.\u001b[0m\u001b[0marrays\u001b[0m\u001b[1;33m.\u001b[0m\u001b[0mstring_\u001b[0m \u001b[1;32mimport\u001b[0m \u001b[0mStringDtype\u001b[0m\u001b[1;33m\u001b[0m\u001b[1;33m\u001b[0m\u001b[0m\n\u001b[0;32m    153\u001b[0m \u001b[1;33m\u001b[0m\u001b[0m\n\u001b[1;32m--> 154\u001b[1;33m         \u001b[0mself\u001b[0m\u001b[1;33m.\u001b[0m\u001b[0m_inferred_dtype\u001b[0m \u001b[1;33m=\u001b[0m \u001b[0mself\u001b[0m\u001b[1;33m.\u001b[0m\u001b[0m_validate\u001b[0m\u001b[1;33m(\u001b[0m\u001b[0mdata\u001b[0m\u001b[1;33m)\u001b[0m\u001b[1;33m\u001b[0m\u001b[1;33m\u001b[0m\u001b[0m\n\u001b[0m\u001b[0;32m    155\u001b[0m         \u001b[0mself\u001b[0m\u001b[1;33m.\u001b[0m\u001b[0m_is_categorical\u001b[0m \u001b[1;33m=\u001b[0m \u001b[0mis_categorical_dtype\u001b[0m\u001b[1;33m(\u001b[0m\u001b[0mdata\u001b[0m\u001b[1;33m.\u001b[0m\u001b[0mdtype\u001b[0m\u001b[1;33m)\u001b[0m\u001b[1;33m\u001b[0m\u001b[1;33m\u001b[0m\u001b[0m\n\u001b[0;32m    156\u001b[0m         \u001b[0mself\u001b[0m\u001b[1;33m.\u001b[0m\u001b[0m_is_string\u001b[0m \u001b[1;33m=\u001b[0m \u001b[0misinstance\u001b[0m\u001b[1;33m(\u001b[0m\u001b[0mdata\u001b[0m\u001b[1;33m.\u001b[0m\u001b[0mdtype\u001b[0m\u001b[1;33m,\u001b[0m \u001b[0mStringDtype\u001b[0m\u001b[1;33m)\u001b[0m\u001b[1;33m\u001b[0m\u001b[1;33m\u001b[0m\u001b[0m\n",
      "\u001b[1;32m~\\AppData\\Roaming\\Python\\Python38\\site-packages\\pandas\\core\\strings\\accessor.py\u001b[0m in \u001b[0;36m_validate\u001b[1;34m(data)\u001b[0m\n\u001b[0;32m    215\u001b[0m \u001b[1;33m\u001b[0m\u001b[0m\n\u001b[0;32m    216\u001b[0m         \u001b[1;32mif\u001b[0m \u001b[0minferred_dtype\u001b[0m \u001b[1;32mnot\u001b[0m \u001b[1;32min\u001b[0m \u001b[0mallowed_types\u001b[0m\u001b[1;33m:\u001b[0m\u001b[1;33m\u001b[0m\u001b[1;33m\u001b[0m\u001b[0m\n\u001b[1;32m--> 217\u001b[1;33m             \u001b[1;32mraise\u001b[0m \u001b[0mAttributeError\u001b[0m\u001b[1;33m(\u001b[0m\u001b[1;34m\"Can only use .str accessor with string values!\"\u001b[0m\u001b[1;33m)\u001b[0m\u001b[1;33m\u001b[0m\u001b[1;33m\u001b[0m\u001b[0m\n\u001b[0m\u001b[0;32m    218\u001b[0m         \u001b[1;32mreturn\u001b[0m \u001b[0minferred_dtype\u001b[0m\u001b[1;33m\u001b[0m\u001b[1;33m\u001b[0m\u001b[0m\n\u001b[0;32m    219\u001b[0m \u001b[1;33m\u001b[0m\u001b[0m\n",
      "\u001b[1;31mAttributeError\u001b[0m: Can only use .str accessor with string values!"
     ]
    }
   ],
   "source": [
    "import numpy as np\n",
    "ri_totals['VOTERS']=ri_totals['VOTERS'].str.strip()\n",
    "ri_totals['VOTERS'] = ri_totals['VOTERS'].replace(['(Blank)'],[np.nan])\n",
    "ri_totals['VOTERS']=pd.to_numeric(ri_totals['VOTERS'])"
   ]
  },
  {
   "cell_type": "code",
   "execution_count": 273,
   "id": "elect-place",
   "metadata": {},
   "outputs": [],
   "source": [
    "ri_totals = ri_totals.dropna()\n",
    "# Inspo from: https://www.youtube.com/watch?v=iOurqfCJwy8\n",
    "# but I changed it so I didn't have to explicitly call the columns in the print statement\n",
    "\n",
    "l = []\n",
    "for col in ri_totals.columns:\n",
    "    x=(col)\n",
    "    l.append(x)\n",
    "\n",
    "with open('riinsert.sql','w'):\n",
    "    for index, row in ri_totals.iterrows():\n",
    "        print('INSERT INTO precinct'+'('+str(l).strip('[]')+') '+'VALUES('+\n",
    "              '\"'+str(row[str(l[0])])+'\", '+\n",
    "              '\"'+str(row[str(l[1])])+'\", '+\n",
    "              '\"'+str(row[str(l[2])])+'\", '+\n",
    "              '\"'+str(row[str(l[3])])+'\", '+\n",
    "              str(row[str(l[4])])+\n",
    "              ');',file=open('riinsert.sql','a'))\n",
    "\n",
    "#Adding the begin transactoin and commit lines to the original file\n",
    "with open('riinsert.sql', 'r') as original: data = original.read()\n",
    "with open('riinsert.sql', 'w') as modified: modified.write(\"BEGIN TRANSACTION;\\n\" + data + \"COMMIT;\")"
   ]
  },
  {
   "cell_type": "code",
   "execution_count": 272,
   "id": "precise-horror",
   "metadata": {},
   "outputs": [
    {
     "data": {
      "text/plain": [
       "STATE       0\n",
       "PRECINCT    0\n",
       "DISTRICT    0\n",
       "PARTY       0\n",
       "VOTERS      0\n",
       "dtype: int64"
      ]
     },
     "execution_count": 272,
     "metadata": {},
     "output_type": "execute_result"
    }
   ],
   "source": []
  }
 ],
 "metadata": {
  "kernelspec": {
   "display_name": "Python 3",
   "language": "python",
   "name": "python3"
  },
  "language_info": {
   "codemirror_mode": {
    "name": "ipython",
    "version": 3
   },
   "file_extension": ".py",
   "mimetype": "text/x-python",
   "name": "python",
   "nbconvert_exporter": "python",
   "pygments_lexer": "ipython3",
   "version": "3.8.5"
  }
 },
 "nbformat": 4,
 "nbformat_minor": 5
}
