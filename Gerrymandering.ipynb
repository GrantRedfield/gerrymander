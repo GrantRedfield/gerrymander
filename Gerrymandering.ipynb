{
 "cells": [
  {
   "cell_type": "code",
   "execution_count": null,
   "id": "overhead-company",
   "metadata": {},
   "outputs": [],
   "source": [
    "import opendatasets as od\n",
    "od.download(\"https://www.kaggle.com/jerimee/north-carolina-voter-file\")"
   ]
  },
  {
   "cell_type": "code",
   "execution_count": null,
   "id": "conceptual-october",
   "metadata": {},
   "outputs": [],
   "source": [
    "import pandas as pd\n",
    "\n",
    "nc = \"north-carolina-voter-file\\\\ncvoter_Statewide\\\\ncvoter_Statewide.txt\"\n",
    "nc = pd.read_csv(nc, delimiter = '\\t')"
   ]
  },
  {
   "cell_type": "code",
   "execution_count": null,
   "id": "hollow-conjunction",
   "metadata": {},
   "outputs": [],
   "source": [
    "for col in nc.columns:\n",
    "    print(col)"
   ]
  },
  {
   "cell_type": "code",
   "execution_count": null,
   "id": "sexual-seeking",
   "metadata": {},
   "outputs": [],
   "source": [
    "cols = ['cong_dist_abbrv',\n",
    "'party_cd',\n",
    "'status_cd',\n",
    "'precinct_abbrv']\n",
    "\n",
    "nc_voters = nc[cols]\n",
    "nc_voters.head()"
   ]
  },
  {
   "cell_type": "code",
   "execution_count": null,
   "id": "roman-bride",
   "metadata": {},
   "outputs": [],
   "source": [
    "nc_voters['party_cd'].unique()\n",
    "\n",
    "#NC Parties = Undeclared, Constitution, Democratic, Green, Libertarian and Republican\n",
    "#To match our other data, I'm changing to OTH, CONST, DEM, GRN, LBT, and REP\n",
    "\n",
    "nc_voters['party_cd'] = nc_voters['party_cd'].replace(['UNA','DEM','REP','LIB','GRE','CST'],\n",
    "                                                      ['OTH','DEM','REP','LBT','GRN','CONST'])"
   ]
  },
  {
   "cell_type": "code",
   "execution_count": null,
   "id": "still-immigration",
   "metadata": {},
   "outputs": [],
   "source": [
    "#keeping only active voters\n",
    "nc_voters = nc_voters[nc_voters['status_cd']=='A']\n",
    "nc_voters = nc_voters.drop(columns='status_cd', axis=1)"
   ]
  },
  {
   "cell_type": "code",
   "execution_count": null,
   "id": "celtic-cherry",
   "metadata": {},
   "outputs": [],
   "source": [
    "#Aggregate by county/precinct/party\n",
    "nc_totals = nc_voters.groupby(['cong_dist_abbrv', 'precinct_abbrv','party_cd']).size().reset_index(name='counts')"
   ]
  },
  {
   "cell_type": "code",
   "execution_count": null,
   "id": "polar-amount",
   "metadata": {},
   "outputs": [],
   "source": [
    "nc_totals['STATE']='NC'\n",
    "nc_totals.head()"
   ]
  },
  {
   "cell_type": "code",
   "execution_count": null,
   "id": "green-algorithm",
   "metadata": {},
   "outputs": [],
   "source": [
    "nc_totals = nc_totals.rename(columns={'cong_dist_abbrv':'DISTRICT', \n",
    "                                      'precinct_abbrv':'PRECINCT','party_cd':'PARTY','counts':'VOTERS'})\n",
    "nc_totals = nc_totals[['STATE','PRECINCT','DISTRICT','PARTY','VOTERS']]"
   ]
  },
  {
   "cell_type": "code",
   "execution_count": null,
   "id": "caring-guinea",
   "metadata": {},
   "outputs": [],
   "source": [
    "# Inspo from: https://www.youtube.com/watch?v=iOurqfCJwy8\n",
    "# but I changed it so I didn't have to explicitly call the columns in the print statement\n",
    "\n",
    "l = []\n",
    "for col in nc_totals.columns:\n",
    "    x=(col)\n",
    "    l.append(x)\n",
    "\n",
    "with open('ncinsert.sql','w'):\n",
    "    for index, row in nc_totals.iterrows():\n",
    "        print('INSERT INTO precinct'+'('+str(l).strip('[]')+') '+'VALUES('+\n",
    "              '\"'+str(row[str(l[0])])+'\", '+\n",
    "              '\"'+str(row[str(l[1])])+'\", '+\n",
    "              '\"'+str(row[str(l[2])])+'\", '+\n",
    "              '\"'+str(row[str(l[3])])+'\", '+\n",
    "              str(row[str(l[4])])+\n",
    "              ');',file=open('ncinsert.sql','a'))\n",
    "\n",
    "#Adding the begin transactoin and commit lines to the original file\n",
    "with open('ncinsert.sql', 'r') as original: data = original.read()\n",
    "with open('ncinsert.sql', 'w') as modified: modified.write(\"BEGIN TRANSACTION;\\n\" + data + \"COMMIT;\")"
   ]
  },
  {
   "cell_type": "code",
   "execution_count": null,
   "id": "behavioral-beijing",
   "metadata": {},
   "outputs": [],
   "source": [
    "ri = \"https://raw.githubusercontent.com/anita-uva/gerrymander/main/state-data/RI/ri.txt\"\n",
    "ri = pd.read_csv(ri, sep=\"      \", engine='python')"
   ]
  },
  {
   "cell_type": "code",
   "execution_count": null,
   "id": "independent-government",
   "metadata": {},
   "outputs": [],
   "source": [
    "for col in ri.columns:\n",
    "    print(col)"
   ]
  },
  {
   "cell_type": "code",
   "execution_count": null,
   "id": "banner-spending",
   "metadata": {},
   "outputs": [],
   "source": [
    "ri.columns = ri.columns.str.replace(' ', '')"
   ]
  },
  {
   "cell_type": "code",
   "execution_count": null,
   "id": "disturbed-coaching",
   "metadata": {},
   "outputs": [],
   "source": [
    "for col in ri.columns:\n",
    "    print(col)"
   ]
  },
  {
   "cell_type": "code",
   "execution_count": null,
   "id": "exempt-boating",
   "metadata": {},
   "outputs": [],
   "source": [
    "cols = ['City/Town','Precinct','Party','Reg.Voters']\n",
    "ri=ri[cols]\n",
    "\n",
    "ri.head()"
   ]
  },
  {
   "cell_type": "code",
   "execution_count": null,
   "id": "regional-custody",
   "metadata": {},
   "outputs": [],
   "source": [
    "ri['STATE']='RI'\n",
    "ri_totals = ri.rename(columns={'City/Town':'DISTRICT', \n",
    "                                      'Precinct':'PRECINCT','Party':'PARTY','Reg.Voters':'VOTERS'})\n",
    "ri_totals = ri_totals[['STATE','PRECINCT','DISTRICT','PARTY','VOTERS']]\n",
    "#Note: RI has unique precinct numbers, so District is not needed.  \n",
    "#Leaving City/Town in its place for geographical purposes"
   ]
  },
  {
   "cell_type": "code",
   "execution_count": null,
   "id": "subjective-fields",
   "metadata": {},
   "outputs": [],
   "source": [
    "ri_totals['PARTY']=ri_totals['PARTY'].str.strip()\n",
    "ri_totals['PARTY'] = ri_totals['PARTY'].replace(['Republican','Democrat','Unaffiliated'],\n",
    "                                                      ['DEM','REP','OTH'])"
   ]
  },
  {
   "cell_type": "code",
   "execution_count": null,
   "id": "horizontal-hunter",
   "metadata": {},
   "outputs": [],
   "source": [
    "import numpy as np\n",
    "ri_totals['VOTERS']=ri_totals['VOTERS'].str.strip()\n",
    "ri_totals['VOTERS'] = ri_totals['VOTERS'].replace(['(Blank)'],[np.nan])\n",
    "ri_totals['VOTERS']=pd.to_numeric(ri_totals['VOTERS'])"
   ]
  },
  {
   "cell_type": "code",
   "execution_count": null,
   "id": "convenient-football",
   "metadata": {},
   "outputs": [],
   "source": [
    "ri_totals = ri_totals.dropna()\n",
    "# Inspo from: https://www.youtube.com/watch?v=iOurqfCJwy8\n",
    "# but I changed it so I didn't have to explicitly call the columns in the print statement\n",
    "\n",
    "l = []\n",
    "for col in ri_totals.columns:\n",
    "    x=(col)\n",
    "    l.append(x)\n",
    "\n",
    "with open('riinsert.sql','w'):\n",
    "    for index, row in ri_totals.iterrows():\n",
    "        print('INSERT INTO precinct'+'('+str(l).strip('[]')+') '+'VALUES('+\n",
    "              '\"'+str(row[str(l[0])])+'\", '+\n",
    "              '\"'+str(row[str(l[1])])+'\", '+\n",
    "              '\"'+str(row[str(l[2])])+'\", '+\n",
    "              '\"'+str(row[str(l[3])])+'\", '+\n",
    "              str(row[str(l[4])])+\n",
    "              ');',file=open('riinsert.sql','a'))\n",
    "\n",
    "#Adding the begin transactoin and commit lines to the original file\n",
    "with open('riinsert.sql', 'r') as original: data = original.read()\n",
    "with open('riinsert.sql', 'w') as modified: modified.write(\"BEGIN TRANSACTION;\\n\" + data + \"COMMIT;\")"
   ]
  }
 ],
 "metadata": {
  "kernelspec": {
   "display_name": "Python 3",
   "language": "python",
   "name": "python3"
  },
  "language_info": {
   "codemirror_mode": {
    "name": "ipython",
    "version": 3
   },
   "file_extension": ".py",
   "mimetype": "text/x-python",
   "name": "python",
   "nbconvert_exporter": "python",
   "pygments_lexer": "ipython3",
   "version": "3.8.5"
  }
 },
 "nbformat": 4,
 "nbformat_minor": 5
}
